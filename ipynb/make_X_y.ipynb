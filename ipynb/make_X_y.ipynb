{
 "cells": [
  {
   "cell_type": "code",
   "execution_count": 1,
   "metadata": {},
   "outputs": [],
   "source": [
    "import pandas as pd\n",
    "from pathlib import Path"
   ]
  },
  {
   "cell_type": "code",
   "execution_count": 2,
   "metadata": {},
   "outputs": [],
   "source": [
    "# ラベル読み込み\n",
    "p = Path(\"./facebook/\")\n",
    "featnames_df = pd.DataFrame(columns=[\"file\", \"dim\", \"feat_name\", \"feat_id\"])\n",
    "for f in p.glob(\"*.featnames\"):\n",
    "    header = [\"dim\", \"feat_name\", \"feat_id\"]\n",
    "    df = pd.read_csv(f, header=None, names=header, sep=\" \", usecols=[0, 1, 3])\n",
    "    df[\"file\"] = int(f.stem)\n",
    "    df = df[[\"file\", \"dim\", \"feat_name\", \"feat_id\"]]\n",
    "    featnames_df = featnames_df.append(df, ignore_index=True)\n",
    "\n",
    "featnames_df = featnames_df.sort_values([\"file\", \"dim\"]).reset_index(drop=True)\n",
    "\n",
    "\n",
    "# 今回はfeat_id=77の\"gender;anonymized\"に着目\n",
    "df = featnames_df[(featnames_df[\"feat_id\"] == 77)]\n",
    "\n",
    "gender_feat = pd.DataFrame(columns=[\"id\", \"gender\"])\n",
    "\n",
    "for index, row in df.iterrows():\n",
    "    feat_df = pd.read_csv(p / Path(\"{}.feat\".format(row[\"file\"])), sep=\" \", header=None)\n",
    "    feat_df.columns = [\"id\"] + list(feat_df.columns)[:-1]\n",
    "    # id列 と 着目しているfeat_idに対応する列 のみを取り出す\n",
    "    feat_df = feat_df.loc[:, [\"id\", row[\"dim\"]]]\n",
    "    feat_df.columns = gender_feat.columns\n",
    "    gender_feat = gender_feat.append(feat_df, ignore_index=True)\n",
    "\n",
    "gender_feat = gender_feat.drop_duplicates().sort_values(\"id\").reset_index(drop=True)\n",
    "gender_feat = gender_feat.astype({\"id\": int, \"gender\": int})"
   ]
  },
  {
   "cell_type": "code",
   "execution_count": 3,
   "metadata": {},
   "outputs": [],
   "source": [
    "# node2vecで生成したベクトル読み込み\n",
    "vec_df = pd.read_csv(Path(\"n2v_out.emd\"), sep=\" \", header=None)\n",
    "vec_df.columns = [\"id\"] + list(vec_df.columns)[:-1]\n",
    "vec_df = vec_df.sort_values(\"id\").reset_index(drop=True)"
   ]
  },
  {
   "cell_type": "code",
   "execution_count": 4,
   "metadata": {},
   "outputs": [],
   "source": [
    "# ラベルとベクトルを結合\n",
    "X_y_df = pd.merge(gender_feat, vec_df, how=\"inner\", on=\"id\")\n",
    "\n",
    "X_y_df.to_csv(\"n2v_X_y.txt\", sep=\" \", index=False)"
   ]
  }
 ],
 "metadata": {
  "file_extension": ".py",
  "kernelspec": {
   "display_name": "Python 3",
   "language": "python",
   "name": "python3"
  },
  "language_info": {
   "codemirror_mode": {
    "name": "ipython",
    "version": 3
   },
   "file_extension": ".py",
   "mimetype": "text/x-python",
   "name": "python",
   "nbconvert_exporter": "python",
   "pygments_lexer": "ipython3",
   "version": "3.6.8"
  },
  "mimetype": "text/x-python",
  "name": "python",
  "npconvert_exporter": "python",
  "pygments_lexer": "ipython3",
  "version": 3
 },
 "nbformat": 4,
 "nbformat_minor": 2
}
