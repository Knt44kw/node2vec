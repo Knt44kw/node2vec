{
 "cells": [
  {
   "cell_type": "code",
   "execution_count": 1,
   "metadata": {
    "collapsed": true
   },
   "outputs": [],
   "source": [
    "from xgboost import XGBClassifier\n",
    "from sklearn.model_selection import train_test_split\n",
    "from sklearn.linear_model import LogisticRegression\n",
    "from sklearn.metrics import confusion_matrix, classification_report, accuracy_score\n",
    "from sklearn.model_selection import GridSearchCV\n",
    "from imblearn.over_sampling import RandomOverSampler\n",
    "import numpy as np\n",
    "import matplotlib.pyplot as plt\n",
    "import pandas as pd"
   ]
  },
  {
   "cell_type": "markdown",
   "metadata": {},
   "source": [
    "### 0〜5列目は\n",
    "id feat_13 feat_14 feat_15 feat_16 feat_18 "
   ]
  },
  {
   "cell_type": "code",
   "execution_count": 2,
   "metadata": {
    "collapsed": false
   },
   "outputs": [
    {
     "data": {
      "text/html": [
       "<div>\n",
       "<style scoped>\n",
       "    .dataframe tbody tr th:only-of-type {\n",
       "        vertical-align: middle;\n",
       "    }\n",
       "\n",
       "    .dataframe tbody tr th {\n",
       "        vertical-align: top;\n",
       "    }\n",
       "\n",
       "    .dataframe thead th {\n",
       "        text-align: right;\n",
       "    }\n",
       "</style>\n",
       "<table border=\"1\" class=\"dataframe\">\n",
       "  <thead>\n",
       "    <tr style=\"text-align: right;\">\n",
       "      <th></th>\n",
       "      <th>0</th>\n",
       "      <th>1</th>\n",
       "      <th>2</th>\n",
       "      <th>3</th>\n",
       "      <th>4</th>\n",
       "      <th>5</th>\n",
       "      <th>6</th>\n",
       "      <th>7</th>\n",
       "      <th>8</th>\n",
       "      <th>9</th>\n",
       "      <th>...</th>\n",
       "      <th>124</th>\n",
       "      <th>125</th>\n",
       "      <th>126</th>\n",
       "      <th>127</th>\n",
       "      <th>128</th>\n",
       "      <th>129</th>\n",
       "      <th>130</th>\n",
       "      <th>131</th>\n",
       "      <th>132</th>\n",
       "      <th>133</th>\n",
       "    </tr>\n",
       "  </thead>\n",
       "  <tbody>\n",
       "    <tr>\n",
       "      <th>0</th>\n",
       "      <td>1.0</td>\n",
       "      <td>0.0</td>\n",
       "      <td>0.0</td>\n",
       "      <td>0.0</td>\n",
       "      <td>0.0</td>\n",
       "      <td>0.0</td>\n",
       "      <td>-0.287548</td>\n",
       "      <td>-0.001427</td>\n",
       "      <td>-0.120090</td>\n",
       "      <td>-0.377493</td>\n",
       "      <td>...</td>\n",
       "      <td>0.080572</td>\n",
       "      <td>-0.088503</td>\n",
       "      <td>0.218645</td>\n",
       "      <td>0.172041</td>\n",
       "      <td>-0.322487</td>\n",
       "      <td>-0.420138</td>\n",
       "      <td>0.139752</td>\n",
       "      <td>0.382551</td>\n",
       "      <td>0.282420</td>\n",
       "      <td>-0.358664</td>\n",
       "    </tr>\n",
       "    <tr>\n",
       "      <th>1</th>\n",
       "      <td>2.0</td>\n",
       "      <td>0.0</td>\n",
       "      <td>0.0</td>\n",
       "      <td>0.0</td>\n",
       "      <td>0.0</td>\n",
       "      <td>0.0</td>\n",
       "      <td>0.040874</td>\n",
       "      <td>0.082870</td>\n",
       "      <td>0.134158</td>\n",
       "      <td>-0.353407</td>\n",
       "      <td>...</td>\n",
       "      <td>-0.258742</td>\n",
       "      <td>-0.127682</td>\n",
       "      <td>0.067486</td>\n",
       "      <td>0.388841</td>\n",
       "      <td>0.011226</td>\n",
       "      <td>-1.004405</td>\n",
       "      <td>-0.082768</td>\n",
       "      <td>0.401341</td>\n",
       "      <td>0.262858</td>\n",
       "      <td>-0.345512</td>\n",
       "    </tr>\n",
       "    <tr>\n",
       "      <th>2</th>\n",
       "      <td>3.0</td>\n",
       "      <td>0.0</td>\n",
       "      <td>1.0</td>\n",
       "      <td>0.0</td>\n",
       "      <td>0.0</td>\n",
       "      <td>0.0</td>\n",
       "      <td>-0.093957</td>\n",
       "      <td>0.159373</td>\n",
       "      <td>-0.011740</td>\n",
       "      <td>-0.490959</td>\n",
       "      <td>...</td>\n",
       "      <td>0.175396</td>\n",
       "      <td>-0.007743</td>\n",
       "      <td>0.130623</td>\n",
       "      <td>0.168703</td>\n",
       "      <td>-0.111257</td>\n",
       "      <td>-0.672268</td>\n",
       "      <td>0.048327</td>\n",
       "      <td>0.349718</td>\n",
       "      <td>0.120555</td>\n",
       "      <td>-0.387086</td>\n",
       "    </tr>\n",
       "    <tr>\n",
       "      <th>3</th>\n",
       "      <td>4.0</td>\n",
       "      <td>0.0</td>\n",
       "      <td>0.0</td>\n",
       "      <td>0.0</td>\n",
       "      <td>0.0</td>\n",
       "      <td>0.0</td>\n",
       "      <td>-0.184001</td>\n",
       "      <td>0.415718</td>\n",
       "      <td>0.209469</td>\n",
       "      <td>-0.261934</td>\n",
       "      <td>...</td>\n",
       "      <td>-0.003770</td>\n",
       "      <td>-0.452354</td>\n",
       "      <td>0.290476</td>\n",
       "      <td>0.146022</td>\n",
       "      <td>-0.368995</td>\n",
       "      <td>-0.654642</td>\n",
       "      <td>-0.465005</td>\n",
       "      <td>0.406181</td>\n",
       "      <td>0.359105</td>\n",
       "      <td>-0.201040</td>\n",
       "    </tr>\n",
       "    <tr>\n",
       "      <th>4</th>\n",
       "      <td>5.0</td>\n",
       "      <td>0.0</td>\n",
       "      <td>0.0</td>\n",
       "      <td>0.0</td>\n",
       "      <td>0.0</td>\n",
       "      <td>0.0</td>\n",
       "      <td>-0.288642</td>\n",
       "      <td>0.055733</td>\n",
       "      <td>-0.247007</td>\n",
       "      <td>-0.464414</td>\n",
       "      <td>...</td>\n",
       "      <td>0.215680</td>\n",
       "      <td>-0.109553</td>\n",
       "      <td>0.078936</td>\n",
       "      <td>0.136440</td>\n",
       "      <td>-0.227735</td>\n",
       "      <td>-0.460104</td>\n",
       "      <td>-0.042816</td>\n",
       "      <td>0.286819</td>\n",
       "      <td>0.266580</td>\n",
       "      <td>-0.418679</td>\n",
       "    </tr>\n",
       "  </tbody>\n",
       "</table>\n",
       "<p>5 rows × 134 columns</p>\n",
       "</div>"
      ],
      "text/plain": [
       "   0    1    2    3    4    5         6         7         8         9    ...  \\\n",
       "0  1.0  0.0  0.0  0.0  0.0  0.0 -0.287548 -0.001427 -0.120090 -0.377493  ...   \n",
       "1  2.0  0.0  0.0  0.0  0.0  0.0  0.040874  0.082870  0.134158 -0.353407  ...   \n",
       "2  3.0  0.0  1.0  0.0  0.0  0.0 -0.093957  0.159373 -0.011740 -0.490959  ...   \n",
       "3  4.0  0.0  0.0  0.0  0.0  0.0 -0.184001  0.415718  0.209469 -0.261934  ...   \n",
       "4  5.0  0.0  0.0  0.0  0.0  0.0 -0.288642  0.055733 -0.247007 -0.464414  ...   \n",
       "\n",
       "        124       125       126       127       128       129       130  \\\n",
       "0  0.080572 -0.088503  0.218645  0.172041 -0.322487 -0.420138  0.139752   \n",
       "1 -0.258742 -0.127682  0.067486  0.388841  0.011226 -1.004405 -0.082768   \n",
       "2  0.175396 -0.007743  0.130623  0.168703 -0.111257 -0.672268  0.048327   \n",
       "3 -0.003770 -0.452354  0.290476  0.146022 -0.368995 -0.654642 -0.465005   \n",
       "4  0.215680 -0.109553  0.078936  0.136440 -0.227735 -0.460104 -0.042816   \n",
       "\n",
       "        131       132       133  \n",
       "0  0.382551  0.282420 -0.358664  \n",
       "1  0.401341  0.262858 -0.345512  \n",
       "2  0.349718  0.120555 -0.387086  \n",
       "3  0.406181  0.359105 -0.201040  \n",
       "4  0.286819  0.266580 -0.418679  \n",
       "\n",
       "[5 rows x 134 columns]"
      ]
     },
     "execution_count": 2,
     "metadata": {},
     "output_type": "execute_result"
    }
   ],
   "source": [
    "data = np.loadtxt('../emb/n2v_X_y_concentration.txt')\n",
    "df = pd.DataFrame(data)\n",
    "df.head()"
   ]
  },
  {
   "cell_type": "code",
   "execution_count": 3,
   "metadata": {
    "collapsed": true
   },
   "outputs": [],
   "source": [
    "X = data[:, 6:]\n",
    "y_lst = [np.ravel(data[:, index:index+1].astype(np.int64)) for index in range(1, 6)]"
   ]
  },
  {
   "cell_type": "code",
   "execution_count": 4,
   "metadata": {
    "collapsed": false
   },
   "outputs": [
    {
     "name": "stdout",
     "output_type": "stream",
     "text": [
      "feat_13\n",
      "label 0 1082\n",
      "label 1 30\n",
      "\n",
      "feat_14\n",
      "label 0 983\n",
      "label 1 129\n",
      "\n",
      "feat_15\n",
      "label 0 1102\n",
      "label 1 10\n",
      "\n",
      "feat_16\n",
      "label 0 1094\n",
      "label 1 18\n",
      "\n",
      "feat_18\n",
      "label 0 1107\n",
      "label 1 5\n",
      "\n"
     ]
    }
   ],
   "source": [
    "feat_lst = [\"feat_13\", \"feat_14\", \"feat_15\", \"feat_16\", \"feat_18\"]\n",
    "#データの内訳表示用\n",
    "y_disp_lst = []\n",
    "for index, element in enumerate(feat_lst):\n",
    "    y_disp = np.ravel(data[:, index+1:index+2].astype(np.int64))\n",
    "    y_disp_lst.append(y_disp)\n",
    "    print(\"{}\".format(element))\n",
    "    print(\"label 0 {}\".format(X[y_disp_lst[index] == 0].shape[0]))\n",
    "    print(\"label 1 {}\\n\".format(X[y_disp_lst[index] == 1].shape[0]))"
   ]
  },
  {
   "cell_type": "markdown",
   "metadata": {},
   "source": [
    "### feat13"
   ]
  },
  {
   "cell_type": "code",
   "execution_count": 5,
   "metadata": {
    "collapsed": true
   },
   "outputs": [],
   "source": [
    "X_train, X_test, y_train, y_test = train_test_split(X, y_lst[0], test_size=0.2, random_state=0)\n",
    "ros = RandomOverSampler(random_state=0)\n",
    "X_train_ros, y_train_ros = ros.fit_sample(X_train, y_train)\n",
    "X_test_ros, y_test_ros = ros.fit_sample(X_test, y_test)"
   ]
  },
  {
   "cell_type": "code",
   "execution_count": 6,
   "metadata": {
    "collapsed": true
   },
   "outputs": [],
   "source": [
    "param_xgb = [\n",
    "    {\"learning_rate\": [0.05, 0.10, 0.15, 0.20], \"max_depth\":[i for i in range(3, 11)],\n",
    "    \"n_estimators\":[100, 250, 500, 750, 1000]}\n",
    "]"
   ]
  },
  {
   "cell_type": "code",
   "execution_count": 7,
   "metadata": {
    "collapsed": false
   },
   "outputs": [
    {
     "name": "stdout",
     "output_type": "stream",
     "text": [
      "Fitting 10 folds for each of 160 candidates, totalling 1600 fits\n"
     ]
    },
    {
     "name": "stderr",
     "output_type": "stream",
     "text": [
      "[Parallel(n_jobs=-1)]: Using backend LokyBackend with 8 concurrent workers.\n",
      "[Parallel(n_jobs=-1)]: Done   2 tasks      | elapsed:    3.1s\n",
      "[Parallel(n_jobs=-1)]: Done   9 tasks      | elapsed:    4.6s\n",
      "[Parallel(n_jobs=-1)]: Done  16 tasks      | elapsed:    7.1s\n",
      "[Parallel(n_jobs=-1)]: Done  25 tasks      | elapsed:   13.3s\n",
      "[Parallel(n_jobs=-1)]: Done  34 tasks      | elapsed:   21.0s\n",
      "[Parallel(n_jobs=-1)]: Done  45 tasks      | elapsed:   33.2s\n",
      "[Parallel(n_jobs=-1)]: Done  56 tasks      | elapsed:   36.9s\n",
      "[Parallel(n_jobs=-1)]: Done  69 tasks      | elapsed:   43.8s\n",
      "[Parallel(n_jobs=-1)]: Done  82 tasks      | elapsed:   55.1s\n",
      "[Parallel(n_jobs=-1)]: Done  97 tasks      | elapsed:  1.1min\n",
      "[Parallel(n_jobs=-1)]: Done 112 tasks      | elapsed:  1.3min\n",
      "[Parallel(n_jobs=-1)]: Done 129 tasks      | elapsed:  1.5min\n",
      "[Parallel(n_jobs=-1)]: Done 146 tasks      | elapsed:  1.8min\n",
      "[Parallel(n_jobs=-1)]: Done 165 tasks      | elapsed:  1.9min\n",
      "[Parallel(n_jobs=-1)]: Done 184 tasks      | elapsed:  2.2min\n",
      "[Parallel(n_jobs=-1)]: Done 205 tasks      | elapsed:  2.4min\n",
      "[Parallel(n_jobs=-1)]: Done 226 tasks      | elapsed:  2.6min\n",
      "[Parallel(n_jobs=-1)]: Done 249 tasks      | elapsed:  3.0min\n",
      "[Parallel(n_jobs=-1)]: Done 272 tasks      | elapsed:  3.2min\n",
      "[Parallel(n_jobs=-1)]: Done 297 tasks      | elapsed:  3.6min\n",
      "[Parallel(n_jobs=-1)]: Done 322 tasks      | elapsed:  3.9min\n",
      "[Parallel(n_jobs=-1)]: Done 349 tasks      | elapsed:  4.3min\n",
      "[Parallel(n_jobs=-1)]: Done 376 tasks      | elapsed:  4.5min\n",
      "[Parallel(n_jobs=-1)]: Done 405 tasks      | elapsed:  5.0min\n",
      "[Parallel(n_jobs=-1)]: Done 434 tasks      | elapsed:  5.2min\n",
      "[Parallel(n_jobs=-1)]: Done 465 tasks      | elapsed:  5.5min\n",
      "[Parallel(n_jobs=-1)]: Done 496 tasks      | elapsed:  5.8min\n",
      "[Parallel(n_jobs=-1)]: Done 529 tasks      | elapsed:  6.1min\n",
      "[Parallel(n_jobs=-1)]: Done 562 tasks      | elapsed:  6.4min\n",
      "[Parallel(n_jobs=-1)]: Done 597 tasks      | elapsed:  6.8min\n",
      "[Parallel(n_jobs=-1)]: Done 632 tasks      | elapsed:  7.1min\n",
      "[Parallel(n_jobs=-1)]: Done 669 tasks      | elapsed:  7.4min\n",
      "[Parallel(n_jobs=-1)]: Done 706 tasks      | elapsed:  7.8min\n",
      "[Parallel(n_jobs=-1)]: Done 745 tasks      | elapsed:  8.2min\n",
      "[Parallel(n_jobs=-1)]: Done 784 tasks      | elapsed:  8.5min\n",
      "[Parallel(n_jobs=-1)]: Done 825 tasks      | elapsed:  8.9min\n",
      "[Parallel(n_jobs=-1)]: Done 866 tasks      | elapsed:  9.2min\n",
      "[Parallel(n_jobs=-1)]: Done 909 tasks      | elapsed:  9.5min\n",
      "[Parallel(n_jobs=-1)]: Done 952 tasks      | elapsed:  9.9min\n",
      "[Parallel(n_jobs=-1)]: Done 997 tasks      | elapsed: 10.3min\n",
      "[Parallel(n_jobs=-1)]: Done 1042 tasks      | elapsed: 10.7min\n",
      "[Parallel(n_jobs=-1)]: Done 1089 tasks      | elapsed: 11.0min\n",
      "[Parallel(n_jobs=-1)]: Done 1136 tasks      | elapsed: 11.4min\n",
      "[Parallel(n_jobs=-1)]: Done 1185 tasks      | elapsed: 11.8min\n",
      "[Parallel(n_jobs=-1)]: Done 1234 tasks      | elapsed: 12.1min\n",
      "[Parallel(n_jobs=-1)]: Done 1285 tasks      | elapsed: 12.5min\n",
      "[Parallel(n_jobs=-1)]: Done 1336 tasks      | elapsed: 12.8min\n",
      "[Parallel(n_jobs=-1)]: Done 1389 tasks      | elapsed: 13.2min\n",
      "[Parallel(n_jobs=-1)]: Done 1442 tasks      | elapsed: 13.6min\n",
      "[Parallel(n_jobs=-1)]: Done 1497 tasks      | elapsed: 14.0min\n",
      "[Parallel(n_jobs=-1)]: Done 1552 tasks      | elapsed: 14.3min\n",
      "[Parallel(n_jobs=-1)]: Done 1600 out of 1600 | elapsed: 14.7min finished\n"
     ]
    }
   ],
   "source": [
    "xgb = XGBClassifier(seed=0)\n",
    "\n",
    "clf_xgb_ros = GridSearchCV(xgb, param_xgb, cv=10, n_jobs=-1,verbose=10)\n",
    "clf_xgb_ros.fit(X_train_ros, y_train_ros)\n",
    "y_pred_ros_xgb = clf_xgb_ros.predict(X_test_ros)"
   ]
  },
  {
   "cell_type": "code",
   "execution_count": 8,
   "metadata": {
    "collapsed": false
   },
   "outputs": [
    {
     "name": "stdout",
     "output_type": "stream",
     "text": [
      "accuracy xgb over sampled 0.5000\n",
      "              precision    recall  f1-score   support\n",
      "\n",
      "           0       0.50      1.00      0.67       217\n",
      "           1       0.00      0.00      0.00       217\n",
      "\n",
      "   micro avg       0.50      0.50      0.50       434\n",
      "   macro avg       0.25      0.50      0.33       434\n",
      "weighted avg       0.25      0.50      0.33       434\n",
      "\n",
      "confusion matrix xgb over sampled\n",
      "[[217   0]\n",
      " [217   0]]\n"
     ]
    },
    {
     "name": "stderr",
     "output_type": "stream",
     "text": [
      "/home/kento/anaconda3/lib/python3.6/site-packages/sklearn/metrics/classification.py:1143: UndefinedMetricWarning: Precision and F-score are ill-defined and being set to 0.0 in labels with no predicted samples.\n",
      "  'precision', 'predicted', average, warn_for)\n"
     ]
    }
   ],
   "source": [
    "print(\"accuracy xgb over sampled {:.4f}\".format(accuracy_score(y_test_ros, y_pred_ros_xgb)))\n",
    "print(\"{}\".format(classification_report(y_test_ros, y_pred_ros_xgb)))\n",
    "print(\"confusion matrix xgb over sampled\\n{}\".format(confusion_matrix(y_test_ros, y_pred_ros_xgb)))"
   ]
  },
  {
   "cell_type": "code",
   "execution_count": 9,
   "metadata": {
    "collapsed": true
   },
   "outputs": [],
   "source": [
    "lr = LogisticRegression(random_state=0)"
   ]
  },
  {
   "cell_type": "code",
   "execution_count": 10,
   "metadata": {
    "collapsed": true
   },
   "outputs": [],
   "source": [
    "param_lr = [\n",
    "    {\"penalty\": [\"l2\",\"l1\"], \"C\":[10**i for i in range(-3, 4)]}\n",
    "]"
   ]
  },
  {
   "cell_type": "code",
   "execution_count": 11,
   "metadata": {
    "collapsed": false
   },
   "outputs": [
    {
     "name": "stdout",
     "output_type": "stream",
     "text": [
      "Fitting 10 folds for each of 14 candidates, totalling 140 fits\n"
     ]
    },
    {
     "name": "stderr",
     "output_type": "stream",
     "text": [
      "[Parallel(n_jobs=-1)]: Using backend LokyBackend with 8 concurrent workers.\n",
      "[Parallel(n_jobs=-1)]: Batch computation too fast (0.1510s.) Setting batch_size=2.\n",
      "[Parallel(n_jobs=-1)]: Done   2 tasks      | elapsed:    0.2s\n",
      "[Parallel(n_jobs=-1)]: Done   9 tasks      | elapsed:    0.3s\n",
      "[Parallel(n_jobs=-1)]: Done  16 tasks      | elapsed:    0.4s\n",
      "[Parallel(n_jobs=-1)]: Done  34 tasks      | elapsed:    0.7s\n",
      "[Parallel(n_jobs=-1)]: Done  52 tasks      | elapsed:    1.2s\n",
      "[Parallel(n_jobs=-1)]: Done  74 tasks      | elapsed:    2.3s\n",
      "[Parallel(n_jobs=-1)]: Batch computation too slow (2.1558s.) Setting batch_size=1.\n",
      "[Parallel(n_jobs=-1)]: Done  96 tasks      | elapsed:    5.0s\n",
      "[Parallel(n_jobs=-1)]: Done 117 tasks      | elapsed:   53.9s\n",
      "[Parallel(n_jobs=-1)]: Done 125 out of 140 | elapsed:  2.2min remaining:   16.0s\n",
      "[Parallel(n_jobs=-1)]: Done 140 out of 140 | elapsed:  3.3min remaining:    0.0s\n",
      "[Parallel(n_jobs=-1)]: Done 140 out of 140 | elapsed:  3.3min finished\n",
      "/home/kento/anaconda3/lib/python3.6/site-packages/sklearn/linear_model/logistic.py:433: FutureWarning: Default solver will be changed to 'lbfgs' in 0.22. Specify a solver to silence this warning.\n",
      "  FutureWarning)\n",
      "/home/kento/anaconda3/lib/python3.6/site-packages/sklearn/svm/base.py:931: ConvergenceWarning: Liblinear failed to converge, increase the number of iterations.\n",
      "  \"the number of iterations.\", ConvergenceWarning)\n"
     ]
    }
   ],
   "source": [
    "clf_lr_ros = GridSearchCV(lr, param_lr, cv=10, n_jobs=-1, verbose=10)\n",
    "clf_lr_ros.fit(X_train_ros, y_train_ros)\n",
    "y_pred_ros_lr = clf_lr_ros.predict(X_test_ros)"
   ]
  },
  {
   "cell_type": "code",
   "execution_count": 12,
   "metadata": {
    "collapsed": false
   },
   "outputs": [
    {
     "name": "stdout",
     "output_type": "stream",
     "text": [
      "accuracy LR over sampled 0.5507\n",
      "              precision    recall  f1-score   support\n",
      "\n",
      "           0       0.53      0.96      0.68       217\n",
      "           1       0.79      0.14      0.24       217\n",
      "\n",
      "   micro avg       0.55      0.55      0.55       434\n",
      "   macro avg       0.66      0.55      0.46       434\n",
      "weighted avg       0.66      0.55      0.46       434\n",
      "\n",
      "confusion matrix LR over sampled \n",
      "[[209   8]\n",
      " [187  30]]\n"
     ]
    }
   ],
   "source": [
    "print(\"accuracy LR over sampled {:.4f}\".format(accuracy_score(y_test_ros, y_pred_ros_lr)))\n",
    "print(\"{}\".format(classification_report(y_test_ros, y_pred_ros_lr)))\n",
    "print(\"confusion matrix LR over sampled \\n{}\".format(confusion_matrix(y_test_ros, y_pred_ros_lr)))"
   ]
  },
  {
   "cell_type": "markdown",
   "metadata": {},
   "source": [
    "### feat14"
   ]
  },
  {
   "cell_type": "code",
   "execution_count": 13,
   "metadata": {
    "collapsed": true
   },
   "outputs": [],
   "source": [
    "X_train, X_test, y_train, y_test = train_test_split(X, y_lst[1], test_size=0.2, random_state=0)\n",
    "ros = RandomOverSampler(random_state=0)\n",
    "X_train_ros, y_train_ros = ros.fit_sample(X_train, y_train)\n",
    "X_test_ros, y_test_ros = ros.fit_sample(X_test, y_test)"
   ]
  },
  {
   "cell_type": "code",
   "execution_count": 14,
   "metadata": {
    "collapsed": false
   },
   "outputs": [
    {
     "name": "stderr",
     "output_type": "stream",
     "text": [
      "[Parallel(n_jobs=-1)]: Using backend LokyBackend with 8 concurrent workers.\n"
     ]
    },
    {
     "name": "stdout",
     "output_type": "stream",
     "text": [
      "Fitting 10 folds for each of 160 candidates, totalling 1600 fits\n"
     ]
    },
    {
     "name": "stderr",
     "output_type": "stream",
     "text": [
      "[Parallel(n_jobs=-1)]: Done   2 tasks      | elapsed:    1.3s\n",
      "[Parallel(n_jobs=-1)]: Done   9 tasks      | elapsed:    2.7s\n",
      "[Parallel(n_jobs=-1)]: Done  16 tasks      | elapsed:    4.8s\n",
      "[Parallel(n_jobs=-1)]: Done  25 tasks      | elapsed:   12.4s\n",
      "[Parallel(n_jobs=-1)]: Done  34 tasks      | elapsed:   21.9s\n",
      "[Parallel(n_jobs=-1)]: Done  45 tasks      | elapsed:   37.7s\n",
      "[Parallel(n_jobs=-1)]: Done  56 tasks      | elapsed:   42.9s\n",
      "[Parallel(n_jobs=-1)]: Done  69 tasks      | elapsed:   50.6s\n",
      "[Parallel(n_jobs=-1)]: Done  82 tasks      | elapsed:  1.1min\n",
      "[Parallel(n_jobs=-1)]: Done  97 tasks      | elapsed:  1.5min\n",
      "[Parallel(n_jobs=-1)]: Done 112 tasks      | elapsed:  1.6min\n",
      "[Parallel(n_jobs=-1)]: Done 129 tasks      | elapsed:  2.0min\n",
      "[Parallel(n_jobs=-1)]: Done 146 tasks      | elapsed:  2.4min\n",
      "[Parallel(n_jobs=-1)]: Done 165 tasks      | elapsed:  2.6min\n",
      "[Parallel(n_jobs=-1)]: Done 184 tasks      | elapsed:  3.1min\n",
      "[Parallel(n_jobs=-1)]: Done 205 tasks      | elapsed:  3.5min\n",
      "[Parallel(n_jobs=-1)]: Done 226 tasks      | elapsed:  3.8min\n",
      "[Parallel(n_jobs=-1)]: Done 249 tasks      | elapsed:  4.4min\n",
      "[Parallel(n_jobs=-1)]: Done 272 tasks      | elapsed:  4.8min\n",
      "[Parallel(n_jobs=-1)]: Done 297 tasks      | elapsed:  5.4min\n",
      "[Parallel(n_jobs=-1)]: Done 322 tasks      | elapsed:  5.8min\n",
      "[Parallel(n_jobs=-1)]: Done 349 tasks      | elapsed:  6.5min\n",
      "[Parallel(n_jobs=-1)]: Done 376 tasks      | elapsed:  6.9min\n",
      "[Parallel(n_jobs=-1)]: Done 405 tasks      | elapsed:  7.5min\n",
      "[Parallel(n_jobs=-1)]: Done 434 tasks      | elapsed:  7.9min\n",
      "[Parallel(n_jobs=-1)]: Done 465 tasks      | elapsed:  8.2min\n",
      "[Parallel(n_jobs=-1)]: Done 496 tasks      | elapsed:  8.8min\n",
      "[Parallel(n_jobs=-1)]: Done 529 tasks      | elapsed:  9.2min\n",
      "[Parallel(n_jobs=-1)]: Done 562 tasks      | elapsed:  9.7min\n",
      "[Parallel(n_jobs=-1)]: Done 597 tasks      | elapsed: 10.3min\n",
      "[Parallel(n_jobs=-1)]: Done 632 tasks      | elapsed: 10.8min\n",
      "[Parallel(n_jobs=-1)]: Done 669 tasks      | elapsed: 11.3min\n",
      "[Parallel(n_jobs=-1)]: Done 706 tasks      | elapsed: 12.0min\n",
      "[Parallel(n_jobs=-1)]: Done 745 tasks      | elapsed: 12.6min\n",
      "[Parallel(n_jobs=-1)]: Done 784 tasks      | elapsed: 13.1min\n",
      "[Parallel(n_jobs=-1)]: Done 825 tasks      | elapsed: 13.6min\n",
      "[Parallel(n_jobs=-1)]: Done 866 tasks      | elapsed: 14.1min\n",
      "[Parallel(n_jobs=-1)]: Done 909 tasks      | elapsed: 14.7min\n",
      "[Parallel(n_jobs=-1)]: Done 952 tasks      | elapsed: 15.3min\n",
      "[Parallel(n_jobs=-1)]: Done 997 tasks      | elapsed: 15.9min\n",
      "[Parallel(n_jobs=-1)]: Done 1042 tasks      | elapsed: 16.5min\n",
      "[Parallel(n_jobs=-1)]: Done 1089 tasks      | elapsed: 17.1min\n",
      "[Parallel(n_jobs=-1)]: Done 1136 tasks      | elapsed: 17.7min\n",
      "[Parallel(n_jobs=-1)]: Done 1185 tasks      | elapsed: 18.3min\n",
      "[Parallel(n_jobs=-1)]: Done 1234 tasks      | elapsed: 18.9min\n",
      "[Parallel(n_jobs=-1)]: Done 1285 tasks      | elapsed: 19.4min\n",
      "[Parallel(n_jobs=-1)]: Done 1336 tasks      | elapsed: 20.0min\n",
      "[Parallel(n_jobs=-1)]: Done 1389 tasks      | elapsed: 20.6min\n",
      "[Parallel(n_jobs=-1)]: Done 1442 tasks      | elapsed: 21.3min\n",
      "[Parallel(n_jobs=-1)]: Done 1497 tasks      | elapsed: 21.9min\n",
      "[Parallel(n_jobs=-1)]: Done 1552 tasks      | elapsed: 22.5min\n",
      "[Parallel(n_jobs=-1)]: Done 1600 out of 1600 | elapsed: 23.1min finished\n"
     ]
    }
   ],
   "source": [
    "clf_xgb_ros = GridSearchCV(xgb, param_xgb, cv=10, n_jobs=-1,verbose=10)\n",
    "clf_xgb_ros.fit(X_train_ros, y_train_ros)\n",
    "y_pred_ros_xgb = clf_xgb_ros.predict(X_test_ros)"
   ]
  },
  {
   "cell_type": "code",
   "execution_count": 15,
   "metadata": {
    "collapsed": false
   },
   "outputs": [
    {
     "name": "stdout",
     "output_type": "stream",
     "text": [
      "accuracy xgb over sampled 0.5871\n",
      "              precision    recall  f1-score   support\n",
      "\n",
      "           0       0.55      0.96      0.70       201\n",
      "           1       0.83      0.22      0.35       201\n",
      "\n",
      "   micro avg       0.59      0.59      0.59       402\n",
      "   macro avg       0.69      0.59      0.52       402\n",
      "weighted avg       0.69      0.59      0.52       402\n",
      "\n",
      "confusion matrix xgb over sampled\n",
      "[[192   9]\n",
      " [157  44]]\n"
     ]
    }
   ],
   "source": [
    "print(\"accuracy xgb over sampled {:.4f}\".format(accuracy_score(y_test_ros, y_pred_ros_xgb)))\n",
    "print(\"{}\".format(classification_report(y_test_ros, y_pred_ros_xgb)))\n",
    "print(\"confusion matrix xgb over sampled\\n{}\".format(confusion_matrix(y_test_ros, y_pred_ros_xgb)))"
   ]
  },
  {
   "cell_type": "code",
   "execution_count": 16,
   "metadata": {
    "collapsed": false
   },
   "outputs": [
    {
     "name": "stdout",
     "output_type": "stream",
     "text": [
      "Fitting 10 folds for each of 14 candidates, totalling 140 fits\n"
     ]
    },
    {
     "name": "stderr",
     "output_type": "stream",
     "text": [
      "[Parallel(n_jobs=-1)]: Using backend LokyBackend with 8 concurrent workers.\n",
      "[Parallel(n_jobs=-1)]: Batch computation too fast (0.0420s.) Setting batch_size=8.\n",
      "[Parallel(n_jobs=-1)]: Done   2 tasks      | elapsed:    0.0s\n",
      "[Parallel(n_jobs=-1)]: Done   9 tasks      | elapsed:    0.1s\n",
      "[Parallel(n_jobs=-1)]: Done  16 tasks      | elapsed:    0.4s\n",
      "[Parallel(n_jobs=-1)]: Done  80 out of 140 | elapsed:    3.5s remaining:    2.6s\n",
      "[Parallel(n_jobs=-1)]: Done 140 out of 140 | elapsed:  3.9min remaining:    0.0s\n",
      "[Parallel(n_jobs=-1)]: Done 140 out of 140 | elapsed:  3.9min finished\n",
      "/home/kento/anaconda3/lib/python3.6/site-packages/sklearn/linear_model/logistic.py:433: FutureWarning: Default solver will be changed to 'lbfgs' in 0.22. Specify a solver to silence this warning.\n",
      "  FutureWarning)\n",
      "/home/kento/anaconda3/lib/python3.6/site-packages/sklearn/svm/base.py:931: ConvergenceWarning: Liblinear failed to converge, increase the number of iterations.\n",
      "  \"the number of iterations.\", ConvergenceWarning)\n"
     ]
    }
   ],
   "source": [
    "clf_lr_ros = GridSearchCV(lr, param_lr, cv=10, n_jobs=-1, verbose=10)\n",
    "clf_lr_ros.fit(X_train_ros, y_train_ros)\n",
    "y_pred_ros_lr = clf_lr_ros.predict(X_test_ros)"
   ]
  },
  {
   "cell_type": "code",
   "execution_count": 17,
   "metadata": {
    "collapsed": false
   },
   "outputs": [
    {
     "name": "stdout",
     "output_type": "stream",
     "text": [
      "accuracy LR over sampled 0.6418\n",
      "              precision    recall  f1-score   support\n",
      "\n",
      "           0       0.61      0.81      0.69       201\n",
      "           1       0.71      0.48      0.57       201\n",
      "\n",
      "   micro avg       0.64      0.64      0.64       402\n",
      "   macro avg       0.66      0.64      0.63       402\n",
      "weighted avg       0.66      0.64      0.63       402\n",
      "\n",
      "confusion matrix LR over sampled \n",
      "[[162  39]\n",
      " [105  96]]\n"
     ]
    }
   ],
   "source": [
    "print(\"accuracy LR over sampled {:.4f}\".format(accuracy_score(y_test_ros, y_pred_ros_lr)))\n",
    "print(\"{}\".format(classification_report(y_test_ros, y_pred_ros_lr)))\n",
    "print(\"confusion matrix LR over sampled \\n{}\".format(confusion_matrix(y_test_ros, y_pred_ros_lr)))"
   ]
  },
  {
   "cell_type": "markdown",
   "metadata": {},
   "source": [
    "### feat15"
   ]
  },
  {
   "cell_type": "code",
   "execution_count": 18,
   "metadata": {
    "collapsed": true
   },
   "outputs": [],
   "source": [
    "X_train, X_test, y_train, y_test = train_test_split(X, y_lst[2], test_size=0.2, random_state=0)\n",
    "rus = RandomOverSampler(random_state=0)\n",
    "X_train_ros, y_train_ros = rus.fit_sample(X_train, y_train)\n",
    "X_test_ros, y_test_ros = rus.fit_sample(X_test, y_test)"
   ]
  },
  {
   "cell_type": "code",
   "execution_count": 19,
   "metadata": {
    "collapsed": false
   },
   "outputs": [
    {
     "name": "stderr",
     "output_type": "stream",
     "text": [
      "[Parallel(n_jobs=-1)]: Using backend LokyBackend with 8 concurrent workers.\n"
     ]
    },
    {
     "name": "stdout",
     "output_type": "stream",
     "text": [
      "Fitting 10 folds for each of 160 candidates, totalling 1600 fits\n"
     ]
    },
    {
     "name": "stderr",
     "output_type": "stream",
     "text": [
      "[Parallel(n_jobs=-1)]: Done   2 tasks      | elapsed:    1.2s\n",
      "[Parallel(n_jobs=-1)]: Done   9 tasks      | elapsed:    2.5s\n",
      "[Parallel(n_jobs=-1)]: Done  16 tasks      | elapsed:    3.7s\n",
      "[Parallel(n_jobs=-1)]: Done  25 tasks      | elapsed:    8.1s\n",
      "[Parallel(n_jobs=-1)]: Done  34 tasks      | elapsed:   12.1s\n",
      "[Parallel(n_jobs=-1)]: Done  45 tasks      | elapsed:   19.1s\n",
      "[Parallel(n_jobs=-1)]: Done  56 tasks      | elapsed:   21.2s\n",
      "[Parallel(n_jobs=-1)]: Done  69 tasks      | elapsed:   25.6s\n",
      "[Parallel(n_jobs=-1)]: Done  82 tasks      | elapsed:   31.2s\n",
      "[Parallel(n_jobs=-1)]: Done  97 tasks      | elapsed:   39.1s\n",
      "[Parallel(n_jobs=-1)]: Done 112 tasks      | elapsed:   43.1s\n",
      "[Parallel(n_jobs=-1)]: Done 129 tasks      | elapsed:   50.6s\n",
      "[Parallel(n_jobs=-1)]: Done 146 tasks      | elapsed:   59.5s\n",
      "[Parallel(n_jobs=-1)]: Done 165 tasks      | elapsed:  1.1min\n",
      "[Parallel(n_jobs=-1)]: Done 184 tasks      | elapsed:  1.2min\n",
      "[Parallel(n_jobs=-1)]: Done 205 tasks      | elapsed:  1.4min\n",
      "[Parallel(n_jobs=-1)]: Done 226 tasks      | elapsed:  1.5min\n",
      "[Parallel(n_jobs=-1)]: Done 249 tasks      | elapsed:  1.7min\n",
      "[Parallel(n_jobs=-1)]: Done 272 tasks      | elapsed:  1.8min\n",
      "[Parallel(n_jobs=-1)]: Done 297 tasks      | elapsed:  2.0min\n",
      "[Parallel(n_jobs=-1)]: Done 322 tasks      | elapsed:  2.2min\n",
      "[Parallel(n_jobs=-1)]: Done 349 tasks      | elapsed:  2.4min\n",
      "[Parallel(n_jobs=-1)]: Done 376 tasks      | elapsed:  2.5min\n",
      "[Parallel(n_jobs=-1)]: Done 405 tasks      | elapsed:  2.7min\n",
      "[Parallel(n_jobs=-1)]: Done 434 tasks      | elapsed:  2.8min\n",
      "[Parallel(n_jobs=-1)]: Done 465 tasks      | elapsed:  3.0min\n",
      "[Parallel(n_jobs=-1)]: Done 496 tasks      | elapsed:  3.2min\n",
      "[Parallel(n_jobs=-1)]: Done 529 tasks      | elapsed:  3.3min\n",
      "[Parallel(n_jobs=-1)]: Done 562 tasks      | elapsed:  3.5min\n",
      "[Parallel(n_jobs=-1)]: Done 597 tasks      | elapsed:  3.7min\n",
      "[Parallel(n_jobs=-1)]: Done 632 tasks      | elapsed:  3.8min\n",
      "[Parallel(n_jobs=-1)]: Done 669 tasks      | elapsed:  4.0min\n",
      "[Parallel(n_jobs=-1)]: Done 706 tasks      | elapsed:  4.2min\n",
      "[Parallel(n_jobs=-1)]: Done 745 tasks      | elapsed:  4.4min\n",
      "[Parallel(n_jobs=-1)]: Done 784 tasks      | elapsed:  4.6min\n",
      "[Parallel(n_jobs=-1)]: Done 825 tasks      | elapsed:  4.8min\n",
      "[Parallel(n_jobs=-1)]: Done 866 tasks      | elapsed:  5.0min\n",
      "[Parallel(n_jobs=-1)]: Done 909 tasks      | elapsed:  5.1min\n",
      "[Parallel(n_jobs=-1)]: Done 952 tasks      | elapsed:  5.4min\n",
      "[Parallel(n_jobs=-1)]: Done 997 tasks      | elapsed:  5.6min\n",
      "[Parallel(n_jobs=-1)]: Done 1042 tasks      | elapsed:  5.7min\n",
      "[Parallel(n_jobs=-1)]: Done 1089 tasks      | elapsed:  5.9min\n",
      "[Parallel(n_jobs=-1)]: Done 1136 tasks      | elapsed:  6.1min\n",
      "[Parallel(n_jobs=-1)]: Done 1185 tasks      | elapsed:  6.4min\n",
      "[Parallel(n_jobs=-1)]: Done 1234 tasks      | elapsed:  6.5min\n",
      "[Parallel(n_jobs=-1)]: Done 1285 tasks      | elapsed:  6.8min\n",
      "[Parallel(n_jobs=-1)]: Done 1336 tasks      | elapsed:  7.0min\n",
      "[Parallel(n_jobs=-1)]: Done 1389 tasks      | elapsed:  7.2min\n",
      "[Parallel(n_jobs=-1)]: Done 1442 tasks      | elapsed:  7.4min\n",
      "[Parallel(n_jobs=-1)]: Done 1497 tasks      | elapsed:  7.6min\n",
      "[Parallel(n_jobs=-1)]: Done 1552 tasks      | elapsed:  7.8min\n",
      "[Parallel(n_jobs=-1)]: Done 1600 out of 1600 | elapsed:  8.0min finished\n"
     ]
    }
   ],
   "source": [
    "clf_xgb_ros = GridSearchCV(xgb, param_xgb, cv=10, n_jobs=-1,verbose=10)\n",
    "clf_xgb_ros.fit(X_train_ros, y_train_ros)\n",
    "y_pred_ros_xgb = clf_xgb_ros.predict(X_test_ros)"
   ]
  },
  {
   "cell_type": "code",
   "execution_count": 20,
   "metadata": {
    "collapsed": false
   },
   "outputs": [
    {
     "name": "stdout",
     "output_type": "stream",
     "text": [
      "accuracy xgb over sampled 0.5000\n",
      "              precision    recall  f1-score   support\n",
      "\n",
      "           0       0.50      1.00      0.67       219\n",
      "           1       0.00      0.00      0.00       219\n",
      "\n",
      "   micro avg       0.50      0.50      0.50       438\n",
      "   macro avg       0.25      0.50      0.33       438\n",
      "weighted avg       0.25      0.50      0.33       438\n",
      "\n",
      "confusion matrix xgb over sampled\n",
      "[[219   0]\n",
      " [219   0]]\n"
     ]
    },
    {
     "name": "stderr",
     "output_type": "stream",
     "text": [
      "/home/kento/anaconda3/lib/python3.6/site-packages/sklearn/metrics/classification.py:1143: UndefinedMetricWarning: Precision and F-score are ill-defined and being set to 0.0 in labels with no predicted samples.\n",
      "  'precision', 'predicted', average, warn_for)\n"
     ]
    }
   ],
   "source": [
    "print(\"accuracy xgb over sampled {:.4f}\".format(accuracy_score(y_test_ros, y_pred_ros_xgb)))\n",
    "print(\"{}\".format(classification_report(y_test_ros, y_pred_ros_xgb)))\n",
    "print(\"confusion matrix xgb over sampled\\n{}\".format(confusion_matrix(y_test_ros, y_pred_ros_xgb)))"
   ]
  },
  {
   "cell_type": "code",
   "execution_count": 21,
   "metadata": {
    "collapsed": false
   },
   "outputs": [
    {
     "name": "stdout",
     "output_type": "stream",
     "text": [
      "Fitting 10 folds for each of 14 candidates, totalling 140 fits\n"
     ]
    },
    {
     "name": "stderr",
     "output_type": "stream",
     "text": [
      "[Parallel(n_jobs=-1)]: Using backend LokyBackend with 8 concurrent workers.\n",
      "[Parallel(n_jobs=-1)]: Batch computation too fast (0.0518s.) Setting batch_size=6.\n",
      "[Parallel(n_jobs=-1)]: Done   2 tasks      | elapsed:    0.1s\n",
      "[Parallel(n_jobs=-1)]: Done   9 tasks      | elapsed:    0.2s\n",
      "[Parallel(n_jobs=-1)]: Done  16 tasks      | elapsed:    0.4s\n",
      "[Parallel(n_jobs=-1)]: Done 110 out of 140 | elapsed:   12.4s remaining:    3.4s\n",
      "[Parallel(n_jobs=-1)]: Done 140 out of 140 | elapsed:   16.8s remaining:    0.0s\n",
      "[Parallel(n_jobs=-1)]: Done 140 out of 140 | elapsed:   16.8s finished\n",
      "/home/kento/anaconda3/lib/python3.6/site-packages/sklearn/linear_model/logistic.py:433: FutureWarning: Default solver will be changed to 'lbfgs' in 0.22. Specify a solver to silence this warning.\n",
      "  FutureWarning)\n"
     ]
    }
   ],
   "source": [
    "clf_lr_ros = GridSearchCV(lr, param_lr, cv=10, n_jobs=-1, verbose=10)\n",
    "clf_lr_ros.fit(X_train_ros, y_train_ros)\n",
    "y_pred_ros_lr = clf_lr_ros.predict(X_test_ros)"
   ]
  },
  {
   "cell_type": "code",
   "execution_count": 22,
   "metadata": {
    "collapsed": false
   },
   "outputs": [
    {
     "name": "stdout",
     "output_type": "stream",
     "text": [
      "accuracy LR over sampled 0.4932\n",
      "              precision    recall  f1-score   support\n",
      "\n",
      "           0       0.50      0.99      0.66       219\n",
      "           1       0.00      0.00      0.00       219\n",
      "\n",
      "   micro avg       0.49      0.49      0.49       438\n",
      "   macro avg       0.25      0.49      0.33       438\n",
      "weighted avg       0.25      0.49      0.33       438\n",
      "\n",
      "confusion matrix LR over sampled \n",
      "[[216   3]\n",
      " [219   0]]\n"
     ]
    }
   ],
   "source": [
    "print(\"accuracy LR over sampled {:.4f}\".format(accuracy_score(y_test_ros, y_pred_ros_lr)))\n",
    "print(\"{}\".format(classification_report(y_test_ros, y_pred_ros_lr)))\n",
    "print(\"confusion matrix LR over sampled \\n{}\".format(confusion_matrix(y_test_ros, y_pred_ros_lr)))"
   ]
  },
  {
   "cell_type": "markdown",
   "metadata": {},
   "source": [
    "### feat16"
   ]
  },
  {
   "cell_type": "code",
   "execution_count": 23,
   "metadata": {
    "collapsed": true
   },
   "outputs": [],
   "source": [
    "X_train, X_test, y_train, y_test = train_test_split(X, y_lst[3], test_size=0.2, random_state=0)\n",
    "ros = RandomOverSampler(random_state=0)\n",
    "X_train_ros, y_train_ros = ros.fit_sample(X_train, y_train)\n",
    "X_test_ros, y_test_ros = ros.fit_sample(X_test, y_test)"
   ]
  },
  {
   "cell_type": "code",
   "execution_count": 24,
   "metadata": {
    "collapsed": false
   },
   "outputs": [
    {
     "name": "stderr",
     "output_type": "stream",
     "text": [
      "[Parallel(n_jobs=-1)]: Using backend LokyBackend with 8 concurrent workers.\n"
     ]
    },
    {
     "name": "stdout",
     "output_type": "stream",
     "text": [
      "Fitting 10 folds for each of 160 candidates, totalling 1600 fits\n"
     ]
    },
    {
     "name": "stderr",
     "output_type": "stream",
     "text": [
      "[Parallel(n_jobs=-1)]: Done   2 tasks      | elapsed:    1.3s\n",
      "[Parallel(n_jobs=-1)]: Done   9 tasks      | elapsed:    2.5s\n",
      "[Parallel(n_jobs=-1)]: Done  16 tasks      | elapsed:    4.3s\n",
      "[Parallel(n_jobs=-1)]: Done  25 tasks      | elapsed:    9.9s\n",
      "[Parallel(n_jobs=-1)]: Done  34 tasks      | elapsed:   16.0s\n",
      "[Parallel(n_jobs=-1)]: Done  45 tasks      | elapsed:   26.3s\n",
      "[Parallel(n_jobs=-1)]: Done  56 tasks      | elapsed:   29.3s\n",
      "[Parallel(n_jobs=-1)]: Done  69 tasks      | elapsed:   34.6s\n",
      "[Parallel(n_jobs=-1)]: Done  82 tasks      | elapsed:   43.6s\n",
      "[Parallel(n_jobs=-1)]: Done  97 tasks      | elapsed:   55.2s\n",
      "[Parallel(n_jobs=-1)]: Done 112 tasks      | elapsed:  1.0min\n",
      "[Parallel(n_jobs=-1)]: Done 129 tasks      | elapsed:  1.2min\n",
      "[Parallel(n_jobs=-1)]: Done 146 tasks      | elapsed:  1.4min\n",
      "[Parallel(n_jobs=-1)]: Done 165 tasks      | elapsed:  1.5min\n",
      "[Parallel(n_jobs=-1)]: Done 184 tasks      | elapsed:  1.7min\n",
      "[Parallel(n_jobs=-1)]: Done 205 tasks      | elapsed:  1.9min\n",
      "[Parallel(n_jobs=-1)]: Done 226 tasks      | elapsed:  2.1min\n",
      "[Parallel(n_jobs=-1)]: Done 249 tasks      | elapsed:  2.4min\n",
      "[Parallel(n_jobs=-1)]: Done 272 tasks      | elapsed:  2.6min\n",
      "[Parallel(n_jobs=-1)]: Done 297 tasks      | elapsed:  2.9min\n",
      "[Parallel(n_jobs=-1)]: Done 322 tasks      | elapsed:  3.1min\n",
      "[Parallel(n_jobs=-1)]: Done 349 tasks      | elapsed:  3.4min\n",
      "[Parallel(n_jobs=-1)]: Done 376 tasks      | elapsed:  3.6min\n",
      "[Parallel(n_jobs=-1)]: Done 405 tasks      | elapsed:  3.9min\n",
      "[Parallel(n_jobs=-1)]: Done 434 tasks      | elapsed:  4.1min\n",
      "[Parallel(n_jobs=-1)]: Done 465 tasks      | elapsed:  4.3min\n",
      "[Parallel(n_jobs=-1)]: Done 496 tasks      | elapsed:  4.6min\n",
      "[Parallel(n_jobs=-1)]: Done 529 tasks      | elapsed:  4.8min\n",
      "[Parallel(n_jobs=-1)]: Done 562 tasks      | elapsed:  5.0min\n",
      "[Parallel(n_jobs=-1)]: Done 597 tasks      | elapsed:  5.3min\n",
      "[Parallel(n_jobs=-1)]: Done 632 tasks      | elapsed:  5.5min\n",
      "[Parallel(n_jobs=-1)]: Done 669 tasks      | elapsed:  5.8min\n",
      "[Parallel(n_jobs=-1)]: Done 706 tasks      | elapsed:  6.1min\n",
      "[Parallel(n_jobs=-1)]: Done 745 tasks      | elapsed:  6.4min\n",
      "[Parallel(n_jobs=-1)]: Done 784 tasks      | elapsed:  6.6min\n",
      "[Parallel(n_jobs=-1)]: Done 825 tasks      | elapsed:  6.9min\n",
      "[Parallel(n_jobs=-1)]: Done 866 tasks      | elapsed:  7.1min\n",
      "[Parallel(n_jobs=-1)]: Done 909 tasks      | elapsed:  7.4min\n",
      "[Parallel(n_jobs=-1)]: Done 952 tasks      | elapsed:  7.6min\n",
      "[Parallel(n_jobs=-1)]: Done 997 tasks      | elapsed:  7.9min\n",
      "[Parallel(n_jobs=-1)]: Done 1042 tasks      | elapsed:  8.1min\n",
      "[Parallel(n_jobs=-1)]: Done 1089 tasks      | elapsed:  8.4min\n",
      "[Parallel(n_jobs=-1)]: Done 1136 tasks      | elapsed:  8.7min\n",
      "[Parallel(n_jobs=-1)]: Done 1185 tasks      | elapsed:  9.0min\n",
      "[Parallel(n_jobs=-1)]: Done 1234 tasks      | elapsed:  9.2min\n",
      "[Parallel(n_jobs=-1)]: Done 1285 tasks      | elapsed:  9.5min\n",
      "[Parallel(n_jobs=-1)]: Done 1336 tasks      | elapsed:  9.8min\n",
      "[Parallel(n_jobs=-1)]: Done 1389 tasks      | elapsed: 10.0min\n",
      "[Parallel(n_jobs=-1)]: Done 1442 tasks      | elapsed: 10.3min\n",
      "[Parallel(n_jobs=-1)]: Done 1497 tasks      | elapsed: 10.6min\n",
      "[Parallel(n_jobs=-1)]: Done 1552 tasks      | elapsed: 10.9min\n",
      "[Parallel(n_jobs=-1)]: Done 1600 out of 1600 | elapsed: 11.1min finished\n"
     ]
    }
   ],
   "source": [
    "clf_xgb_ros = GridSearchCV(xgb, param_xgb, cv=10, n_jobs=-1,verbose=10)\n",
    "clf_xgb_ros.fit(X_train_ros, y_train_ros)\n",
    "y_pred_ros_xgb = clf_xgb_ros.predict(X_test_ros)"
   ]
  },
  {
   "cell_type": "code",
   "execution_count": 25,
   "metadata": {
    "collapsed": false
   },
   "outputs": [
    {
     "name": "stdout",
     "output_type": "stream",
     "text": [
      "accuracy xgb over sampled 0.4908\n",
      "              precision    recall  f1-score   support\n",
      "\n",
      "           0       0.50      0.98      0.66       217\n",
      "           1       0.00      0.00      0.00       217\n",
      "\n",
      "   micro avg       0.49      0.49      0.49       434\n",
      "   macro avg       0.25      0.49      0.33       434\n",
      "weighted avg       0.25      0.49      0.33       434\n",
      "\n",
      "confusion matrix xgb over sampled\n",
      "[[213   4]\n",
      " [217   0]]\n"
     ]
    }
   ],
   "source": [
    "print(\"accuracy xgb over sampled {:.4f}\".format(accuracy_score(y_test_ros, y_pred_ros_xgb)))\n",
    "print(\"{}\".format(classification_report(y_test_ros, y_pred_ros_xgb)))\n",
    "print(\"confusion matrix xgb over sampled\\n{}\".format(confusion_matrix(y_test_ros, y_pred_ros_xgb)))"
   ]
  },
  {
   "cell_type": "code",
   "execution_count": 26,
   "metadata": {
    "collapsed": false
   },
   "outputs": [
    {
     "name": "stdout",
     "output_type": "stream",
     "text": [
      "Fitting 10 folds for each of 14 candidates, totalling 140 fits\n"
     ]
    },
    {
     "name": "stderr",
     "output_type": "stream",
     "text": [
      "[Parallel(n_jobs=-1)]: Using backend LokyBackend with 8 concurrent workers.\n",
      "[Parallel(n_jobs=-1)]: Batch computation too fast (0.0677s.) Setting batch_size=4.\n",
      "[Parallel(n_jobs=-1)]: Done   2 tasks      | elapsed:    0.1s\n",
      "[Parallel(n_jobs=-1)]: Done   9 tasks      | elapsed:    0.2s\n",
      "[Parallel(n_jobs=-1)]: Done  16 tasks      | elapsed:    0.3s\n",
      "[Parallel(n_jobs=-1)]: Done  52 tasks      | elapsed:    1.3s\n",
      "[Parallel(n_jobs=-1)]: Done 140 out of 140 | elapsed:  1.7min remaining:    0.0s\n",
      "[Parallel(n_jobs=-1)]: Done 140 out of 140 | elapsed:  1.7min finished\n",
      "/home/kento/anaconda3/lib/python3.6/site-packages/sklearn/linear_model/logistic.py:433: FutureWarning: Default solver will be changed to 'lbfgs' in 0.22. Specify a solver to silence this warning.\n",
      "  FutureWarning)\n"
     ]
    }
   ],
   "source": [
    "clf_lr_ros = GridSearchCV(lr, param_lr, cv=10, n_jobs=-1, verbose=10)\n",
    "clf_lr_ros.fit(X_train_ros, y_train_ros)\n",
    "y_pred_ros_lr = clf_lr_ros.predict(X_test_ros)"
   ]
  },
  {
   "cell_type": "code",
   "execution_count": 27,
   "metadata": {
    "collapsed": false
   },
   "outputs": [
    {
     "name": "stdout",
     "output_type": "stream",
     "text": [
      "accuracy LR over sampled 0.5253\n",
      "              precision    recall  f1-score   support\n",
      "\n",
      "           0       0.51      0.91      0.66       217\n",
      "           1       0.61      0.14      0.23       217\n",
      "\n",
      "   micro avg       0.53      0.53      0.53       434\n",
      "   macro avg       0.56      0.53      0.44       434\n",
      "weighted avg       0.56      0.53      0.44       434\n",
      "\n",
      "confusion matrix LR over sampled \n",
      "[[198  19]\n",
      " [187  30]]\n"
     ]
    }
   ],
   "source": [
    "print(\"accuracy LR over sampled {:.4f}\".format(accuracy_score(y_test_ros, y_pred_ros_lr)))\n",
    "print(\"{}\".format(classification_report(y_test_ros, y_pred_ros_lr)))\n",
    "print(\"confusion matrix LR over sampled \\n{}\".format(confusion_matrix(y_test_ros, y_pred_ros_lr)))"
   ]
  },
  {
   "cell_type": "markdown",
   "metadata": {},
   "source": [
    "### feat18"
   ]
  },
  {
   "cell_type": "code",
   "execution_count": 28,
   "metadata": {
    "collapsed": true
   },
   "outputs": [],
   "source": [
    "X_train, X_test, y_train, y_test = train_test_split(X, y_lst[4], test_size=0.2, random_state=0)\n",
    "ros = RandomOverSampler(random_state=0)\n",
    "X_train_ros, y_train_ros = ros.fit_sample(X_train, y_train)\n",
    "X_test_ros, y_test_ros = ros.fit_sample(X_test, y_test)"
   ]
  },
  {
   "cell_type": "code",
   "execution_count": 29,
   "metadata": {
    "collapsed": false
   },
   "outputs": [
    {
     "name": "stdout",
     "output_type": "stream",
     "text": [
      "Fitting 10 folds for each of 160 candidates, totalling 1600 fits\n"
     ]
    },
    {
     "name": "stderr",
     "output_type": "stream",
     "text": [
      "[Parallel(n_jobs=-1)]: Using backend LokyBackend with 8 concurrent workers.\n",
      "[Parallel(n_jobs=-1)]: Done   2 tasks      | elapsed:    1.1s\n",
      "[Parallel(n_jobs=-1)]: Done   9 tasks      | elapsed:    2.1s\n",
      "[Parallel(n_jobs=-1)]: Done  16 tasks      | elapsed:    3.1s\n",
      "[Parallel(n_jobs=-1)]: Done  25 tasks      | elapsed:    6.6s\n",
      "[Parallel(n_jobs=-1)]: Done  34 tasks      | elapsed:    9.8s\n",
      "[Parallel(n_jobs=-1)]: Done  45 tasks      | elapsed:   15.2s\n",
      "[Parallel(n_jobs=-1)]: Done  56 tasks      | elapsed:   17.2s\n",
      "[Parallel(n_jobs=-1)]: Done  69 tasks      | elapsed:   20.8s\n",
      "[Parallel(n_jobs=-1)]: Done  82 tasks      | elapsed:   25.5s\n",
      "[Parallel(n_jobs=-1)]: Done  97 tasks      | elapsed:   32.0s\n",
      "[Parallel(n_jobs=-1)]: Done 112 tasks      | elapsed:   35.3s\n",
      "[Parallel(n_jobs=-1)]: Done 129 tasks      | elapsed:   40.7s\n",
      "[Parallel(n_jobs=-1)]: Done 146 tasks      | elapsed:   48.1s\n",
      "[Parallel(n_jobs=-1)]: Done 165 tasks      | elapsed:   52.2s\n",
      "[Parallel(n_jobs=-1)]: Done 184 tasks      | elapsed:   58.5s\n",
      "[Parallel(n_jobs=-1)]: Done 205 tasks      | elapsed:  1.1min\n",
      "[Parallel(n_jobs=-1)]: Done 226 tasks      | elapsed:  1.2min\n",
      "[Parallel(n_jobs=-1)]: Done 249 tasks      | elapsed:  1.4min\n",
      "[Parallel(n_jobs=-1)]: Done 272 tasks      | elapsed:  1.5min\n",
      "[Parallel(n_jobs=-1)]: Done 297 tasks      | elapsed:  1.6min\n",
      "[Parallel(n_jobs=-1)]: Done 322 tasks      | elapsed:  1.7min\n",
      "[Parallel(n_jobs=-1)]: Done 349 tasks      | elapsed:  1.9min\n",
      "[Parallel(n_jobs=-1)]: Done 376 tasks      | elapsed:  2.0min\n",
      "[Parallel(n_jobs=-1)]: Done 405 tasks      | elapsed:  2.2min\n",
      "[Parallel(n_jobs=-1)]: Done 434 tasks      | elapsed:  2.3min\n",
      "[Parallel(n_jobs=-1)]: Done 465 tasks      | elapsed:  2.4min\n",
      "[Parallel(n_jobs=-1)]: Done 496 tasks      | elapsed:  2.6min\n",
      "[Parallel(n_jobs=-1)]: Done 529 tasks      | elapsed:  2.7min\n",
      "[Parallel(n_jobs=-1)]: Done 562 tasks      | elapsed:  2.8min\n",
      "[Parallel(n_jobs=-1)]: Done 597 tasks      | elapsed:  3.0min\n",
      "[Parallel(n_jobs=-1)]: Done 632 tasks      | elapsed:  3.2min\n",
      "[Parallel(n_jobs=-1)]: Done 669 tasks      | elapsed:  3.3min\n",
      "[Parallel(n_jobs=-1)]: Done 706 tasks      | elapsed:  3.5min\n",
      "[Parallel(n_jobs=-1)]: Done 745 tasks      | elapsed:  3.7min\n",
      "[Parallel(n_jobs=-1)]: Done 784 tasks      | elapsed:  3.8min\n",
      "[Parallel(n_jobs=-1)]: Done 825 tasks      | elapsed:  4.0min\n",
      "[Parallel(n_jobs=-1)]: Done 866 tasks      | elapsed:  4.1min\n",
      "[Parallel(n_jobs=-1)]: Done 909 tasks      | elapsed:  4.3min\n",
      "[Parallel(n_jobs=-1)]: Done 952 tasks      | elapsed:  4.5min\n",
      "[Parallel(n_jobs=-1)]: Done 997 tasks      | elapsed:  4.6min\n",
      "[Parallel(n_jobs=-1)]: Done 1042 tasks      | elapsed:  4.8min\n",
      "[Parallel(n_jobs=-1)]: Done 1089 tasks      | elapsed:  5.0min\n",
      "[Parallel(n_jobs=-1)]: Done 1136 tasks      | elapsed:  5.2min\n",
      "[Parallel(n_jobs=-1)]: Done 1185 tasks      | elapsed:  5.3min\n",
      "[Parallel(n_jobs=-1)]: Done 1234 tasks      | elapsed:  5.5min\n",
      "[Parallel(n_jobs=-1)]: Done 1285 tasks      | elapsed:  5.7min\n",
      "[Parallel(n_jobs=-1)]: Done 1336 tasks      | elapsed:  5.9min\n",
      "[Parallel(n_jobs=-1)]: Done 1389 tasks      | elapsed:  6.1min\n",
      "[Parallel(n_jobs=-1)]: Done 1442 tasks      | elapsed:  6.3min\n",
      "[Parallel(n_jobs=-1)]: Done 1497 tasks      | elapsed:  6.5min\n",
      "[Parallel(n_jobs=-1)]: Done 1552 tasks      | elapsed:  6.7min\n",
      "[Parallel(n_jobs=-1)]: Done 1600 out of 1600 | elapsed:  6.9min finished\n"
     ]
    }
   ],
   "source": [
    "clf_xgb_ros = GridSearchCV(xgb, param_xgb, cv=10, n_jobs=-1,verbose=10)\n",
    "clf_xgb_ros.fit(X_train_ros, y_train_ros)\n",
    "y_pred_ros_xgb = clf_xgb_ros.predict(X_test_ros)"
   ]
  },
  {
   "cell_type": "code",
   "execution_count": 30,
   "metadata": {
    "collapsed": false
   },
   "outputs": [
    {
     "name": "stdout",
     "output_type": "stream",
     "text": [
      "accuracy xgb over sampled 0.5000\n",
      "              precision    recall  f1-score   support\n",
      "\n",
      "           0       0.50      1.00      0.67       221\n",
      "           1       0.00      0.00      0.00       221\n",
      "\n",
      "   micro avg       0.50      0.50      0.50       442\n",
      "   macro avg       0.25      0.50      0.33       442\n",
      "weighted avg       0.25      0.50      0.33       442\n",
      "\n",
      "confusion matrix xgb over sampled\n",
      "[[221   0]\n",
      " [221   0]]\n"
     ]
    },
    {
     "name": "stderr",
     "output_type": "stream",
     "text": [
      "/home/kento/anaconda3/lib/python3.6/site-packages/sklearn/metrics/classification.py:1143: UndefinedMetricWarning: Precision and F-score are ill-defined and being set to 0.0 in labels with no predicted samples.\n",
      "  'precision', 'predicted', average, warn_for)\n"
     ]
    }
   ],
   "source": [
    "print(\"accuracy xgb over sampled {:.4f}\".format(accuracy_score(y_test_ros, y_pred_ros_xgb)))\n",
    "print(\"{}\".format(classification_report(y_test_ros, y_pred_ros_xgb)))\n",
    "print(\"confusion matrix xgb over sampled\\n{}\".format(confusion_matrix(y_test_ros, y_pred_ros_xgb)))"
   ]
  },
  {
   "cell_type": "code",
   "execution_count": 31,
   "metadata": {
    "collapsed": false
   },
   "outputs": [
    {
     "name": "stdout",
     "output_type": "stream",
     "text": [
      "Fitting 10 folds for each of 14 candidates, totalling 140 fits\n"
     ]
    },
    {
     "name": "stderr",
     "output_type": "stream",
     "text": [
      "[Parallel(n_jobs=-1)]: Using backend LokyBackend with 8 concurrent workers.\n",
      "[Parallel(n_jobs=-1)]: Batch computation too fast (0.0499s.) Setting batch_size=8.\n",
      "[Parallel(n_jobs=-1)]: Done   2 tasks      | elapsed:    0.1s\n",
      "[Parallel(n_jobs=-1)]: Done   9 tasks      | elapsed:    0.1s\n",
      "[Parallel(n_jobs=-1)]: Done  16 tasks      | elapsed:    0.3s\n",
      "[Parallel(n_jobs=-1)]: Done  80 out of 140 | elapsed:    2.9s remaining:    2.1s\n",
      "[Parallel(n_jobs=-1)]: Done 140 out of 140 | elapsed:    6.5s remaining:    0.0s\n",
      "[Parallel(n_jobs=-1)]: Done 140 out of 140 | elapsed:    6.5s finished\n",
      "/home/kento/anaconda3/lib/python3.6/site-packages/sklearn/linear_model/logistic.py:433: FutureWarning: Default solver will be changed to 'lbfgs' in 0.22. Specify a solver to silence this warning.\n",
      "  FutureWarning)\n"
     ]
    }
   ],
   "source": [
    "clf_lr_ros = GridSearchCV(lr, param_lr, cv=10, n_jobs=-1, verbose=10)\n",
    "clf_lr_ros.fit(X_train_ros, y_train_ros)\n",
    "y_pred_ros_lr = clf_lr_ros.predict(X_test_ros)"
   ]
  },
  {
   "cell_type": "code",
   "execution_count": 32,
   "metadata": {
    "collapsed": false
   },
   "outputs": [
    {
     "name": "stdout",
     "output_type": "stream",
     "text": [
      "accuracy LR over sampled 0.4955\n",
      "              precision    recall  f1-score   support\n",
      "\n",
      "           0       0.50      0.99      0.66       221\n",
      "           1       0.00      0.00      0.00       221\n",
      "\n",
      "   micro avg       0.50      0.50      0.50       442\n",
      "   macro avg       0.25      0.50      0.33       442\n",
      "weighted avg       0.25      0.50      0.33       442\n",
      "\n",
      "confusion matrix LR over sampled \n",
      "[[219   2]\n",
      " [221   0]]\n"
     ]
    }
   ],
   "source": [
    "print(\"accuracy LR over sampled {:.4f}\".format(accuracy_score(y_test_ros, y_pred_ros_lr)))\n",
    "print(\"{}\".format(classification_report(y_test_ros, y_pred_ros_lr)))\n",
    "print(\"confusion matrix LR over sampled \\n{}\".format(confusion_matrix(y_test_ros, y_pred_ros_lr)))"
   ]
  }
 ],
 "metadata": {
  "kernelspec": {
   "display_name": "Python 3",
   "language": "python",
   "name": "python3"
  },
  "language_info": {
   "codemirror_mode": {
    "name": "ipython",
    "version": 3
   },
   "file_extension": ".py",
   "mimetype": "text/x-python",
   "name": "python",
   "nbconvert_exporter": "python",
   "pygments_lexer": "ipython3",
   "version": "3.6.3"
  }
 },
 "nbformat": 4,
 "nbformat_minor": 2
}
