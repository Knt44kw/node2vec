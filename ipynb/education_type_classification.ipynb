{
 "cells": [
  {
   "cell_type": "code",
   "execution_count": 1,
   "metadata": {
    "collapsed": true
   },
   "outputs": [],
   "source": [
    "from xgboost import XGBClassifier\n",
    "from sklearn.model_selection import train_test_split\n",
    "from sklearn.linear_model import LogisticRegression\n",
    "from sklearn.metrics import confusion_matrix, classification_report, accuracy_score\n",
    "from sklearn.model_selection import GridSearchCV\n",
    "from imblearn.under_sampling import RandomUnderSampler\n",
    "from imblearn.ensemble import BalancedBaggingClassifier\n",
    "import numpy as np\n",
    "import matplotlib.pyplot as plt\n",
    "import pandas as pd"
   ]
  },
  {
   "cell_type": "code",
   "execution_count": 2,
   "metadata": {
    "collapsed": false
   },
   "outputs": [
    {
     "data": {
      "text/html": [
       "<div>\n",
       "<style scoped>\n",
       "    .dataframe tbody tr th:only-of-type {\n",
       "        vertical-align: middle;\n",
       "    }\n",
       "\n",
       "    .dataframe tbody tr th {\n",
       "        vertical-align: top;\n",
       "    }\n",
       "\n",
       "    .dataframe thead th {\n",
       "        text-align: right;\n",
       "    }\n",
       "</style>\n",
       "<table border=\"1\" class=\"dataframe\">\n",
       "  <thead>\n",
       "    <tr style=\"text-align: right;\">\n",
       "      <th></th>\n",
       "      <th>0</th>\n",
       "      <th>1</th>\n",
       "      <th>2</th>\n",
       "      <th>3</th>\n",
       "      <th>4</th>\n",
       "      <th>5</th>\n",
       "      <th>6</th>\n",
       "      <th>7</th>\n",
       "      <th>8</th>\n",
       "      <th>9</th>\n",
       "      <th>...</th>\n",
       "      <th>122</th>\n",
       "      <th>123</th>\n",
       "      <th>124</th>\n",
       "      <th>125</th>\n",
       "      <th>126</th>\n",
       "      <th>127</th>\n",
       "      <th>128</th>\n",
       "      <th>129</th>\n",
       "      <th>130</th>\n",
       "      <th>131</th>\n",
       "    </tr>\n",
       "  </thead>\n",
       "  <tbody>\n",
       "    <tr>\n",
       "      <th>0</th>\n",
       "      <td>0.0</td>\n",
       "      <td>0.0</td>\n",
       "      <td>0.0</td>\n",
       "      <td>0.0</td>\n",
       "      <td>-0.063350</td>\n",
       "      <td>0.105774</td>\n",
       "      <td>0.151211</td>\n",
       "      <td>-0.390686</td>\n",
       "      <td>0.174236</td>\n",
       "      <td>-0.112463</td>\n",
       "      <td>...</td>\n",
       "      <td>0.012502</td>\n",
       "      <td>-0.273374</td>\n",
       "      <td>0.163978</td>\n",
       "      <td>-0.011858</td>\n",
       "      <td>-0.101687</td>\n",
       "      <td>-0.614817</td>\n",
       "      <td>-0.374594</td>\n",
       "      <td>0.316872</td>\n",
       "      <td>0.056657</td>\n",
       "      <td>-0.212233</td>\n",
       "    </tr>\n",
       "    <tr>\n",
       "      <th>1</th>\n",
       "      <td>1.0</td>\n",
       "      <td>0.0</td>\n",
       "      <td>0.0</td>\n",
       "      <td>0.0</td>\n",
       "      <td>-0.287548</td>\n",
       "      <td>-0.001427</td>\n",
       "      <td>-0.120090</td>\n",
       "      <td>-0.377493</td>\n",
       "      <td>0.215586</td>\n",
       "      <td>-0.093043</td>\n",
       "      <td>...</td>\n",
       "      <td>0.080572</td>\n",
       "      <td>-0.088503</td>\n",
       "      <td>0.218645</td>\n",
       "      <td>0.172041</td>\n",
       "      <td>-0.322487</td>\n",
       "      <td>-0.420138</td>\n",
       "      <td>0.139752</td>\n",
       "      <td>0.382551</td>\n",
       "      <td>0.282420</td>\n",
       "      <td>-0.358664</td>\n",
       "    </tr>\n",
       "    <tr>\n",
       "      <th>2</th>\n",
       "      <td>2.0</td>\n",
       "      <td>1.0</td>\n",
       "      <td>0.0</td>\n",
       "      <td>1.0</td>\n",
       "      <td>0.040874</td>\n",
       "      <td>0.082870</td>\n",
       "      <td>0.134158</td>\n",
       "      <td>-0.353407</td>\n",
       "      <td>0.069297</td>\n",
       "      <td>-0.076478</td>\n",
       "      <td>...</td>\n",
       "      <td>-0.258742</td>\n",
       "      <td>-0.127682</td>\n",
       "      <td>0.067486</td>\n",
       "      <td>0.388841</td>\n",
       "      <td>0.011226</td>\n",
       "      <td>-1.004405</td>\n",
       "      <td>-0.082768</td>\n",
       "      <td>0.401341</td>\n",
       "      <td>0.262858</td>\n",
       "      <td>-0.345512</td>\n",
       "    </tr>\n",
       "    <tr>\n",
       "      <th>3</th>\n",
       "      <td>3.0</td>\n",
       "      <td>1.0</td>\n",
       "      <td>0.0</td>\n",
       "      <td>1.0</td>\n",
       "      <td>-0.093957</td>\n",
       "      <td>0.159373</td>\n",
       "      <td>-0.011740</td>\n",
       "      <td>-0.490959</td>\n",
       "      <td>0.321027</td>\n",
       "      <td>-0.240256</td>\n",
       "      <td>...</td>\n",
       "      <td>0.175396</td>\n",
       "      <td>-0.007743</td>\n",
       "      <td>0.130623</td>\n",
       "      <td>0.168703</td>\n",
       "      <td>-0.111257</td>\n",
       "      <td>-0.672268</td>\n",
       "      <td>0.048327</td>\n",
       "      <td>0.349718</td>\n",
       "      <td>0.120555</td>\n",
       "      <td>-0.387086</td>\n",
       "    </tr>\n",
       "    <tr>\n",
       "      <th>4</th>\n",
       "      <td>4.0</td>\n",
       "      <td>1.0</td>\n",
       "      <td>0.0</td>\n",
       "      <td>1.0</td>\n",
       "      <td>-0.184001</td>\n",
       "      <td>0.415718</td>\n",
       "      <td>0.209469</td>\n",
       "      <td>-0.261934</td>\n",
       "      <td>0.027717</td>\n",
       "      <td>-0.241358</td>\n",
       "      <td>...</td>\n",
       "      <td>-0.003770</td>\n",
       "      <td>-0.452354</td>\n",
       "      <td>0.290476</td>\n",
       "      <td>0.146022</td>\n",
       "      <td>-0.368995</td>\n",
       "      <td>-0.654642</td>\n",
       "      <td>-0.465005</td>\n",
       "      <td>0.406181</td>\n",
       "      <td>0.359105</td>\n",
       "      <td>-0.201040</td>\n",
       "    </tr>\n",
       "  </tbody>\n",
       "</table>\n",
       "<p>5 rows × 132 columns</p>\n",
       "</div>"
      ],
      "text/plain": [
       "   0    1    2    3         4         5         6         7         8    \\\n",
       "0  0.0  0.0  0.0  0.0 -0.063350  0.105774  0.151211 -0.390686  0.174236   \n",
       "1  1.0  0.0  0.0  0.0 -0.287548 -0.001427 -0.120090 -0.377493  0.215586   \n",
       "2  2.0  1.0  0.0  1.0  0.040874  0.082870  0.134158 -0.353407  0.069297   \n",
       "3  3.0  1.0  0.0  1.0 -0.093957  0.159373 -0.011740 -0.490959  0.321027   \n",
       "4  4.0  1.0  0.0  1.0 -0.184001  0.415718  0.209469 -0.261934  0.027717   \n",
       "\n",
       "        9    ...       122       123       124       125       126       127  \\\n",
       "0 -0.112463  ...  0.012502 -0.273374  0.163978 -0.011858 -0.101687 -0.614817   \n",
       "1 -0.093043  ...  0.080572 -0.088503  0.218645  0.172041 -0.322487 -0.420138   \n",
       "2 -0.076478  ... -0.258742 -0.127682  0.067486  0.388841  0.011226 -1.004405   \n",
       "3 -0.240256  ...  0.175396 -0.007743  0.130623  0.168703 -0.111257 -0.672268   \n",
       "4 -0.241358  ... -0.003770 -0.452354  0.290476  0.146022 -0.368995 -0.654642   \n",
       "\n",
       "        128       129       130       131  \n",
       "0 -0.374594  0.316872  0.056657 -0.212233  \n",
       "1  0.139752  0.382551  0.282420 -0.358664  \n",
       "2 -0.082768  0.401341  0.262858 -0.345512  \n",
       "3  0.048327  0.349718  0.120555 -0.387086  \n",
       "4 -0.465005  0.406181  0.359105 -0.201040  \n",
       "\n",
       "[5 rows x 132 columns]"
      ]
     },
     "execution_count": 2,
     "metadata": {},
     "output_type": "execute_result"
    }
   ],
   "source": [
    "data = np.loadtxt('../emb/n2v_X_y_edutype.txt')\n",
    "df = pd.DataFrame(data)\n",
    "df.head()"
   ]
  },
  {
   "cell_type": "code",
   "execution_count": 3,
   "metadata": {
    "collapsed": true
   },
   "outputs": [],
   "source": [
    "X = data[:, 4:]\n",
    "y_lst = [np.ravel(data[:, index:index+1].astype(np.int64)) for index in range(1, 4)]"
   ]
  },
  {
   "cell_type": "code",
   "execution_count": 4,
   "metadata": {
    "collapsed": false
   },
   "outputs": [
    {
     "name": "stdout",
     "output_type": "stream",
     "text": [
      "formal education\n",
      "label 0 1236\n",
      "label 1 2806\n",
      "\n",
      "informal education\n",
      "label 0 2831\n",
      "label 1 1211\n",
      "\n",
      "Non-formal education\n",
      "label 0 1499\n",
      "label 1 2543\n",
      "\n"
     ]
    }
   ],
   "source": [
    "feat_lst = [\"formal education\", \"informal education\", \"Non-formal education\"]\n",
    "#データの内訳表示用\n",
    "y_disp_lst = []\n",
    "for index, element in enumerate(feat_lst):\n",
    "    y_disp = np.ravel(data[:, index+1:index+2].astype(np.int64))\n",
    "    y_disp_lst.append(y_disp)\n",
    "    print(\"{}\".format(element))\n",
    "    print(\"label 0 {}\".format(X[y_disp_lst[index] == 0].shape[0]))\n",
    "    print(\"label 1 {}\\n\".format(X[y_disp_lst[index] == 1].shape[0]))"
   ]
  },
  {
   "cell_type": "markdown",
   "metadata": {},
   "source": [
    "## 1. Formal education"
   ]
  },
  {
   "cell_type": "markdown",
   "metadata": {},
   "source": [
    "### 学習データ，テストデータともにアンダーサンプリング"
   ]
  },
  {
   "cell_type": "code",
   "execution_count": 5,
   "metadata": {
    "collapsed": true
   },
   "outputs": [],
   "source": [
    "X_train, X_test, y_train, y_test = train_test_split(X, y_lst[0], test_size=0.2, random_state=0)\n",
    "rus = RandomUnderSampler(random_state=0)\n",
    "X_train_rus, y_train_rus = rus.fit_sample(X_train, y_train)\n",
    "X_test_rus, y_test_rus = rus.fit_sample(X_test, y_test)"
   ]
  },
  {
   "cell_type": "code",
   "execution_count": 6,
   "metadata": {
    "collapsed": true
   },
   "outputs": [],
   "source": [
    "param_xgb = [\n",
    "    {\"learning_rate\": [0.05, 0.10, 0.15, 0.20], \"max_depth\":[i for i in range(3, 11)],\n",
    "    \"n_estimators\":[100, 250, 500, 750, 1000]}\n",
    "]"
   ]
  },
  {
   "cell_type": "code",
   "execution_count": 7,
   "metadata": {
    "collapsed": false
   },
   "outputs": [
    {
     "name": "stdout",
     "output_type": "stream",
     "text": [
      "Fitting 10 folds for each of 160 candidates, totalling 1600 fits\n"
     ]
    },
    {
     "name": "stderr",
     "output_type": "stream",
     "text": [
      "[Parallel(n_jobs=-1)]: Using backend LokyBackend with 8 concurrent workers.\n",
      "[Parallel(n_jobs=-1)]: Done   2 tasks      | elapsed:    4.2s\n",
      "[Parallel(n_jobs=-1)]: Done   9 tasks      | elapsed:    6.8s\n",
      "[Parallel(n_jobs=-1)]: Done  16 tasks      | elapsed:   10.9s\n",
      "[Parallel(n_jobs=-1)]: Done  25 tasks      | elapsed:   23.8s\n",
      "[Parallel(n_jobs=-1)]: Done  34 tasks      | elapsed:   40.6s\n",
      "[Parallel(n_jobs=-1)]: Done  45 tasks      | elapsed:  1.2min\n",
      "[Parallel(n_jobs=-1)]: Done  56 tasks      | elapsed:  1.3min\n",
      "[Parallel(n_jobs=-1)]: Done  69 tasks      | elapsed:  1.5min\n",
      "[Parallel(n_jobs=-1)]: Done  82 tasks      | elapsed:  2.1min\n",
      "[Parallel(n_jobs=-1)]: Done  97 tasks      | elapsed:  2.7min\n",
      "[Parallel(n_jobs=-1)]: Done 112 tasks      | elapsed:  3.0min\n",
      "[Parallel(n_jobs=-1)]: Done 129 tasks      | elapsed:  3.6min\n",
      "[Parallel(n_jobs=-1)]: Done 146 tasks      | elapsed:  4.6min\n",
      "[Parallel(n_jobs=-1)]: Done 165 tasks      | elapsed:  5.1min\n",
      "[Parallel(n_jobs=-1)]: Done 184 tasks      | elapsed:  6.0min\n",
      "[Parallel(n_jobs=-1)]: Done 205 tasks      | elapsed:  7.1min\n",
      "[Parallel(n_jobs=-1)]: Done 226 tasks      | elapsed:  7.9min\n",
      "[Parallel(n_jobs=-1)]: Done 249 tasks      | elapsed:  9.6min\n",
      "[Parallel(n_jobs=-1)]: Done 272 tasks      | elapsed: 10.5min\n",
      "[Parallel(n_jobs=-1)]: Done 297 tasks      | elapsed: 12.4min\n",
      "[Parallel(n_jobs=-1)]: Done 322 tasks      | elapsed: 13.5min\n",
      "[Parallel(n_jobs=-1)]: Done 349 tasks      | elapsed: 15.6min\n",
      "[Parallel(n_jobs=-1)]: Done 376 tasks      | elapsed: 16.9min\n",
      "[Parallel(n_jobs=-1)]: Done 405 tasks      | elapsed: 18.9min\n",
      "[Parallel(n_jobs=-1)]: Done 434 tasks      | elapsed: 19.7min\n",
      "[Parallel(n_jobs=-1)]: Done 465 tasks      | elapsed: 20.5min\n",
      "[Parallel(n_jobs=-1)]: Done 496 tasks      | elapsed: 21.7min\n",
      "[Parallel(n_jobs=-1)]: Done 529 tasks      | elapsed: 22.6min\n",
      "[Parallel(n_jobs=-1)]: Done 562 tasks      | elapsed: 23.9min\n",
      "[Parallel(n_jobs=-1)]: Done 597 tasks      | elapsed: 25.7min\n",
      "[Parallel(n_jobs=-1)]: Done 632 tasks      | elapsed: 27.2min\n",
      "[Parallel(n_jobs=-1)]: Done 669 tasks      | elapsed: 28.8min\n",
      "[Parallel(n_jobs=-1)]: Done 706 tasks      | elapsed: 31.0min\n",
      "[Parallel(n_jobs=-1)]: Done 745 tasks      | elapsed: 33.4min\n",
      "[Parallel(n_jobs=-1)]: Done 784 tasks      | elapsed: 35.3min\n",
      "[Parallel(n_jobs=-1)]: Done 825 tasks      | elapsed: 36.7min\n",
      "[Parallel(n_jobs=-1)]: Done 866 tasks      | elapsed: 37.8min\n",
      "[Parallel(n_jobs=-1)]: Done 909 tasks      | elapsed: 39.2min\n",
      "[Parallel(n_jobs=-1)]: Done 952 tasks      | elapsed: 40.9min\n",
      "[Parallel(n_jobs=-1)]: Done 997 tasks      | elapsed: 42.9min\n",
      "[Parallel(n_jobs=-1)]: Done 1042 tasks      | elapsed: 44.9min\n",
      "[Parallel(n_jobs=-1)]: Done 1089 tasks      | elapsed: 46.9min\n",
      "[Parallel(n_jobs=-1)]: Done 1136 tasks      | elapsed: 48.9min\n",
      "[Parallel(n_jobs=-1)]: Done 1185 tasks      | elapsed: 51.3min\n",
      "[Parallel(n_jobs=-1)]: Done 1234 tasks      | elapsed: 52.8min\n",
      "[Parallel(n_jobs=-1)]: Done 1285 tasks      | elapsed: 54.2min\n",
      "[Parallel(n_jobs=-1)]: Done 1336 tasks      | elapsed: 55.9min\n",
      "[Parallel(n_jobs=-1)]: Done 1389 tasks      | elapsed: 58.0min\n",
      "[Parallel(n_jobs=-1)]: Done 1442 tasks      | elapsed: 60.3min\n",
      "[Parallel(n_jobs=-1)]: Done 1497 tasks      | elapsed: 62.5min\n",
      "[Parallel(n_jobs=-1)]: Done 1552 tasks      | elapsed: 64.7min\n",
      "[Parallel(n_jobs=-1)]: Done 1600 out of 1600 | elapsed: 66.9min finished\n",
      "/home/kento/anaconda3/lib/python3.6/site-packages/sklearn/model_selection/_search.py:841: DeprecationWarning: The default of the `iid` parameter will change from True to False in version 0.22 and will be removed in 0.24. This will change numeric results when test-set sizes are unequal.\n",
      "  DeprecationWarning)\n"
     ]
    }
   ],
   "source": [
    "xgb = XGBClassifier(seed=0)\n",
    "\n",
    "clf_xgb_rus = GridSearchCV(xgb, param_xgb, cv=10, n_jobs=-1,verbose=10)\n",
    "clf_xgb_rus.fit(X_train_rus, y_train_rus)\n",
    "y_pred_rus_xgb = clf_xgb_rus.predict(X_test_r"
   ]
  },
  {
   "cell_type": "code",
   "execution_count": 8,
   "metadata": {
    "collapsed": false
   },
   "outputs": [
    {
     "name": "stdout",
     "output_type": "stream",
     "text": [
      "accuracy xgb under sampled 0.6280\n",
      "              precision    recall  f1-score   support\n",
      "\n",
      "           0       0.63      0.62      0.63       250\n",
      "           1       0.63      0.63      0.63       250\n",
      "\n",
      "   micro avg       0.63      0.63      0.63       500\n",
      "   macro avg       0.63      0.63      0.63       500\n",
      "weighted avg       0.63      0.63      0.63       500\n",
      "\n",
      "confusion matrix xgb under sampled\n",
      "[[156  94]\n",
      " [ 92 158]]\n"
     ]
    }
   ],
   "source": [
    "print(\"accuracy xgb under sampled {:.4f}\".format(accuracy_score(y_test_rus, y_pred_rus_xgb)))\n",
    "print(\"{}\".format(classification_report(y_test_rus, y_pred_rus_xgb)))\n",
    "print(\"confusion matrix xgb under sampled\\n{}\".format(confusion_matrix(y_test_rus, y_pred_rus_xgb)))"
   ]
  },
  {
   "cell_type": "code",
   "execution_count": 9,
   "metadata": {
    "collapsed": true
   },
   "outputs": [],
   "source": [
    "param_lr = [\n",
    "    {\"penalty\": [\"l1\",\"l2\"], \"C\":[10**i for i in range(-3, 4)]}\n",
    "]"
   ]
  },
  {
   "cell_type": "code",
   "execution_count": 10,
   "metadata": {
    "collapsed": false
   },
   "outputs": [
    {
     "name": "stdout",
     "output_type": "stream",
     "text": [
      "Fitting 10 folds for each of 14 candidates, totalling 140 fits\n"
     ]
    },
    {
     "name": "stderr",
     "output_type": "stream",
     "text": [
      "[Parallel(n_jobs=-1)]: Using backend LokyBackend with 8 concurrent workers.\n",
      "[Parallel(n_jobs=-1)]: Batch computation too fast (0.0828s.) Setting batch_size=4.\n",
      "[Parallel(n_jobs=-1)]: Done   2 tasks      | elapsed:    0.1s\n",
      "[Parallel(n_jobs=-1)]: Done   9 tasks      | elapsed:    0.2s\n",
      "[Parallel(n_jobs=-1)]: Done  16 tasks      | elapsed:    0.4s\n",
      "[Parallel(n_jobs=-1)]: Done  52 tasks      | elapsed:    1.3s\n",
      "[Parallel(n_jobs=-1)]: Batch computation too slow (2.0591s.) Setting batch_size=2.\n",
      "[Parallel(n_jobs=-1)]: Done 140 out of 140 | elapsed:  1.8min remaining:    0.0s\n",
      "[Parallel(n_jobs=-1)]: Done 140 out of 140 | elapsed:  1.8min finished\n",
      "/home/kento/anaconda3/lib/python3.6/site-packages/sklearn/linear_model/logistic.py:433: FutureWarning: Default solver will be changed to 'lbfgs' in 0.22. Specify a solver to silence this warning.\n",
      "  FutureWarning)\n"
     ]
    }
   ],
   "source": [
    "lr = LogisticRegression(random_state=0)\n",
    "\n",
    "clf_lr_rus = GridSearchCV(lr, param_lr, cv=10, n_jobs=-1, verbose=10)\n",
    "clf_lr_rus.fit(X_train_rus, y_train_rus)\n",
    "y_pred_rus_lr = clf_lr_rus.predict(X_test_rus)"
   ]
  },
  {
   "cell_type": "code",
   "execution_count": 11,
   "metadata": {
    "collapsed": false
   },
   "outputs": [
    {
     "name": "stdout",
     "output_type": "stream",
     "text": [
      "accuracy LR under sampled 0.6520\n",
      "              precision    recall  f1-score   support\n",
      "\n",
      "           0       0.66      0.63      0.64       250\n",
      "           1       0.65      0.67      0.66       250\n",
      "\n",
      "   micro avg       0.65      0.65      0.65       500\n",
      "   macro avg       0.65      0.65      0.65       500\n",
      "weighted avg       0.65      0.65      0.65       500\n",
      "\n",
      "confusion matrix LR under sampled \n",
      "[[158  92]\n",
      " [ 82 168]]\n"
     ]
    }
   ],
   "source": [
    "print(\"accuracy LR under sampled {:.4f}\".format(accuracy_score(y_test_rus, y_pred_rus_lr)))\n",
    "print(\"{}\".format(classification_report(y_test_rus, y_pred_rus_lr)))\n",
    "print(\"confusion matrix LR under sampled \\n{}\".format(confusion_matrix(y_test_rus, y_pred_rus_lr)))"
   ]
  },
  {
   "cell_type": "markdown",
   "metadata": {},
   "source": [
    "### 学習データをバギング+アンダーサンプリング テストデータをアンダーサンプリング "
   ]
  },
  {
   "cell_type": "code",
   "execution_count": 12,
   "metadata": {
    "collapsed": true
   },
   "outputs": [],
   "source": [
    "param_xgb_bbc = [\n",
    "    {\"base_estimator__learning_rate\": [0.05, 0.10, 0.15, 0.20], \"base_estimator__max_depth\":[i for i in range(3, 11)],\n",
    "    \"base_estimator__n_estimators\":[100, 250, 500, 750, 1000]}\n",
    "]"
   ]
  },
  {
   "cell_type": "code",
   "execution_count": 13,
   "metadata": {
    "collapsed": false
   },
   "outputs": [
    {
     "name": "stderr",
     "output_type": "stream",
     "text": [
      "[Parallel(n_jobs=-1)]: Using backend LokyBackend with 8 concurrent workers.\n"
     ]
    },
    {
     "name": "stdout",
     "output_type": "stream",
     "text": [
      "Fitting 10 folds for each of 160 candidates, totalling 1600 fits\n"
     ]
    },
    {
     "name": "stderr",
     "output_type": "stream",
     "text": [
      "[Parallel(n_jobs=-1)]: Done   2 tasks      | elapsed:   20.8s\n",
      "[Parallel(n_jobs=-1)]: Done   9 tasks      | elapsed:   50.5s\n",
      "[Parallel(n_jobs=-1)]: Done  16 tasks      | elapsed:  1.3min\n",
      "/home/kento/anaconda3/lib/python3.6/site-packages/sklearn/externals/joblib/externals/loky/process_executor.py:706: UserWarning: A worker stopped while some jobs were given to the executor. This can be caused by a too short worker timeout or by a memory leak.\n",
      "  \"timeout or by a memory leak.\", UserWarning\n",
      "[Parallel(n_jobs=-1)]: Done  25 tasks      | elapsed:  3.4min\n",
      "[Parallel(n_jobs=-1)]: Done  34 tasks      | elapsed:  6.2min\n",
      "[Parallel(n_jobs=-1)]: Done  45 tasks      | elapsed: 10.5min\n",
      "[Parallel(n_jobs=-1)]: Done  56 tasks      | elapsed: 11.6min\n",
      "[Parallel(n_jobs=-1)]: Done  69 tasks      | elapsed: 13.8min\n",
      "[Parallel(n_jobs=-1)]: Done  82 tasks      | elapsed: 18.6min\n",
      "[Parallel(n_jobs=-1)]: Done  97 tasks      | elapsed: 25.0min\n",
      "[Parallel(n_jobs=-1)]: Done 112 tasks      | elapsed: 27.3min\n",
      "[Parallel(n_jobs=-1)]: Done 129 tasks      | elapsed: 33.5min\n",
      "[Parallel(n_jobs=-1)]: Done 146 tasks      | elapsed: 42.2min\n",
      "[Parallel(n_jobs=-1)]: Done 165 tasks      | elapsed: 45.9min\n",
      "[Parallel(n_jobs=-1)]: Done 184 tasks      | elapsed: 54.7min\n",
      "[Parallel(n_jobs=-1)]: Done 205 tasks      | elapsed: 64.7min\n",
      "[Parallel(n_jobs=-1)]: Done 226 tasks      | elapsed: 72.1min\n",
      "[Parallel(n_jobs=-1)]: Done 249 tasks      | elapsed: 86.9min\n",
      "[Parallel(n_jobs=-1)]: Done 272 tasks      | elapsed: 94.8min\n",
      "[Parallel(n_jobs=-1)]: Done 297 tasks      | elapsed: 111.6min\n",
      "[Parallel(n_jobs=-1)]: Done 322 tasks      | elapsed: 120.6min\n",
      "[Parallel(n_jobs=-1)]: Done 349 tasks      | elapsed: 138.6min\n",
      "[Parallel(n_jobs=-1)]: Done 376 tasks      | elapsed: 149.1min\n",
      "[Parallel(n_jobs=-1)]: Done 405 tasks      | elapsed: 165.6min\n",
      "[Parallel(n_jobs=-1)]: Done 434 tasks      | elapsed: 172.4min\n",
      "[Parallel(n_jobs=-1)]: Done 465 tasks      | elapsed: 178.8min\n",
      "[Parallel(n_jobs=-1)]: Done 496 tasks      | elapsed: 190.3min\n",
      "[Parallel(n_jobs=-1)]: Done 529 tasks      | elapsed: 199.3min\n",
      "[Parallel(n_jobs=-1)]: Done 562 tasks      | elapsed: 210.5min\n",
      "[Parallel(n_jobs=-1)]: Done 597 tasks      | elapsed: 227.0min\n",
      "[Parallel(n_jobs=-1)]: Done 632 tasks      | elapsed: 238.7min\n",
      "[Parallel(n_jobs=-1)]: Done 669 tasks      | elapsed: 253.0min\n",
      "[Parallel(n_jobs=-1)]: Done 706 tasks      | elapsed: 270.1min\n",
      "[Parallel(n_jobs=-1)]: Done 745 tasks      | elapsed: 289.6min\n",
      "[Parallel(n_jobs=-1)]: Done 784 tasks      | elapsed: 304.7min\n",
      "[Parallel(n_jobs=-1)]: Done 825 tasks      | elapsed: 315.6min\n",
      "[Parallel(n_jobs=-1)]: Done 866 tasks      | elapsed: 325.1min\n",
      "[Parallel(n_jobs=-1)]: Done 909 tasks      | elapsed: 338.8min\n",
      "[Parallel(n_jobs=-1)]: Done 952 tasks      | elapsed: 354.1min\n",
      "[Parallel(n_jobs=-1)]: Done 997 tasks      | elapsed: 370.9min\n",
      "[Parallel(n_jobs=-1)]: Done 1042 tasks      | elapsed: 387.4min\n",
      "[Parallel(n_jobs=-1)]: Done 1089 tasks      | elapsed: 404.0min\n",
      "[Parallel(n_jobs=-1)]: Done 1136 tasks      | elapsed: 420.2min\n",
      "[Parallel(n_jobs=-1)]: Done 1185 tasks      | elapsed: 438.8min\n",
      "[Parallel(n_jobs=-1)]: Done 1234 tasks      | elapsed: 451.3min\n",
      "[Parallel(n_jobs=-1)]: Done 1285 tasks      | elapsed: 464.2min\n",
      "[Parallel(n_jobs=-1)]: Done 1336 tasks      | elapsed: 479.0min\n",
      "[Parallel(n_jobs=-1)]: Done 1389 tasks      | elapsed: 497.3min\n",
      "[Parallel(n_jobs=-1)]: Done 1442 tasks      | elapsed: 515.4min\n",
      "[Parallel(n_jobs=-1)]: Done 1497 tasks      | elapsed: 533.2min\n",
      "[Parallel(n_jobs=-1)]: Done 1552 tasks      | elapsed: 551.0min\n",
      "[Parallel(n_jobs=-1)]: Done 1600 out of 1600 | elapsed: 567.1min finished\n",
      "[Parallel(n_jobs=8)]: Using backend LokyBackend with 8 concurrent workers.\n",
      "[Parallel(n_jobs=8)]: Done   2 out of   8 | elapsed:   19.2s remaining:   57.5s\n",
      "[Parallel(n_jobs=8)]: Done   3 out of   8 | elapsed:   19.9s remaining:   33.2s\n",
      "[Parallel(n_jobs=8)]: Done   4 out of   8 | elapsed:   20.1s remaining:   20.1s\n",
      "[Parallel(n_jobs=8)]: Done   5 out of   8 | elapsed:   20.1s remaining:   12.1s\n",
      "[Parallel(n_jobs=8)]: Done   6 out of   8 | elapsed:   20.2s remaining:    6.7s\n",
      "[Parallel(n_jobs=8)]: Done   8 out of   8 | elapsed:   31.4s remaining:    0.0s\n",
      "[Parallel(n_jobs=8)]: Done   8 out of   8 | elapsed:   31.4s finished\n",
      "[Parallel(n_jobs=8)]: Using backend LokyBackend with 8 concurrent workers.\n",
      "/home/kento/anaconda3/lib/python3.6/site-packages/sklearn/externals/joblib/externals/loky/process_executor.py:706: UserWarning: A worker stopped while some jobs were given to the executor. This can be caused by a too short worker timeout or by a memory leak.\n",
      "  \"timeout or by a memory leak.\", UserWarning\n",
      "[Parallel(n_jobs=8)]: Batch computation too fast (0.1578s.) Setting batch_size=2.\n",
      "[Parallel(n_jobs=8)]: Done   2 out of   8 | elapsed:    0.2s remaining:    0.5s\n",
      "[Parallel(n_jobs=8)]: Done   3 out of   8 | elapsed:    0.2s remaining:    0.3s\n",
      "[Parallel(n_jobs=8)]: Done   4 out of   8 | elapsed:    0.2s remaining:    0.2s\n",
      "[Parallel(n_jobs=8)]: Done   5 out of   8 | elapsed:    0.2s remaining:    0.1s\n",
      "[Parallel(n_jobs=8)]: Done   6 out of   8 | elapsed:    0.2s remaining:    0.1s\n",
      "[Parallel(n_jobs=8)]: Done   8 out of   8 | elapsed:    0.2s remaining:    0.0s\n",
      "[Parallel(n_jobs=8)]: Done   8 out of   8 | elapsed:    0.2s finished\n"
     ]
    }
   ],
   "source": [
    "bbc_xgb = BalancedBaggingClassifier(base_estimator=xgb,n_estimators=10,replacement=False,n_jobs=-1,random_state=0,verbose=10)\n",
    "clf_xgb_bbc = GridSearchCV(bbc_xgb, param_xgb_bbc, cv=10, n_jobs=-1,verbose=10)\n",
    "clf_xgb_bbc.fit(X_train, y_train)\n",
    "y_pred_bbc_xgb = clf_xgb_bbc.predict(X_test_rus)"
   ]
  },
  {
   "cell_type": "code",
   "execution_count": 14,
   "metadata": {
    "collapsed": false
   },
   "outputs": [
    {
     "name": "stdout",
     "output_type": "stream",
     "text": [
      "accuracy xgb bagging 0.6100\n",
      "              precision    recall  f1-score   support\n",
      "\n",
      "           0       0.63      0.52      0.57       250\n",
      "           1       0.59      0.70      0.64       250\n",
      "\n",
      "   micro avg       0.61      0.61      0.61       500\n",
      "   macro avg       0.61      0.61      0.61       500\n",
      "weighted avg       0.61      0.61      0.61       500\n",
      "\n",
      "confusion matrix xgb bagging \n",
      "[[130 120]\n",
      " [ 75 175]]\n"
     ]
    }
   ],
   "source": [
    "print(\"accuracy xgb bagging {:.4f}\".format(accuracy_score(y_test_rus, y_pred_bbc_xgb)))\n",
    "print(\"{}\".format(classification_report(y_test_rus, y_pred_bbc_xgb)))\n",
    "print(\"confusion matrix xgb bagging \\n{}\".format(confusion_matrix(y_test_rus, y_pred_bbc_xgb)))"
   ]
  },
  {
   "cell_type": "code",
   "execution_count": 15,
   "metadata": {
    "collapsed": true
   },
   "outputs": [],
   "source": [
    "param_lr_bbc = [\n",
    "    {\"base_estimator__penalty\": [\"l2\",\"l1\"], \"base_estimator__C\":[10**i for i in range(-3, 4)]}\n",
    "]"
   ]
  },
  {
   "cell_type": "code",
   "execution_count": 16,
   "metadata": {
    "collapsed": false
   },
   "outputs": [
    {
     "name": "stderr",
     "output_type": "stream",
     "text": [
      "[Parallel(n_jobs=-1)]: Using backend LokyBackend with 8 concurrent workers.\n"
     ]
    },
    {
     "name": "stdout",
     "output_type": "stream",
     "text": [
      "Fitting 10 folds for each of 14 candidates, totalling 140 fits\n"
     ]
    },
    {
     "name": "stderr",
     "output_type": "stream",
     "text": [
      "[Parallel(n_jobs=-1)]: Done   2 tasks      | elapsed:    7.1s\n",
      "/home/kento/anaconda3/lib/python3.6/site-packages/sklearn/externals/joblib/externals/loky/process_executor.py:706: UserWarning: A worker stopped while some jobs were given to the executor. This can be caused by a too short worker timeout or by a memory leak.\n",
      "  \"timeout or by a memory leak.\", UserWarning\n",
      "[Parallel(n_jobs=-1)]: Done   9 tasks      | elapsed:   11.4s\n",
      "[Parallel(n_jobs=-1)]: Done  16 tasks      | elapsed:   17.2s\n",
      "[Parallel(n_jobs=-1)]: Done  25 tasks      | elapsed:   28.4s\n",
      "[Parallel(n_jobs=-1)]: Done  34 tasks      | elapsed:   35.6s\n",
      "[Parallel(n_jobs=-1)]: Done  45 tasks      | elapsed:   57.8s\n",
      "[Parallel(n_jobs=-1)]: Done  56 tasks      | elapsed:  1.2min\n",
      "[Parallel(n_jobs=-1)]: Done  69 tasks      | elapsed:  2.0min\n",
      "[Parallel(n_jobs=-1)]: Done  82 tasks      | elapsed:  3.4min\n",
      "[Parallel(n_jobs=-1)]: Done  97 tasks      | elapsed: 20.8min\n",
      "[Parallel(n_jobs=-1)]: Done 112 tasks      | elapsed: 94.0min\n",
      "[Parallel(n_jobs=-1)]: Done 140 out of 140 | elapsed: 215.4min remaining:    0.0s\n",
      "[Parallel(n_jobs=-1)]: Done 140 out of 140 | elapsed: 215.4min finished\n"
     ]
    },
    {
     "name": "stdout",
     "output_type": "stream",
     "text": [
      "[Parallel(n_jobs=8)]: Using backend LokyBackend with 8 concurrent workers.\n",
      "Pickling array (shape=(2,), dtype=int64).\n",
      "Pickling array (shape=(100,), dtype=int64).\n",
      "Memmapping (shape=(3233, 128), dtype=float64) to new file /dev/shm/joblib_memmapping_folder_24429_8859235995/24429-140205575481272-5afac13c44ba49678189bc3fa30399cf.pkl\n",
      "Pickling array (shape=(3233,), dtype=int64).\n",
      "Pickling array (shape=(13,), dtype=int64).\n",
      "Pickling array (shape=(2,), dtype=int64).\n",
      "Pickling array (shape=(100,), dtype=int64).\n",
      "Memmapping (shape=(3233, 128), dtype=float64) to old file /dev/shm/joblib_memmapping_folder_24429_8859235995/24429-140205575481272-5afac13c44ba49678189bc3fa30399cf.pkl\n",
      "Pickling array (shape=(3233,), dtype=int64).\n",
      "Pickling array (shape=(13,), dtype=int64).\n",
      "Pickling array (shape=(2,), dtype=int64).\n",
      "Pickling array (shape=(100,), dtype=int64).\n",
      "Memmapping (shape=(3233, 128), dtype=float64) to old file /dev/shm/joblib_memmapping_folder_24429_8859235995/24429-140205575481272-5afac13c44ba49678189bc3fa30399cf.pkl\n",
      "Pickling array (shape=(3233,), dtype=int64).\n",
      "Pickling array (shape=(13,), dtype=int64).\n",
      "Pickling array (shape=(2,), dtype=int64).\n",
      "Pickling array (shape=(100,), dtype=int64).\n",
      "Memmapping (shape=(3233, 128), dtype=float64) to old file /dev/shm/joblib_memmapping_folder_24429_8859235995/24429-140205575481272-5afac13c44ba49678189bc3fa30399cf.pkl\n",
      "Pickling array (shape=(3233,), dtype=int64).\n",
      "Pickling array (shape=(13,), dtype=int64).\n",
      "Pickling array (shape=(2,), dtype=int64).\n",
      "Pickling array (shape=(100,), dtype=int64).\n",
      "Memmapping (shape=(3233, 128), dtype=float64) to old file /dev/shm/joblib_memmapping_folder_24429_8859235995/24429-140205575481272-5afac13c44ba49678189bc3fa30399cf.pkl\n",
      "Pickling array (shape=(3233,), dtype=int64).\n",
      "Pickling array (shape=(12,), dtype=int64).\n",
      "Pickling array (shape=(2,), dtype=int64).\n",
      "Pickling array (shape=(100,), dtype=int64).\n",
      "Memmapping (shape=(3233, 128), dtype=float64) to old file /dev/shm/joblib_memmapping_folder_24429_8859235995/24429-140205575481272-5afac13c44ba49678189bc3fa30399cf.pkl\n",
      "Pickling array (shape=(3233,), dtype=int64).\n",
      "Pickling array (shape=(12,), dtype=int64).\n",
      "Pickling array (shape=(2,), dtype=int64).\n",
      "Pickling array (shape=(100,), dtype=int64).\n",
      "Memmapping (shape=(3233, 128), dtype=float64) to old file /dev/shm/joblib_memmapping_folder_24429_8859235995/24429-140205575481272-5afac13c44ba49678189bc3fa30399cf.pkl\n",
      "Pickling array (shape=(3233,), dtype=int64).\n",
      "Pickling array (shape=(12,), dtype=int64).\n",
      "Pickling array (shape=(2,), dtype=int64).\n",
      "Pickling array (shape=(100,), dtype=int64).\n",
      "Memmapping (shape=(3233, 128), dtype=float64) to old file /dev/shm/joblib_memmapping_folder_24429_8859235995/24429-140205575481272-5afac13c44ba49678189bc3fa30399cf.pkl\n",
      "Pickling array (shape=(3233,), dtype=int64).\n",
      "Pickling array (shape=(12,), dtype=int64).\n",
      "[Parallel(n_jobs=8)]: Done   1 tasks      | elapsed:    5.6s\n",
      "[Parallel(n_jobs=8)]: Done   2 out of   8 | elapsed:    5.6s remaining:   16.9s\n",
      "[Parallel(n_jobs=8)]: Done   3 out of   8 | elapsed:    5.7s remaining:    9.5s\n",
      "[Parallel(n_jobs=8)]: Done   4 out of   8 | elapsed:    5.8s remaining:    5.8s\n",
      "[Parallel(n_jobs=8)]: Done   5 out of   8 | elapsed:    5.8s remaining:    3.5s\n",
      "[Parallel(n_jobs=8)]: Done   6 out of   8 | elapsed:    5.8s remaining:    1.9s\n",
      "[Parallel(n_jobs=8)]: Done   8 out of   8 | elapsed:    5.9s remaining:    0.0s\n",
      "[Parallel(n_jobs=8)]: Done   8 out of   8 | elapsed:    5.9s finished\n",
      "[Parallel(n_jobs=8)]: Using backend LokyBackend with 8 concurrent workers.\n",
      "Pickling array (shape=(2,), dtype=int64).\n",
      "Pickling array (shape=(1, 128), dtype=float64).\n",
      "Pickling array (shape=(1,), dtype=float64).\n",
      "Pickling array (shape=(1,), dtype=int32).\n",
      "Pickling array (shape=(2,), dtype=int64).\n",
      "Pickling array (shape=(1, 128), dtype=float64).\n",
      "Pickling array (shape=(1,), dtype=float64).\n",
      "Pickling array (shape=(1,), dtype=int32).\n",
      "Pickling array (shape=(2,), dtype=int64).\n",
      "Pickling array (shape=(1, 128), dtype=float64).\n",
      "Pickling array (shape=(1,), dtype=float64).\n",
      "Pickling array (shape=(1,), dtype=int32).\n",
      "Pickling array (shape=(2,), dtype=int64).\n",
      "Pickling array (shape=(1, 128), dtype=float64).\n",
      "Pickling array (shape=(1,), dtype=float64).\n",
      "Pickling array (shape=(1,), dtype=int32).\n",
      "Pickling array (shape=(2,), dtype=int64).\n",
      "Pickling array (shape=(1, 128), dtype=float64).\n",
      "Pickling array (shape=(1,), dtype=float64).\n",
      "Pickling array (shape=(1,), dtype=int32).\n",
      "Pickling array (shape=(2,), dtype=int64).\n",
      "Pickling array (shape=(1, 128), dtype=float64).\n",
      "Pickling array (shape=(1,), dtype=float64).\n",
      "Pickling array (shape=(1,), dtype=int32).\n",
      "Pickling array (shape=(2,), dtype=int64).\n",
      "Pickling array (shape=(1, 128), dtype=float64).\n",
      "Pickling array (shape=(1,), dtype=float64).\n",
      "Pickling array (shape=(1,), dtype=int32).\n",
      "Pickling array (shape=(2,), dtype=int64).\n",
      "Pickling array (shape=(1, 128), dtype=float64).\n",
      "Pickling array (shape=(1,), dtype=float64).\n",
      "Pickling array (shape=(1,), dtype=int32).\n",
      "Pickling array (shape=(2,), dtype=int64).\n",
      "Pickling array (shape=(1, 128), dtype=float64).\n",
      "Pickling array (shape=(1,), dtype=float64).\n",
      "Pickling array (shape=(1,), dtype=int32).\n",
      "Pickling array (shape=(2,), dtype=int64).\n",
      "Pickling array (shape=(1, 128), dtype=float64).\n",
      "Pickling array (shape=(1,), dtype=float64).\n",
      "Pickling array (shape=(1,), dtype=int32).\n",
      "Pickling array (shape=(2,), dtype=int64).\n",
      "Pickling array (shape=(1, 128), dtype=float64).\n",
      "Pickling array (shape=(1,), dtype=float64).\n",
      "Pickling array (shape=(1,), dtype=int32).\n",
      "Pickling array (shape=(2,), dtype=int64).\n",
      "Pickling array (shape=(1, 128), dtype=float64).\n",
      "Pickling array (shape=(1,), dtype=float64).\n",
      "Pickling array (shape=(1,), dtype=int32).\n",
      "Pickling array (shape=(2,), dtype=int64).\n",
      "Pickling array (shape=(1, 128), dtype=float64).\n",
      "Pickling array (shape=(1,), dtype=float64).\n",
      "Pickling array (shape=(1,), dtype=int32).\n",
      "Pickling array (shape=(128,), dtype=int64).\n",
      "Pickling array (shape=(128,), dtype=int64).\n",
      "Pickling array (shape=(128,), dtype=int64).\n",
      "Pickling array (shape=(128,), dtype=int64).\n",
      "Pickling array (shape=(128,), dtype=int64).\n",
      "Pickling array (shape=(128,), dtype=int64).\n",
      "Pickling array (shape=(128,), dtype=int64).\n",
      "Pickling array (shape=(128,), dtype=int64).\n",
      "Pickling array (shape=(128,), dtype=int64).\n",
      "Pickling array (shape=(128,), dtype=int64).\n",
      "Pickling array (shape=(128,), dtype=int64).\n",
      "Pickling array (shape=(128,), dtype=int64).\n",
      "Pickling array (shape=(128,), dtype=int64).\n",
      "Pickling array (shape=(500, 128), dtype=float64).\n",
      "Pickling array (shape=(2,), dtype=int64).\n",
      "Pickling array (shape=(1, 128), dtype=float64).\n",
      "Pickling array (shape=(1,), dtype=float64).\n",
      "Pickling array (shape=(1,), dtype=int32).\n",
      "Pickling array (shape=(2,), dtype=int64).\n",
      "Pickling array (shape=(1, 128), dtype=float64).\n",
      "Pickling array (shape=(1,), dtype=float64).\n",
      "Pickling array (shape=(1,), dtype=int32).\n",
      "Pickling array (shape=(2,), dtype=int64).\n",
      "Pickling array (shape=(1, 128), dtype=float64).\n",
      "Pickling array (shape=(1,), dtype=float64).\n",
      "Pickling array (shape=(1,), dtype=int32).\n",
      "Pickling array (shape=(2,), dtype=int64).\n",
      "Pickling array (shape=(1, 128), dtype=float64).\n",
      "Pickling array (shape=(1,), dtype=float64).\n",
      "Pickling array (shape=(1,), dtype=int32).\n",
      "Pickling array (shape=(2,), dtype=int64).\n",
      "Pickling array (shape=(1, 128), dtype=float64).\n",
      "Pickling array (shape=(1,), dtype=float64).\n",
      "Pickling array (shape=(1,), dtype=int32).\n",
      "Pickling array (shape=(2,), dtype=int64).\n",
      "Pickling array (shape=(1, 128), dtype=float64).\n",
      "Pickling array (shape=(1,), dtype=float64).\n",
      "Pickling array (shape=(1,), dtype=int32).\n",
      "Pickling array (shape=(2,), dtype=int64).\n",
      "Pickling array (shape=(1, 128), dtype=float64).\n",
      "Pickling array (shape=(1,), dtype=float64).\n",
      "Pickling array (shape=(1,), dtype=int32).\n",
      "Pickling array (shape=(2,), dtype=int64).\n",
      "Pickling array (shape=(1, 128), dtype=float64).\n",
      "Pickling array (shape=(1,), dtype=float64).\n",
      "Pickling array (shape=(1,), dtype=int32).\n",
      "Pickling array (shape=(2,), dtype=int64).\n",
      "Pickling array (shape=(1, 128), dtype=float64).\n",
      "Pickling array (shape=(1,), dtype=float64).\n",
      "Pickling array (shape=(1,), dtype=int32).\n",
      "Pickling array (shape=(2,), dtype=int64).\n",
      "Pickling array (shape=(1, 128), dtype=float64).\n",
      "Pickling array (shape=(1,), dtype=float64).\n",
      "Pickling array (shape=(1,), dtype=int32).\n",
      "Pickling array (shape=(2,), dtype=int64).\n",
      "Pickling array (shape=(1, 128), dtype=float64).\n",
      "Pickling array (shape=(1,), dtype=float64).\n",
      "Pickling array (shape=(1,), dtype=int32).\n",
      "Pickling array (shape=(2,), dtype=int64).\n",
      "Pickling array (shape=(1, 128), dtype=float64).\n",
      "Pickling array (shape=(1,), dtype=float64).\n",
      "Pickling array (shape=(1,), dtype=int32).\n",
      "Pickling array (shape=(2,), dtype=int64).\n",
      "[Parallel(n_jobs=8)]: Done   1 tasks      | elapsed:    0.0s\n",
      "Pickling array (shape=(1, 128), dtype=float64).\n",
      "Pickling array (shape=(1,), dtype=float64).\n",
      "Pickling array (shape=(1,), dtype=int32).\n",
      "Pickling array (shape=(128,), dtype=int64).\n",
      "Pickling array (shape=(128,), dtype=int64).[Parallel(n_jobs=8)]: Batch computation too fast (0.0354s.) Setting batch_size=10.\n",
      "\n",
      "Pickling array (shape=(128,), dtype=int64).\n",
      "Pickling array (shape=(128,), dtype=int64).\n",
      "Pickling array (shape=(128,), dtype=int64).\n",
      "Pickling array (shape=(128,), dtype=int64).\n",
      "Pickling array (shape=(128,), dtype=int64).\n",
      "Pickling array (shape=(128,), dtype=int64).\n",
      "Pickling array (shape=(128,), dtype=int64).\n",
      "Pickling array (shape=(128,), dtype=int64).\n",
      "Pickling array (shape=(128,), dtype=int64).\n",
      "Pickling array (shape=(128,), dtype=int64).\n",
      "Pickling array (shape=(128,), dtype=int64).\n",
      "Pickling array (shape=(500, 128), dtype=float64).\n",
      "Pickling array (shape=(2,), dtype=int64).\n",
      "Pickling array (shape=(1, 128), dtype=float64).\n",
      "Pickling array (shape=(1,), dtype=float64).\n",
      "Pickling array (shape=(1,), dtype=int32).\n",
      "Pickling array (shape=(2,), dtype=int64).\n",
      "Pickling array (shape=(1, 128), dtype=float64).\n",
      "Pickling array (shape=(1,), dtype=float64).\n",
      "Pickling array (shape=(1,), dtype=int32).\n",
      "Pickling array (shape=(2,), dtype=int64).\n",
      "Pickling array (shape=(1, 128), dtype=float64).\n",
      "Pickling array (shape=(1,), dtype=float64).\n",
      "Pickling array (shape=(1,), dtype=int32).\n",
      "Pickling array (shape=(2,), dtype=int64).\n",
      "Pickling array (shape=(1, 128), dtype=float64).\n",
      "Pickling array (shape=(1,), dtype=float64).\n",
      "Pickling array (shape=(1,), dtype=int32).\n",
      "Pickling array (shape=(2,), dtype=int64).\n",
      "Pickling array (shape=(1, 128), dtype=float64).\n",
      "Pickling array (shape=(1,), dtype=float64).\n",
      "Pickling array (shape=(1,), dtype=int32).\n",
      "Pickling array (shape=(2,), dtype=int64).\n",
      "Pickling array (shape=(1, 128), dtype=float64).\n",
      "Pickling array (shape=(1,), dtype=float64).\n",
      "[Parallel(n_jobs=8)]: Done   2 out of   8 | elapsed:    0.1s remaining:    0.2s\n",
      "Pickling array (shape=(1,), dtype=int32).\n",
      "Pickling array (shape=(2,), dtype=int64).\n",
      "Pickling array (shape=(1, 128), dtype=float64).\n",
      "Pickling array (shape=(1,), dtype=float64).\n",
      "Pickling array (shape=(1,), dtype=int32).\n",
      "Pickling array (shape=(2,), dtype=int64).\n",
      "Pickling array (shape=(1, 128), dtype=float64).\n",
      "Pickling array (shape=(1,), dtype=float64).\n",
      "Pickling array (shape=(1,), dtype=int32).\n",
      "Pickling array (shape=(2,), dtype=int64).\n",
      "Pickling array (shape=(1, 128), dtype=float64).\n",
      "Pickling array (shape=(1,), dtype=float64).\n",
      "Pickling array (shape=(1,), dtype=int32).\n",
      "Pickling array (shape=(2,), dtype=int64).\n",
      "Pickling array (shape=(1, 128), dtype=float64).\n",
      "Pickling array (shape=(1,), dtype=float64).\n",
      "Pickling array (shape=(1,), dtype=int32).\n",
      "Pickling array (shape=(2,), dtype=int64).\n",
      "Pickling array (shape=(1, 128), dtype=float64).\n",
      "Pickling array (shape=(1,), dtype=float64).\n",
      "Pickling array (shape=(1,), dtype=int32).\n",
      "Pickling array (shape=(2,), dtype=int64).\n",
      "Pickling array (shape=(1, 128), dtype=float64).\n",
      "Pickling array (shape=(1,), dtype=float64).\n",
      "Pickling array (shape=(1,), dtype=int32).\n",
      "Pickling array (shape=(2,), dtype=int64).\n",
      "Pickling array (shape=(1, 128), dtype=float64).\n",
      "Pickling array (shape=(1,), dtype=float64).\n",
      "Pickling array (shape=(1,), dtype=int32).\n",
      "Pickling array (shape=(128,), dtype=int64).\n",
      "Pickling array (shape=(128,), dtype=int64).\n",
      "Pickling array (shape=(128,), dtype=int64).\n",
      "Pickling array (shape=(128,), dtype=int64).\n",
      "Pickling array (shape=(128,), dtype=int64).\n",
      "Pickling array (shape=(128,), dtype=int64).\n",
      "Pickling array (shape=(128,), dtype=int64).\n",
      "Pickling array (shape=(128,), dtype=int64).\n",
      "Pickling array (shape=(128,), dtype=int64).\n",
      "Pickling array (shape=(128,), dtype=int64).\n",
      "Pickling array (shape=(128,), dtype=int64).\n",
      "Pickling array (shape=(128,), dtype=int64).\n",
      "Pickling array (shape=(128,), dtype=int64).\n",
      "Pickling array (shape=(500, 128), dtype=float64).\n",
      "Pickling array (shape=(2,), dtype=int64).\n",
      "Pickling array (shape=(1, 128), dtype=float64).\n",
      "Pickling array (shape=(1,), dtype=float64).\n",
      "Pickling array (shape=(1,), dtype=int32).\n",
      "Pickling array (shape=(2,), dtype=int64).\n",
      "Pickling array (shape=(1, 128), dtype=float64).\n",
      "Pickling array (shape=(1,), dtype=float64).\n",
      "Pickling array (shape=(1,), dtype=int32).\n",
      "Pickling array (shape=(2,), dtype=int64).\n",
      "Pickling array (shape=(1, 128), dtype=float64).\n",
      "Pickling array (shape=(1,), dtype=float64).\n",
      "Pickling array (shape=(1,), dtype=int32).\n",
      "Pickling array (shape=(2,), dtype=int64).\n",
      "Pickling array (shape=(1, 128), dtype=float64).\n",
      "Pickling array (shape=(1,), dtype=float64).\n",
      "Pickling array (shape=(1,), dtype=int32).\n",
      "Pickling array (shape=(2,), dtype=int64).\n",
      "Pickling array (shape=(1, 128), dtype=float64).\n",
      "Pickling array (shape=(1,), dtype=float64).\n",
      "Pickling array (shape=(1,), dtype=int32).\n",
      "Pickling array (shape=(2,), dtype=int64).\n",
      "Pickling array (shape=(1, 128), dtype=float64).\n",
      "Pickling array (shape=(1,), dtype=float64).\n",
      "Pickling array (shape=(1,), dtype=int32).\n",
      "Pickling array (shape=(2,), dtype=int64).\n",
      "Pickling array (shape=(1, 128), dtype=float64).\n",
      "Pickling array (shape=(1,), dtype=float64).\n",
      "Pickling array (shape=(1,), dtype=int32).\n",
      "Pickling array (shape=(2,), dtype=int64).\n",
      "Pickling array (shape=(1, 128), dtype=float64).\n",
      "Pickling array (shape=(1,), dtype=float64).\n",
      "Pickling array (shape=(1,), dtype=int32).\n",
      "Pickling array (shape=(2,), dtype=int64).\n",
      "Pickling array (shape=(1, 128), dtype=float64).\n",
      "Pickling array (shape=(1,), dtype=float64).\n",
      "Pickling array (shape=(1,), dtype=int32).\n",
      "Pickling array (shape=(2,), dtype=int64).[Parallel(n_jobs=8)]: Done   3 out of   8 | elapsed:    0.1s remaining:    0.2s\n",
      "\n",
      "Pickling array (shape=(1, 128), dtype=float64).\n",
      "Pickling array (shape=(1,), dtype=float64).\n",
      "Pickling array (shape=(1,), dtype=int32).\n",
      "Pickling array (shape=(2,), dtype=int64).\n",
      "Pickling array (shape=(1, 128), dtype=float64).\n",
      "Pickling array (shape=(1,), dtype=float64).\n",
      "Pickling array (shape=(1,), dtype=int32).\n",
      "Pickling array (shape=(2,), dtype=int64).\n",
      "Pickling array (shape=(1, 128), dtype=float64).\n",
      "Pickling array (shape=(1,), dtype=float64).\n",
      "Pickling array (shape=(1,), dtype=int32).\n",
      "Pickling array (shape=(2,), dtype=int64).\n",
      "Pickling array (shape=(1, 128), dtype=float64).\n",
      "Pickling array (shape=(1,), dtype=float64).\n",
      "Pickling array (shape=(1,), dtype=int32).\n",
      "Pickling array (shape=(128,), dtype=int64).\n",
      "Pickling array (shape=(128,), dtype=int64).\n",
      "Pickling array (shape=(128,), dtype=int64).\n",
      "Pickling array (shape=(128,), dtype=int64).\n",
      "Pickling array (shape=(128,), dtype=int64).\n",
      "Pickling array (shape=(128,), dtype=int64).\n",
      "Pickling array (shape=(128,), dtype=int64).\n",
      "Pickling array (shape=(128,), dtype=int64).\n",
      "Pickling array (shape=(128,), dtype=int64).\n",
      "Pickling array (shape=(128,), dtype=int64).\n",
      "Pickling array (shape=(128,), dtype=int64).\n",
      "Pickling array (shape=(128,), dtype=int64).\n",
      "Pickling array (shape=(128,), dtype=int64).\n",
      "Pickling array (shape=(500, 128), dtype=float64).\n",
      "Pickling array (shape=(2,), dtype=int64).\n",
      "Pickling array (shape=(1, 128), dtype=float64).\n",
      "Pickling array (shape=(1,), dtype=float64).\n",
      "Pickling array (shape=(1,), dtype=int32).\n",
      "Pickling array (shape=(2,), dtype=int64).\n",
      "Pickling array (shape=(1, 128), dtype=float64).\n",
      "Pickling array (shape=(1,), dtype=float64).\n",
      "Pickling array (shape=(1,), dtype=int32).\n",
      "Pickling array (shape=(2,), dtype=int64).\n",
      "Pickling array (shape=(1, 128), dtype=float64).\n",
      "Pickling array (shape=(1,), dtype=float64).\n",
      "Pickling array (shape=(1,), dtype=int32).\n",
      "Pickling array (shape=(2,), dtype=int64).\n",
      "Pickling array (shape=(1, 128), dtype=float64).\n",
      "Pickling array (shape=(1,), dtype=float64).\n",
      "Pickling array (shape=(1,), dtype=int32).\n",
      "Pickling array (shape=(2,), dtype=int64).\n",
      "Pickling array (shape=(1, 128), dtype=float64).\n",
      "Pickling array (shape=(1,), dtype=float64).\n",
      "Pickling array (shape=(1,), dtype=int32).\n",
      "Pickling array (shape=(2,), dtype=int64).\n",
      "Pickling array (shape=(1, 128), dtype=float64).\n",
      "Pickling array (shape=(1,), dtype=float64).\n",
      "Pickling array (shape=(1,), dtype=int32).\n",
      "Pickling array (shape=(2,), dtype=int64).\n",
      "Pickling array (shape=(1, 128), dtype=float64).\n",
      "Pickling array (shape=(1,), dtype=float64).\n",
      "Pickling array (shape=(1,), dtype=int32).\n",
      "Pickling array (shape=(2,), dtype=int64).\n",
      "Pickling array (shape=(1, 128), dtype=float64).\n",
      "Pickling array (shape=(1,), dtype=float64).\n",
      "Pickling array (shape=(1,), dtype=int32).\n",
      "Pickling array (shape=(2,), dtype=int64).[Parallel(n_jobs=8)]: Done   4 out of   8 | elapsed:    0.2s remaining:    0.2s\n",
      "\n",
      "Pickling array (shape=(1, 128), dtype=float64).\n",
      "Pickling array (shape=(1,), dtype=float64).\n",
      "Pickling array (shape=(1,), dtype=int32).\n",
      "Pickling array (shape=(2,), dtype=int64).\n",
      "Pickling array (shape=(1, 128), dtype=float64).\n",
      "Pickling array (shape=(1,), dtype=float64).\n",
      "Pickling array (shape=(1,), dtype=int32).\n",
      "Pickling array (shape=(2,), dtype=int64).\n",
      "Pickling array (shape=(1, 128), dtype=float64).\n",
      "Pickling array (shape=(1,), dtype=float64).\n",
      "Pickling array (shape=(1,), dtype=int32).\n",
      "Pickling array (shape=(2,), dtype=int64).\n",
      "Pickling array (shape=(1, 128), dtype=float64).\n",
      "Pickling array (shape=(1,), dtype=float64).\n",
      "Pickling array (shape=(1,), dtype=int32).\n",
      "Pickling array (shape=(128,), dtype=int64).\n",
      "Pickling array (shape=(128,), dtype=int64).\n",
      "Pickling array (shape=(128,), dtype=int64).\n",
      "Pickling array (shape=(128,), dtype=int64).\n",
      "Pickling array (shape=(128,), dtype=int64).\n",
      "Pickling array (shape=(128,), dtype=int64).\n",
      "Pickling array (shape=(128,), dtype=int64).\n",
      "Pickling array (shape=(128,), dtype=int64).\n",
      "Pickling array (shape=(128,), dtype=int64).\n",
      "Pickling array (shape=(128,), dtype=int64).\n",
      "Pickling array (shape=(128,), dtype=int64).\n",
      "Pickling array (shape=(128,), dtype=int64).\n",
      "Pickling array (shape=(500, 128), dtype=float64).\n",
      "Pickling array (shape=(2,), dtype=int64).\n",
      "Pickling array (shape=(1, 128), dtype=float64).\n",
      "Pickling array (shape=(1,), dtype=float64).\n",
      "Pickling array (shape=(1,), dtype=int32).\n",
      "Pickling array (shape=(2,), dtype=int64).\n",
      "Pickling array (shape=(1, 128), dtype=float64).\n",
      "Pickling array (shape=(1,), dtype=float64).\n",
      "Pickling array (shape=(1,), dtype=int32).\n",
      "Pickling array (shape=(2,), dtype=int64).[Parallel(n_jobs=8)]: Done   5 out of   8 | elapsed:    0.2s remaining:    0.1s\n",
      "\n",
      "Pickling array (shape=(1, 128), dtype=float64).\n",
      "Pickling array (shape=(1,), dtype=float64).\n",
      "Pickling array (shape=(1,), dtype=int32).\n",
      "Pickling array (shape=(2,), dtype=int64).\n",
      "Pickling array (shape=(1, 128), dtype=float64).\n",
      "Pickling array (shape=(1,), dtype=float64).\n",
      "Pickling array (shape=(1,), dtype=int32).\n",
      "Pickling array (shape=(2,), dtype=int64).\n",
      "Pickling array (shape=(1, 128), dtype=float64).\n",
      "Pickling array (shape=(1,), dtype=float64).\n",
      "Pickling array (shape=(1,), dtype=int32).\n",
      "Pickling array (shape=(2,), dtype=int64).\n",
      "Pickling array (shape=(1, 128), dtype=float64).\n",
      "Pickling array (shape=(1,), dtype=float64).\n",
      "Pickling array (shape=(1,), dtype=int32).\n",
      "Pickling array (shape=(2,), dtype=int64).\n",
      "Pickling array (shape=(1, 128), dtype=float64).\n",
      "Pickling array (shape=(1,), dtype=float64).\n",
      "Pickling array (shape=(1,), dtype=int32).\n",
      "Pickling array (shape=(2,), dtype=int64).\n",
      "Pickling array (shape=(1, 128), dtype=float64).\n",
      "Pickling array (shape=(1,), dtype=float64).\n",
      "Pickling array (shape=(1,), dtype=int32).\n",
      "Pickling array (shape=(2,), dtype=int64).\n",
      "Pickling array (shape=(1, 128), dtype=float64).\n",
      "Pickling array (shape=(1,), dtype=float64).\n",
      "Pickling array (shape=(1,), dtype=int32).\n",
      "Pickling array (shape=(2,), dtype=int64).\n",
      "Pickling array (shape=(1, 128), dtype=float64).\n",
      "Pickling array (shape=(1,), dtype=float64).\n",
      "Pickling array (shape=(1,), dtype=int32).\n",
      "Pickling array (shape=(2,), dtype=int64).\n",
      "Pickling array (shape=(1, 128), dtype=float64).\n",
      "Pickling array (shape=(1,), dtype=float64).\n",
      "Pickling array (shape=(1,), dtype=int32).\n",
      "Pickling array (shape=(2,), dtype=int64).\n",
      "Pickling array (shape=(1, 128), dtype=float64).\n",
      "Pickling array (shape=(1,), dtype=float64).\n",
      "Pickling array (shape=(1,), dtype=int32).\n",
      "Pickling array (shape=(128,), dtype=int64).\n",
      "Pickling array (shape=(128,), dtype=int64).\n",
      "Pickling array (shape=(128,), dtype=int64).\n",
      "Pickling array (shape=(128,), dtype=int64).\n",
      "Pickling array (shape=(128,), dtype=int64).\n",
      "Pickling array (shape=(128,), dtype=int64).\n",
      "Pickling array (shape=(128,), dtype=int64).\n",
      "Pickling array (shape=(128,), dtype=int64).\n",
      "Pickling array (shape=(128,), dtype=int64).\n",
      "Pickling array (shape=(128,), dtype=int64).\n",
      "Pickling array (shape=(128,), dtype=int64).\n",
      "Pickling array (shape=(128,), dtype=int64).\n",
      "Pickling array (shape=(500, 128), dtype=float64).\n",
      "Pickling array (shape=(2,), dtype=int64).\n",
      "Pickling array (shape=(1, 128), dtype=float64).\n",
      "Pickling array (shape=(1,), dtype=float64).\n",
      "Pickling array (shape=(1,), dtype=int32).\n",
      "Pickling array (shape=(2,), dtype=int64).\n",
      "Pickling array (shape=(1, 128), dtype=float64).\n",
      "Pickling array (shape=(1,), dtype=float64).\n",
      "Pickling array (shape=(1,), dtype=int32).\n",
      "Pickling array (shape=(2,), dtype=int64).\n",
      "Pickling array (shape=(1, 128), dtype=float64).\n",
      "Pickling array (shape=(1,), dtype=float64).\n",
      "Pickling array (shape=(1,), dtype=int32).\n",
      "Pickling array (shape=(2,), dtype=int64).\n",
      "Pickling array (shape=(1, 128), dtype=float64).\n",
      "Pickling array (shape=(1,), dtype=float64).\n",
      "Pickling array (shape=(1,), dtype=int32).\n",
      "Pickling array (shape=(2,), dtype=int64).\n",
      "Pickling array (shape=(1, 128), dtype=float64).\n",
      "Pickling array (shape=(1,), dtype=float64).\n",
      "Pickling array (shape=(1,), dtype=int32).\n",
      "Pickling array (shape=(2,), dtype=int64).\n",
      "Pickling array (shape=(1, 128), dtype=float64).\n",
      "Pickling array (shape=(1,), dtype=float64).\n",
      "Pickling array (shape=(1,), dtype=int32).\n",
      "Pickling array (shape=(2,), dtype=int64).\n",
      "Pickling array (shape=(1, 128), dtype=float64).\n",
      "Pickling array (shape=(1,), dtype=float64).\n",
      "Pickling array (shape=(1,), dtype=int32).\n",
      "Pickling array (shape=(2,), dtype=int64).\n",
      "Pickling array (shape=(1, 128), dtype=float64).\n",
      "Pickling array (shape=(1,), dtype=float64).\n",
      "Pickling array (shape=(1,), dtype=int32).\n",
      "Pickling array (shape=(2,), dtype=int64).\n",
      "Pickling array (shape=(1, 128), dtype=float64).\n",
      "Pickling array (shape=(1,), dtype=float64).\n",
      "Pickling array (shape=(1,), dtype=int32).\n",
      "Pickling array (shape=(2,), dtype=int64).\n",
      "Pickling array (shape=(1, 128), dtype=float64).\n",
      "Pickling array (shape=(1,), dtype=float64).\n",
      "Pickling array (shape=(1,), dtype=int32).\n",
      "Pickling array (shape=(2,), dtype=int64).\n",
      "Pickling array (shape=(1, 128), dtype=float64).\n",
      "Pickling array (shape=(1,), dtype=float64).\n",
      "Pickling array (shape=(1,), dtype=int32).\n",
      "Pickling array (shape=(2,), dtype=int64).[Parallel(n_jobs=8)]: Done   6 out of   8 | elapsed:    0.3s remaining:    0.1s\n",
      "\n",
      "Pickling array (shape=(1, 128), dtype=float64).\n",
      "Pickling array (shape=(1,), dtype=float64).\n",
      "Pickling array (shape=(1,), dtype=int32).\n",
      "Pickling array (shape=(128,), dtype=int64).\n",
      "Pickling array (shape=(128,), dtype=int64).\n",
      "Pickling array (shape=(128,), dtype=int64).\n",
      "Pickling array (shape=(128,), dtype=int64).\n",
      "Pickling array (shape=(128,), dtype=int64).\n",
      "Pickling array (shape=(128,), dtype=int64).\n",
      "Pickling array (shape=(128,), dtype=int64).\n",
      "Pickling array (shape=(128,), dtype=int64).\n",
      "Pickling array (shape=(128,), dtype=int64).\n",
      "Pickling array (shape=(128,), dtype=int64).\n",
      "Pickling array (shape=(128,), dtype=int64).\n",
      "Pickling array (shape=(128,), dtype=int64).\n",
      "Pickling array (shape=(500, 128), dtype=float64).\n",
      "Pickling array (shape=(2,), dtype=int64).\n",
      "Pickling array (shape=(1, 128), dtype=float64).\n",
      "Pickling array (shape=(1,), dtype=float64).\n",
      "Pickling array (shape=(1,), dtype=int32).\n",
      "Pickling array (shape=(2,), dtype=int64).\n",
      "Pickling array (shape=(1, 128), dtype=float64).\n",
      "Pickling array (shape=(1,), dtype=float64).\n",
      "Pickling array (shape=(1,), dtype=int32).\n",
      "Pickling array (shape=(2,), dtype=int64).\n",
      "Pickling array (shape=(1, 128), dtype=float64).\n",
      "Pickling array (shape=(1,), dtype=float64).\n",
      "Pickling array (shape=(1,), dtype=int32).\n",
      "Pickling array (shape=(2,), dtype=int64).\n",
      "Pickling array (shape=(1, 128), dtype=float64).\n",
      "Pickling array (shape=(1,), dtype=float64).\n",
      "Pickling array (shape=(1,), dtype=int32).\n",
      "Pickling array (shape=(2,), dtype=int64).\n",
      "Pickling array (shape=(1, 128), dtype=float64).\n",
      "Pickling array (shape=(1,), dtype=float64).\n",
      "Pickling array (shape=(1,), dtype=int32).\n",
      "Pickling array (shape=(2,), dtype=int64).\n",
      "Pickling array (shape=(1, 128), dtype=float64).\n",
      "Pickling array (shape=(1,), dtype=float64).\n",
      "Pickling array (shape=(1,), dtype=int32).\n",
      "Pickling array (shape=(2,), dtype=int64).\n",
      "Pickling array (shape=(1, 128), dtype=float64).\n",
      "Pickling array (shape=(1,), dtype=float64).\n",
      "Pickling array (shape=(1,), dtype=int32).\n",
      "Pickling array (shape=(2,), dtype=int64).\n",
      "Pickling array (shape=(1, 128), dtype=float64).\n",
      "Pickling array (shape=(1,), dtype=float64).\n",
      "Pickling array (shape=(1,), dtype=int32).\n",
      "Pickling array (shape=(2,), dtype=int64).\n",
      "Pickling array (shape=(1, 128), dtype=float64).\n",
      "Pickling array (shape=(1,), dtype=float64).\n",
      "Pickling array (shape=(1,), dtype=int32).\n",
      "Pickling array (shape=(2,), dtype=int64).\n",
      "Pickling array (shape=(1, 128), dtype=float64).\n",
      "Pickling array (shape=(1,), dtype=float64).\n",
      "Pickling array (shape=(1,), dtype=int32).\n",
      "Pickling array (shape=(2,), dtype=int64).\n",
      "Pickling array (shape=(1, 128), dtype=float64).\n",
      "Pickling array (shape=(1,), dtype=float64).\n",
      "Pickling array (shape=(1,), dtype=int32).\n",
      "Pickling array (shape=(2,), dtype=int64).\n",
      "Pickling array (shape=(1, 128), dtype=float64).\n",
      "Pickling array (shape=(1,), dtype=float64).\n",
      "Pickling array (shape=(1,), dtype=int32).\n",
      "Pickling array (shape=(128,), dtype=int64).\n",
      "Pickling array (shape=(128,), dtype=int64).\n",
      "Pickling array (shape=(128,), dtype=int64).\n",
      "Pickling array (shape=(128,), dtype=int64).\n",
      "Pickling array (shape=(128,), dtype=int64).\n",
      "Pickling array (shape=(128,), dtype=int64).\n",
      "Pickling array (shape=(128,), dtype=int64).\n",
      "Pickling array (shape=(128,), dtype=int64).\n",
      "Pickling array (shape=(128,), dtype=int64).\n",
      "Pickling array (shape=(128,), dtype=int64).\n",
      "Pickling array (shape=(128,), dtype=int64).\n",
      "Pickling array (shape=(128,), dtype=int64).\n",
      "Pickling array (shape=(500, 128), dtype=float64).\n",
      "[Parallel(n_jobs=8)]: Done   8 out of   8 | elapsed:    0.4s remaining:    0.0s\n",
      "[Parallel(n_jobs=8)]: Done   8 out of   8 | elapsed:    0.4s finished\n"
     ]
    }
   ],
   "source": [
    "bbc_lr = BalancedBaggingClassifier(base_estimator=lr,n_estimators=100,replacement=False,n_jobs=-1,random_state=0,verbose=100)\n",
    "clf_lr_bbc = GridSearchCV(bbc_lr, param_lr_bbc, cv=10, n_jobs=-1,verbose=10)\n",
    "clf_lr_bbc.fit(X_train, y_train)\n",
    "y_pred_bbc_lr = clf_lr_bbc.predict(X_test_rus)"
   ]
  },
  {
   "cell_type": "code",
   "execution_count": 17,
   "metadata": {
    "collapsed": false
   },
   "outputs": [
    {
     "name": "stdout",
     "output_type": "stream",
     "text": [
      "accuracy LR bagging 0.6520\n",
      "              precision    recall  f1-score   support\n",
      "\n",
      "           0       0.66      0.64      0.65       250\n",
      "           1       0.65      0.66      0.66       250\n",
      "\n",
      "   micro avg       0.65      0.65      0.65       500\n",
      "   macro avg       0.65      0.65      0.65       500\n",
      "weighted avg       0.65      0.65      0.65       500\n",
      "\n",
      "confusion matrix LR bagging\n",
      "[[160  90]\n",
      " [ 84 166]]\n"
     ]
    }
   ],
   "source": [
    "print(\"accuracy LR bagging {:.4f}\".format(accuracy_score(y_test_rus, y_pred_bbc_lr)))\n",
    "print(\"{}\".format(classification_report(y_test_rus, y_pred_bbc_lr)))\n",
    "print(\"confusion matrix LR bagging\\n{}\".format(confusion_matrix(y_test_rus, y_pred_bbc_lr)))"
   ]
  },
  {
   "cell_type": "markdown",
   "metadata": {},
   "source": [
    "## 2. informal education"
   ]
  },
  {
   "cell_type": "markdown",
   "metadata": {},
   "source": [
    "### 学習データ，テストデータともにアンダーサンプリング"
   ]
  },
  {
   "cell_type": "code",
   "execution_count": 18,
   "metadata": {
    "collapsed": true
   },
   "outputs": [],
   "source": [
    "X_train, X_test, y_train, y_test = train_test_split(X, y_lst[1], test_size=0.2, random_state=0)\n",
    "rus = RandomUnderSampler(random_state=0)\n",
    "X_train_rus, y_train_rus = rus.fit_sample(X_train, y_train)\n",
    "X_test_rus, y_test_rus = rus.fit_sample(X_test, y_test)"
   ]
  },
  {
   "cell_type": "code",
   "execution_count": 19,
   "metadata": {
    "collapsed": false
   },
   "outputs": [
    {
     "name": "stdout",
     "output_type": "stream",
     "text": [
      "Fitting 10 folds for each of 160 candidates, totalling 1600 fits\n"
     ]
    },
    {
     "name": "stderr",
     "output_type": "stream",
     "text": [
      "[Parallel(n_jobs=-1)]: Using backend LokyBackend with 8 concurrent workers.\n",
      "[Parallel(n_jobs=-1)]: Done   2 tasks      | elapsed:    3.8s\n",
      "[Parallel(n_jobs=-1)]: Done   9 tasks      | elapsed:    6.0s\n",
      "[Parallel(n_jobs=-1)]: Done  16 tasks      | elapsed:    9.3s\n",
      "[Parallel(n_jobs=-1)]: Done  25 tasks      | elapsed:   21.8s\n",
      "[Parallel(n_jobs=-1)]: Done  34 tasks      | elapsed:   38.2s\n",
      "[Parallel(n_jobs=-1)]: Done  45 tasks      | elapsed:  1.1min\n",
      "[Parallel(n_jobs=-1)]: Done  56 tasks      | elapsed:  1.2min\n",
      "[Parallel(n_jobs=-1)]: Done  69 tasks      | elapsed:  1.4min\n",
      "[Parallel(n_jobs=-1)]: Done  82 tasks      | elapsed:  2.0min\n",
      "[Parallel(n_jobs=-1)]: Done  97 tasks      | elapsed:  2.6min\n",
      "[Parallel(n_jobs=-1)]: Done 112 tasks      | elapsed:  2.9min\n",
      "[Parallel(n_jobs=-1)]: Done 129 tasks      | elapsed:  3.5min\n",
      "[Parallel(n_jobs=-1)]: Done 146 tasks      | elapsed:  4.4min\n",
      "[Parallel(n_jobs=-1)]: Done 165 tasks      | elapsed:  4.8min\n",
      "[Parallel(n_jobs=-1)]: Done 184 tasks      | elapsed:  5.7min\n",
      "[Parallel(n_jobs=-1)]: Done 205 tasks      | elapsed:  6.7min\n",
      "[Parallel(n_jobs=-1)]: Done 226 tasks      | elapsed:  7.5min\n",
      "[Parallel(n_jobs=-1)]: Done 249 tasks      | elapsed:  9.1min\n",
      "[Parallel(n_jobs=-1)]: Done 272 tasks      | elapsed: 10.0min\n",
      "[Parallel(n_jobs=-1)]: Done 297 tasks      | elapsed: 11.8min\n",
      "[Parallel(n_jobs=-1)]: Done 322 tasks      | elapsed: 12.8min\n",
      "[Parallel(n_jobs=-1)]: Done 349 tasks      | elapsed: 14.8min\n",
      "[Parallel(n_jobs=-1)]: Done 376 tasks      | elapsed: 15.9min\n",
      "[Parallel(n_jobs=-1)]: Done 405 tasks      | elapsed: 17.8min\n",
      "[Parallel(n_jobs=-1)]: Done 434 tasks      | elapsed: 18.6min\n",
      "[Parallel(n_jobs=-1)]: Done 465 tasks      | elapsed: 19.2min\n",
      "[Parallel(n_jobs=-1)]: Done 496 tasks      | elapsed: 20.4min\n",
      "[Parallel(n_jobs=-1)]: Done 529 tasks      | elapsed: 21.3min\n",
      "[Parallel(n_jobs=-1)]: Done 562 tasks      | elapsed: 22.5min\n",
      "[Parallel(n_jobs=-1)]: Done 597 tasks      | elapsed: 24.3min\n",
      "[Parallel(n_jobs=-1)]: Done 632 tasks      | elapsed: 25.6min\n",
      "[Parallel(n_jobs=-1)]: Done 669 tasks      | elapsed: 27.1min\n",
      "[Parallel(n_jobs=-1)]: Done 706 tasks      | elapsed: 29.1min\n",
      "[Parallel(n_jobs=-1)]: Done 745 tasks      | elapsed: 31.2min\n",
      "[Parallel(n_jobs=-1)]: Done 784 tasks      | elapsed: 32.9min\n",
      "[Parallel(n_jobs=-1)]: Done 825 tasks      | elapsed: 34.2min\n",
      "[Parallel(n_jobs=-1)]: Done 866 tasks      | elapsed: 35.1min\n",
      "[Parallel(n_jobs=-1)]: Done 909 tasks      | elapsed: 36.6min\n",
      "[Parallel(n_jobs=-1)]: Done 952 tasks      | elapsed: 38.1min\n",
      "[Parallel(n_jobs=-1)]: Done 997 tasks      | elapsed: 40.0min\n",
      "[Parallel(n_jobs=-1)]: Done 1042 tasks      | elapsed: 41.8min\n",
      "[Parallel(n_jobs=-1)]: Done 1089 tasks      | elapsed: 43.6min\n",
      "[Parallel(n_jobs=-1)]: Done 1136 tasks      | elapsed: 45.4min\n",
      "[Parallel(n_jobs=-1)]: Done 1185 tasks      | elapsed: 47.5min\n",
      "[Parallel(n_jobs=-1)]: Done 1234 tasks      | elapsed: 48.9min\n",
      "[Parallel(n_jobs=-1)]: Done 1285 tasks      | elapsed: 50.2min\n",
      "[Parallel(n_jobs=-1)]: Done 1336 tasks      | elapsed: 51.8min\n",
      "[Parallel(n_jobs=-1)]: Done 1389 tasks      | elapsed: 53.8min\n",
      "[Parallel(n_jobs=-1)]: Done 1442 tasks      | elapsed: 55.8min\n",
      "[Parallel(n_jobs=-1)]: Done 1497 tasks      | elapsed: 57.8min\n",
      "[Parallel(n_jobs=-1)]: Done 1552 tasks      | elapsed: 59.7min\n",
      "[Parallel(n_jobs=-1)]: Done 1600 out of 1600 | elapsed: 61.7min finished\n"
     ]
    }
   ],
   "source": [
    "clf_xgb_rus = GridSearchCV(xgb, param_xgb, cv=10, n_jobs=-1,verbose=10)\n",
    "clf_xgb_rus.fit(X_train_rus, y_train_rus)\n",
    "y_pred_rus_xgb = clf_xgb_rus.predict(X_test_rus)"
   ]
  },
  {
   "cell_type": "code",
   "execution_count": 20,
   "metadata": {
    "collapsed": false
   },
   "outputs": [
    {
     "name": "stdout",
     "output_type": "stream",
     "text": [
      "accuracy xgb under sampled 0.6961\n",
      "              precision    recall  f1-score   support\n",
      "\n",
      "           0       0.70      0.69      0.69       255\n",
      "           1       0.69      0.71      0.70       255\n",
      "\n",
      "   micro avg       0.70      0.70      0.70       510\n",
      "   macro avg       0.70      0.70      0.70       510\n",
      "weighted avg       0.70      0.70      0.70       510\n",
      "\n",
      "confusion matrix xgb under sampled\n",
      "[[175  80]\n",
      " [ 75 180]]\n"
     ]
    }
   ],
   "source": [
    "print(\"accuracy xgb under sampled {:.4f}\".format(accuracy_score(y_test_rus, y_pred_rus_xgb)))\n",
    "print(\"{}\".format(classification_report(y_test_rus, y_pred_rus_xgb)))\n",
    "print(\"confusion matrix xgb under sampled\\n{}\".format(confusion_matrix(y_test_rus, y_pred_rus_xgb)))"
   ]
  },
  {
   "cell_type": "code",
   "execution_count": 21,
   "metadata": {
    "collapsed": false
   },
   "outputs": [
    {
     "name": "stdout",
     "output_type": "stream",
     "text": [
      "Fitting 10 folds for each of 14 candidates, totalling 140 fits\n"
     ]
    },
    {
     "name": "stderr",
     "output_type": "stream",
     "text": [
      "[Parallel(n_jobs=-1)]: Using backend LokyBackend with 8 concurrent workers.\n",
      "[Parallel(n_jobs=-1)]: Batch computation too fast (0.0699s.) Setting batch_size=4.\n",
      "[Parallel(n_jobs=-1)]: Done   2 tasks      | elapsed:    0.1s\n",
      "[Parallel(n_jobs=-1)]: Done   9 tasks      | elapsed:    0.2s\n",
      "[Parallel(n_jobs=-1)]: Done  16 tasks      | elapsed:    0.4s\n",
      "[Parallel(n_jobs=-1)]: Done  52 tasks      | elapsed:    1.4s\n",
      "[Parallel(n_jobs=-1)]: Batch computation too slow (2.0274s.) Setting batch_size=2.\n",
      "[Parallel(n_jobs=-1)]: Done 140 out of 140 | elapsed:  1.7min remaining:    0.0s\n",
      "[Parallel(n_jobs=-1)]: Done 140 out of 140 | elapsed:  1.7min finished\n",
      "/home/kento/anaconda3/lib/python3.6/site-packages/sklearn/linear_model/logistic.py:433: FutureWarning: Default solver will be changed to 'lbfgs' in 0.22. Specify a solver to silence this warning.\n",
      "  FutureWarning)\n"
     ]
    }
   ],
   "source": [
    "clf_lr_rus = GridSearchCV(lr, param_lr, cv=10, n_jobs=-1, verbose=10)\n",
    "clf_lr_rus.fit(X_train_rus, y_train_rus)\n",
    "y_pred_rus_lr = clf_lr_rus.predict(X_test_rus)"
   ]
  },
  {
   "cell_type": "code",
   "execution_count": 22,
   "metadata": {
    "collapsed": false
   },
   "outputs": [
    {
     "name": "stdout",
     "output_type": "stream",
     "text": [
      "accuracy LR under sampled 0.6706\n",
      "              precision    recall  f1-score   support\n",
      "\n",
      "           0       0.67      0.67      0.67       255\n",
      "           1       0.67      0.67      0.67       255\n",
      "\n",
      "   micro avg       0.67      0.67      0.67       510\n",
      "   macro avg       0.67      0.67      0.67       510\n",
      "weighted avg       0.67      0.67      0.67       510\n",
      "\n",
      "confusion matrix LR under sampled \n",
      "[[170  85]\n",
      " [ 83 172]]\n"
     ]
    }
   ],
   "source": [
    "print(\"accuracy LR under sampled {:.4f}\".format(accuracy_score(y_test_rus, y_pred_rus_lr)))\n",
    "print(\"{}\".format(classification_report(y_test_rus, y_pred_rus_lr)))\n",
    "print(\"confusion matrix LR under sampled \\n{}\".format(confusion_matrix(y_test_rus, y_pred_rus_lr)))"
   ]
  },
  {
   "cell_type": "markdown",
   "metadata": {},
   "source": [
    "### 学習データをバギング+アンダーサンプリング テストデータをアンダーサンプリング "
   ]
  },
  {
   "cell_type": "code",
   "execution_count": 23,
   "metadata": {
    "collapsed": false
   },
   "outputs": [
    {
     "name": "stderr",
     "output_type": "stream",
     "text": [
      "[Parallel(n_jobs=-1)]: Using backend LokyBackend with 8 concurrent workers.\n"
     ]
    },
    {
     "name": "stdout",
     "output_type": "stream",
     "text": [
      "Fitting 10 folds for each of 160 candidates, totalling 1600 fits\n"
     ]
    },
    {
     "name": "stderr",
     "output_type": "stream",
     "text": [
      "[Parallel(n_jobs=-1)]: Done   2 tasks      | elapsed:   20.0s\n",
      "[Parallel(n_jobs=-1)]: Done   9 tasks      | elapsed:   48.7s\n",
      "/home/kento/anaconda3/lib/python3.6/site-packages/sklearn/externals/joblib/externals/loky/process_executor.py:706: UserWarning: A worker stopped while some jobs were given to the executor. This can be caused by a too short worker timeout or by a memory leak.\n",
      "  \"timeout or by a memory leak.\", UserWarning\n",
      "[Parallel(n_jobs=-1)]: Done  16 tasks      | elapsed:  1.2min\n",
      "[Parallel(n_jobs=-1)]: Done  25 tasks      | elapsed:  3.1min\n",
      "[Parallel(n_jobs=-1)]: Done  34 tasks      | elapsed:  5.7min\n",
      "[Parallel(n_jobs=-1)]: Done  45 tasks      | elapsed: 10.1min\n",
      "[Parallel(n_jobs=-1)]: Done  56 tasks      | elapsed: 11.2min\n",
      "[Parallel(n_jobs=-1)]: Done  69 tasks      | elapsed: 13.3min\n",
      "[Parallel(n_jobs=-1)]: Done  82 tasks      | elapsed: 17.9min\n",
      "[Parallel(n_jobs=-1)]: Done  97 tasks      | elapsed: 24.0min\n",
      "[Parallel(n_jobs=-1)]: Done 112 tasks      | elapsed: 26.2min\n",
      "[Parallel(n_jobs=-1)]: Done 129 tasks      | elapsed: 32.2min\n",
      "[Parallel(n_jobs=-1)]: Done 146 tasks      | elapsed: 40.3min\n",
      "[Parallel(n_jobs=-1)]: Done 165 tasks      | elapsed: 44.0min\n",
      "[Parallel(n_jobs=-1)]: Done 184 tasks      | elapsed: 52.3min\n",
      "[Parallel(n_jobs=-1)]: Done 205 tasks      | elapsed: 61.7min\n",
      "[Parallel(n_jobs=-1)]: Done 226 tasks      | elapsed: 68.3min\n",
      "[Parallel(n_jobs=-1)]: Done 249 tasks      | elapsed: 82.5min\n",
      "[Parallel(n_jobs=-1)]: Done 272 tasks      | elapsed: 89.9min\n",
      "[Parallel(n_jobs=-1)]: Done 297 tasks      | elapsed: 105.2min\n",
      "[Parallel(n_jobs=-1)]: Done 322 tasks      | elapsed: 113.5min\n",
      "[Parallel(n_jobs=-1)]: Done 349 tasks      | elapsed: 129.5min\n",
      "[Parallel(n_jobs=-1)]: Done 376 tasks      | elapsed: 139.3min\n",
      "[Parallel(n_jobs=-1)]: Done 405 tasks      | elapsed: 154.0min\n",
      "[Parallel(n_jobs=-1)]: Done 434 tasks      | elapsed: 160.2min\n",
      "[Parallel(n_jobs=-1)]: Done 465 tasks      | elapsed: 166.7min\n",
      "[Parallel(n_jobs=-1)]: Done 496 tasks      | elapsed: 177.7min\n",
      "[Parallel(n_jobs=-1)]: Done 529 tasks      | elapsed: 186.1min\n",
      "[Parallel(n_jobs=-1)]: Done 562 tasks      | elapsed: 196.6min\n",
      "[Parallel(n_jobs=-1)]: Done 597 tasks      | elapsed: 211.7min\n",
      "[Parallel(n_jobs=-1)]: Done 632 tasks      | elapsed: 222.4min\n",
      "[Parallel(n_jobs=-1)]: Done 669 tasks      | elapsed: 235.3min\n",
      "[Parallel(n_jobs=-1)]: Done 706 tasks      | elapsed: 250.5min\n",
      "[Parallel(n_jobs=-1)]: Done 745 tasks      | elapsed: 268.2min\n",
      "[Parallel(n_jobs=-1)]: Done 784 tasks      | elapsed: 281.7min\n",
      "[Parallel(n_jobs=-1)]: Done 825 tasks      | elapsed: 291.4min\n",
      "[Parallel(n_jobs=-1)]: Done 866 tasks      | elapsed: 300.7min\n",
      "[Parallel(n_jobs=-1)]: Done 909 tasks      | elapsed: 313.4min\n",
      "[Parallel(n_jobs=-1)]: Done 952 tasks      | elapsed: 327.2min\n",
      "[Parallel(n_jobs=-1)]: Done 997 tasks      | elapsed: 342.3min\n",
      "[Parallel(n_jobs=-1)]: Done 1042 tasks      | elapsed: 357.3min\n",
      "[Parallel(n_jobs=-1)]: Done 1089 tasks      | elapsed: 372.0min\n",
      "[Parallel(n_jobs=-1)]: Done 1136 tasks      | elapsed: 386.2min\n",
      "[Parallel(n_jobs=-1)]: Done 1185 tasks      | elapsed: 402.6min\n",
      "[Parallel(n_jobs=-1)]: Done 1234 tasks      | elapsed: 414.0min\n",
      "[Parallel(n_jobs=-1)]: Done 1285 tasks      | elapsed: 426.2min\n",
      "[Parallel(n_jobs=-1)]: Done 1336 tasks      | elapsed: 439.9min\n",
      "[Parallel(n_jobs=-1)]: Done 1389 tasks      | elapsed: 456.5min\n",
      "[Parallel(n_jobs=-1)]: Done 1442 tasks      | elapsed: 472.6min\n",
      "[Parallel(n_jobs=-1)]: Done 1497 tasks      | elapsed: 488.5min\n",
      "[Parallel(n_jobs=-1)]: Done 1552 tasks      | elapsed: 504.1min\n",
      "[Parallel(n_jobs=-1)]: Done 1600 out of 1600 | elapsed: 518.3min finished\n",
      "[Parallel(n_jobs=8)]: Using backend LokyBackend with 8 concurrent workers.\n",
      "[Parallel(n_jobs=8)]: Done   2 out of   8 | elapsed:   10.7s remaining:   32.2s\n",
      "[Parallel(n_jobs=8)]: Done   3 out of   8 | elapsed:   10.8s remaining:   18.1s\n",
      "[Parallel(n_jobs=8)]: Done   4 out of   8 | elapsed:   11.0s remaining:   11.0s\n",
      "[Parallel(n_jobs=8)]: Done   5 out of   8 | elapsed:   11.2s remaining:    6.7s\n",
      "[Parallel(n_jobs=8)]: Done   6 out of   8 | elapsed:   11.3s remaining:    3.8s\n",
      "[Parallel(n_jobs=8)]: Done   8 out of   8 | elapsed:   17.6s remaining:    0.0s\n",
      "[Parallel(n_jobs=8)]: Done   8 out of   8 | elapsed:   17.6s finished\n",
      "[Parallel(n_jobs=8)]: Using backend LokyBackend with 8 concurrent workers.\n",
      "[Parallel(n_jobs=8)]: Batch computation too fast (0.0284s.) Setting batch_size=14.\n",
      "[Parallel(n_jobs=8)]: Done   2 out of   8 | elapsed:    0.0s remaining:    0.1s\n",
      "[Parallel(n_jobs=8)]: Done   3 out of   8 | elapsed:    0.0s remaining:    0.1s\n",
      "[Parallel(n_jobs=8)]: Done   4 out of   8 | elapsed:    0.0s remaining:    0.0s\n",
      "[Parallel(n_jobs=8)]: Done   5 out of   8 | elapsed:    0.0s remaining:    0.0s\n",
      "[Parallel(n_jobs=8)]: Done   6 out of   8 | elapsed:    0.0s remaining:    0.0s\n",
      "[Parallel(n_jobs=8)]: Done   8 out of   8 | elapsed:    0.0s remaining:    0.0s\n",
      "[Parallel(n_jobs=8)]: Done   8 out of   8 | elapsed:    0.0s finished\n"
     ]
    }
   ],
   "source": [
    "bbc_xgb = BalancedBaggingClassifier(base_estimator=xgb,n_estimators=10,replacement=False,n_jobs=-1,random_state=0,verbose=10)\n",
    "clf_xgb_bbc = GridSearchCV(bbc_xgb, param_xgb_bbc, cv=10, n_jobs=-1,verbose=10)\n",
    "clf_xgb_bbc.fit(X_train, y_train)\n",
    "y_pred_bbc_xgb = clf_xgb_bbc.predict(X_test_rus)"
   ]
  },
  {
   "cell_type": "code",
   "execution_count": 24,
   "metadata": {
    "collapsed": false
   },
   "outputs": [
    {
     "name": "stdout",
     "output_type": "stream",
     "text": [
      "accuracy xgb bagging 0.7137\n",
      "              precision    recall  f1-score   support\n",
      "\n",
      "           0       0.69      0.77      0.73       255\n",
      "           1       0.74      0.65      0.70       255\n",
      "\n",
      "   micro avg       0.71      0.71      0.71       510\n",
      "   macro avg       0.72      0.71      0.71       510\n",
      "weighted avg       0.72      0.71      0.71       510\n",
      "\n",
      "confusion matrix xgb bagging \n",
      "[[197  58]\n",
      " [ 88 167]]\n"
     ]
    }
   ],
   "source": [
    "print(\"accuracy xgb bagging {:.4f}\".format(accuracy_score(y_test_rus, y_pred_bbc_xgb)))\n",
    "print(\"{}\".format(classification_report(y_test_rus, y_pred_bbc_xgb)))\n",
    "print(\"confusion matrix xgb bagging \\n{}\".format(confusion_matrix(y_test_rus, y_pred_bbc_xgb)))"
   ]
  },
  {
   "cell_type": "code",
   "execution_count": 25,
   "metadata": {
    "collapsed": false
   },
   "outputs": [
    {
     "name": "stderr",
     "output_type": "stream",
     "text": [
      "[Parallel(n_jobs=-1)]: Using backend LokyBackend with 8 concurrent workers.\n"
     ]
    },
    {
     "name": "stdout",
     "output_type": "stream",
     "text": [
      "Fitting 10 folds for each of 14 candidates, totalling 140 fits\n"
     ]
    },
    {
     "name": "stderr",
     "output_type": "stream",
     "text": [
      "[Parallel(n_jobs=-1)]: Done   2 tasks      | elapsed:    7.8s\n",
      "/home/kento/anaconda3/lib/python3.6/site-packages/sklearn/externals/joblib/externals/loky/process_executor.py:706: UserWarning: A worker stopped while some jobs were given to the executor. This can be caused by a too short worker timeout or by a memory leak.\n",
      "  \"timeout or by a memory leak.\", UserWarning\n",
      "[Parallel(n_jobs=-1)]: Done   9 tasks      | elapsed:   12.6s\n",
      "[Parallel(n_jobs=-1)]: Done  16 tasks      | elapsed:   17.6s\n",
      "[Parallel(n_jobs=-1)]: Done  25 tasks      | elapsed:   28.9s\n",
      "[Parallel(n_jobs=-1)]: Done  34 tasks      | elapsed:   35.9s\n",
      "[Parallel(n_jobs=-1)]: Done  45 tasks      | elapsed:   55.0s\n",
      "[Parallel(n_jobs=-1)]: Done  56 tasks      | elapsed:  1.1min\n",
      "[Parallel(n_jobs=-1)]: Done  69 tasks      | elapsed:  2.0min\n",
      "[Parallel(n_jobs=-1)]: Done  82 tasks      | elapsed:  3.3min\n",
      "[Parallel(n_jobs=-1)]: Done  97 tasks      | elapsed: 20.9min\n",
      "[Parallel(n_jobs=-1)]: Done 112 tasks      | elapsed: 86.1min\n",
      "[Parallel(n_jobs=-1)]: Done 140 out of 140 | elapsed: 197.8min remaining:    0.0s\n",
      "[Parallel(n_jobs=-1)]: Done 140 out of 140 | elapsed: 197.8min finished\n",
      "[Parallel(n_jobs=8)]: Using backend LokyBackend with 8 concurrent workers.\n",
      "[Parallel(n_jobs=8)]: Done   2 out of   8 | elapsed:    0.6s remaining:    1.7s\n",
      "[Parallel(n_jobs=8)]: Done   3 out of   8 | elapsed:    0.6s remaining:    1.0s\n",
      "[Parallel(n_jobs=8)]: Done   4 out of   8 | elapsed:    0.6s remaining:    0.6s\n",
      "[Parallel(n_jobs=8)]: Done   5 out of   8 | elapsed:    0.8s remaining:    0.5s\n",
      "[Parallel(n_jobs=8)]: Done   6 out of   8 | elapsed:    0.9s remaining:    0.3s\n",
      "[Parallel(n_jobs=8)]: Done   8 out of   8 | elapsed:    1.6s remaining:    0.0s\n",
      "[Parallel(n_jobs=8)]: Done   8 out of   8 | elapsed:    1.6s finished\n",
      "[Parallel(n_jobs=8)]: Using backend LokyBackend with 8 concurrent workers.\n",
      "[Parallel(n_jobs=8)]: Batch computation too fast (0.0205s.) Setting batch_size=18.\n",
      "[Parallel(n_jobs=8)]: Done   2 out of   8 | elapsed:    0.1s remaining:    0.3s\n",
      "[Parallel(n_jobs=8)]: Done   3 out of   8 | elapsed:    0.1s remaining:    0.2s\n",
      "[Parallel(n_jobs=8)]: Done   4 out of   8 | elapsed:    0.2s remaining:    0.2s\n",
      "[Parallel(n_jobs=8)]: Done   5 out of   8 | elapsed:    0.2s remaining:    0.1s\n",
      "[Parallel(n_jobs=8)]: Done   6 out of   8 | elapsed:    0.7s remaining:    0.2s\n",
      "[Parallel(n_jobs=8)]: Done   8 out of   8 | elapsed:    0.8s remaining:    0.0s\n",
      "[Parallel(n_jobs=8)]: Done   8 out of   8 | elapsed:    0.8s finished\n"
     ]
    }
   ],
   "source": [
    "bbc_lr = BalancedBaggingClassifier(base_estimator=lr,n_estimators=100,replacement=False,n_jobs=-1,random_state=0,verbose=10)\n",
    "clf_lr_bbc = GridSearchCV(bbc_lr, param_lr_bbc, cv=10, n_jobs=-1,verbose=10)\n",
    "clf_lr_bbc.fit(X_train, y_train)\n",
    "y_pred_bbc_lr = clf_lr_bbc.predict(X_test_rus)"
   ]
  },
  {
   "cell_type": "code",
   "execution_count": 26,
   "metadata": {
    "collapsed": false
   },
   "outputs": [
    {
     "name": "stdout",
     "output_type": "stream",
     "text": [
      "accuracy LR bagging 0.5000\n",
      "              precision    recall  f1-score   support\n",
      "\n",
      "           0       0.50      1.00      0.67       255\n",
      "           1       0.00      0.00      0.00       255\n",
      "\n",
      "   micro avg       0.50      0.50      0.50       510\n",
      "   macro avg       0.25      0.50      0.33       510\n",
      "weighted avg       0.25      0.50      0.33       510\n",
      "\n",
      "confusion matrix LR bagging\n",
      "[[255   0]\n",
      " [255   0]]\n"
     ]
    },
    {
     "name": "stderr",
     "output_type": "stream",
     "text": [
      "/home/kento/anaconda3/lib/python3.6/site-packages/sklearn/metrics/classification.py:1143: UndefinedMetricWarning: Precision and F-score are ill-defined and being set to 0.0 in labels with no predicted samples.\n",
      "  'precision', 'predicted', average, warn_for)\n"
     ]
    }
   ],
   "source": [
    "print(\"accuracy LR bagging {:.4f}\".format(accuracy_score(y_test_rus, y_pred_bbc_lr)))\n",
    "print(\"{}\".format(classification_report(y_test_rus, y_pred_bbc_lr)))\n",
    "print(\"confusion matrix LR bagging\\n{}\".format(confusion_matrix(y_test_rus, y_pred_bbc_lr)))"
   ]
  },
  {
   "cell_type": "markdown",
   "metadata": {},
   "source": [
    "## 3. Non-formal education"
   ]
  },
  {
   "cell_type": "markdown",
   "metadata": {},
   "source": [
    "### 学習データ，テストデータともにアンダーサンプリング"
   ]
  },
  {
   "cell_type": "code",
   "execution_count": 27,
   "metadata": {
    "collapsed": true
   },
   "outputs": [],
   "source": [
    "X_train, X_test, y_train, y_test = train_test_split(X, y_lst[2], test_size=0.2, random_state=0)\n",
    "rus = RandomUnderSampler(random_state=0)\n",
    "X_train_rus, y_train_rus = rus.fit_sample(X_train, y_train)\n",
    "X_test_rus, y_test_rus = rus.fit_sample(X_test, y_test)"
   ]
  },
  {
   "cell_type": "code",
   "execution_count": 28,
   "metadata": {
    "collapsed": false
   },
   "outputs": [
    {
     "name": "stderr",
     "output_type": "stream",
     "text": [
      "[Parallel(n_jobs=-1)]: Using backend LokyBackend with 8 concurrent workers.\n"
     ]
    },
    {
     "name": "stdout",
     "output_type": "stream",
     "text": [
      "Fitting 10 folds for each of 160 candidates, totalling 1600 fits\n"
     ]
    },
    {
     "name": "stderr",
     "output_type": "stream",
     "text": [
      "[Parallel(n_jobs=-1)]: Done   2 tasks      | elapsed:    3.1s\n",
      "[Parallel(n_jobs=-1)]: Done   9 tasks      | elapsed:    6.2s\n",
      "[Parallel(n_jobs=-1)]: Done  16 tasks      | elapsed:   11.8s\n",
      "[Parallel(n_jobs=-1)]: Done  25 tasks      | elapsed:   27.3s\n",
      "[Parallel(n_jobs=-1)]: Done  34 tasks      | elapsed:   47.6s\n",
      "[Parallel(n_jobs=-1)]: Done  45 tasks      | elapsed:  1.3min\n",
      "[Parallel(n_jobs=-1)]: Done  56 tasks      | elapsed:  1.5min\n",
      "[Parallel(n_jobs=-1)]: Done  69 tasks      | elapsed:  1.8min\n",
      "[Parallel(n_jobs=-1)]: Done  82 tasks      | elapsed:  2.4min\n",
      "[Parallel(n_jobs=-1)]: Done  97 tasks      | elapsed:  3.3min\n",
      "[Parallel(n_jobs=-1)]: Done 112 tasks      | elapsed:  3.6min\n",
      "[Parallel(n_jobs=-1)]: Done 129 tasks      | elapsed:  4.4min\n",
      "[Parallel(n_jobs=-1)]: Done 146 tasks      | elapsed:  5.6min\n",
      "[Parallel(n_jobs=-1)]: Done 165 tasks      | elapsed:  6.1min\n",
      "[Parallel(n_jobs=-1)]: Done 184 tasks      | elapsed:  7.3min\n",
      "[Parallel(n_jobs=-1)]: Done 205 tasks      | elapsed:  8.6min\n",
      "[Parallel(n_jobs=-1)]: Done 226 tasks      | elapsed:  9.6min\n",
      "[Parallel(n_jobs=-1)]: Done 249 tasks      | elapsed: 11.8min\n",
      "[Parallel(n_jobs=-1)]: Done 272 tasks      | elapsed: 12.9min\n",
      "[Parallel(n_jobs=-1)]: Done 297 tasks      | elapsed: 15.2min\n",
      "[Parallel(n_jobs=-1)]: Done 322 tasks      | elapsed: 16.7min\n",
      "[Parallel(n_jobs=-1)]: Done 349 tasks      | elapsed: 19.3min\n",
      "[Parallel(n_jobs=-1)]: Done 376 tasks      | elapsed: 20.8min\n",
      "[Parallel(n_jobs=-1)]: Done 405 tasks      | elapsed: 23.4min\n",
      "[Parallel(n_jobs=-1)]: Done 434 tasks      | elapsed: 24.4min\n",
      "[Parallel(n_jobs=-1)]: Done 465 tasks      | elapsed: 25.4min\n",
      "[Parallel(n_jobs=-1)]: Done 496 tasks      | elapsed: 26.8min\n",
      "[Parallel(n_jobs=-1)]: Done 529 tasks      | elapsed: 28.0min\n",
      "[Parallel(n_jobs=-1)]: Done 562 tasks      | elapsed: 29.6min\n",
      "[Parallel(n_jobs=-1)]: Done 597 tasks      | elapsed: 31.9min\n",
      "[Parallel(n_jobs=-1)]: Done 632 tasks      | elapsed: 33.7min\n",
      "[Parallel(n_jobs=-1)]: Done 669 tasks      | elapsed: 35.7min\n",
      "[Parallel(n_jobs=-1)]: Done 706 tasks      | elapsed: 38.6min\n",
      "[Parallel(n_jobs=-1)]: Done 745 tasks      | elapsed: 41.6min\n",
      "[Parallel(n_jobs=-1)]: Done 784 tasks      | elapsed: 44.0min\n",
      "[Parallel(n_jobs=-1)]: Done 825 tasks      | elapsed: 46.0min\n",
      "[Parallel(n_jobs=-1)]: Done 866 tasks      | elapsed: 47.2min\n",
      "[Parallel(n_jobs=-1)]: Done 909 tasks      | elapsed: 49.0min\n",
      "[Parallel(n_jobs=-1)]: Done 952 tasks      | elapsed: 51.0min\n",
      "[Parallel(n_jobs=-1)]: Done 997 tasks      | elapsed: 53.5min\n",
      "[Parallel(n_jobs=-1)]: Done 1042 tasks      | elapsed: 56.1min\n",
      "[Parallel(n_jobs=-1)]: Done 1089 tasks      | elapsed: 58.8min\n",
      "[Parallel(n_jobs=-1)]: Done 1136 tasks      | elapsed: 61.4min\n",
      "[Parallel(n_jobs=-1)]: Done 1185 tasks      | elapsed: 64.5min\n",
      "[Parallel(n_jobs=-1)]: Done 1234 tasks      | elapsed: 66.5min\n",
      "[Parallel(n_jobs=-1)]: Done 1285 tasks      | elapsed: 68.2min\n",
      "[Parallel(n_jobs=-1)]: Done 1336 tasks      | elapsed: 70.3min\n",
      "[Parallel(n_jobs=-1)]: Done 1389 tasks      | elapsed: 73.1min\n",
      "[Parallel(n_jobs=-1)]: Done 1442 tasks      | elapsed: 75.9min\n",
      "[Parallel(n_jobs=-1)]: Done 1497 tasks      | elapsed: 78.9min\n",
      "[Parallel(n_jobs=-1)]: Done 1552 tasks      | elapsed: 81.8min\n",
      "[Parallel(n_jobs=-1)]: Done 1600 out of 1600 | elapsed: 84.7min finished\n"
     ]
    }
   ],
   "source": [
    "clf_xgb_rus = GridSearchCV(xgb, param_xgb, cv=10, n_jobs=-1,verbose=10)\n",
    "clf_xgb_rus.fit(X_train_rus, y_train_rus)\n",
    "y_pred_rus_xgb = clf_xgb_rus.predict(X_test_rus)"
   ]
  },
  {
   "cell_type": "code",
   "execution_count": 29,
   "metadata": {
    "collapsed": false
   },
   "outputs": [
    {
     "name": "stdout",
     "output_type": "stream",
     "text": [
      "accuracy xgb under sampled 0.6342\n",
      "              precision    recall  f1-score   support\n",
      "\n",
      "           0       0.61      0.72      0.66       298\n",
      "           1       0.66      0.55      0.60       298\n",
      "\n",
      "   micro avg       0.63      0.63      0.63       596\n",
      "   macro avg       0.64      0.63      0.63       596\n",
      "weighted avg       0.64      0.63      0.63       596\n",
      "\n",
      "confusion matrix xgb under sampled\n",
      "[[215  83]\n",
      " [135 163]]\n"
     ]
    }
   ],
   "source": [
    "print(\"accuracy xgb under sampled {:.4f}\".format(accuracy_score(y_test_rus, y_pred_rus_xgb)))\n",
    "print(\"{}\".format(classification_report(y_test_rus, y_pred_rus_xgb)))\n",
    "print(\"confusion matrix xgb under sampled\\n{}\".format(confusion_matrix(y_test_rus, y_pred_rus_xgb)))"
   ]
  },
  {
   "cell_type": "code",
   "execution_count": 30,
   "metadata": {
    "collapsed": false
   },
   "outputs": [
    {
     "name": "stdout",
     "output_type": "stream",
     "text": [
      "Fitting 10 folds for each of 14 candidates, totalling 140 fits\n"
     ]
    },
    {
     "name": "stderr",
     "output_type": "stream",
     "text": [
      "[Parallel(n_jobs=-1)]: Using backend LokyBackend with 8 concurrent workers.\n",
      "[Parallel(n_jobs=-1)]: Batch computation too fast (0.0356s.) Setting batch_size=10.\n",
      "[Parallel(n_jobs=-1)]: Done   2 tasks      | elapsed:    0.0s\n",
      "[Parallel(n_jobs=-1)]: Done   9 tasks      | elapsed:    0.2s\n",
      "[Parallel(n_jobs=-1)]: Done  80 out of 140 | elapsed:   11.9s remaining:    8.9s\n",
      "[Parallel(n_jobs=-1)]: Done 110 out of 140 | elapsed:  1.8min remaining:   29.1s\n",
      "[Parallel(n_jobs=-1)]: Done 140 out of 140 | elapsed:  2.4min remaining:    0.0s\n",
      "[Parallel(n_jobs=-1)]: Done 140 out of 140 | elapsed:  2.4min finished\n",
      "/home/kento/anaconda3/lib/python3.6/site-packages/sklearn/linear_model/logistic.py:433: FutureWarning: Default solver will be changed to 'lbfgs' in 0.22. Specify a solver to silence this warning.\n",
      "  FutureWarning)\n"
     ]
    }
   ],
   "source": [
    "clf_lr_rus = GridSearchCV(lr, param_lr, cv=10, n_jobs=-1, verbose=10)\n",
    "clf_lr_rus.fit(X_train_rus, y_train_rus)\n",
    "y_pred_rus_lr = clf_lr_rus.predict(X_test_rus)"
   ]
  },
  {
   "cell_type": "code",
   "execution_count": 31,
   "metadata": {
    "collapsed": false
   },
   "outputs": [
    {
     "name": "stdout",
     "output_type": "stream",
     "text": [
      "accuracy LR under sampled 0.6242\n",
      "              precision    recall  f1-score   support\n",
      "\n",
      "           0       0.61      0.69      0.65       298\n",
      "           1       0.64      0.56      0.60       298\n",
      "\n",
      "   micro avg       0.62      0.62      0.62       596\n",
      "   macro avg       0.63      0.62      0.62       596\n",
      "weighted avg       0.63      0.62      0.62       596\n",
      "\n",
      "confusion matrix LR under sampled \n",
      "[[205  93]\n",
      " [131 167]]\n"
     ]
    }
   ],
   "source": [
    "print(\"accuracy LR under sampled {:.4f}\".format(accuracy_score(y_test_rus, y_pred_rus_lr)))\n",
    "print(\"{}\".format(classification_report(y_test_rus, y_pred_rus_lr)))\n",
    "print(\"confusion matrix LR under sampled \\n{}\".format(confusion_matrix(y_test_rus, y_pred_rus_lr)))"
   ]
  },
  {
   "cell_type": "markdown",
   "metadata": {},
   "source": [
    "### 学習データをバギング+アンダーサンプリング テストデータをアンダーサンプリング "
   ]
  },
  {
   "cell_type": "code",
   "execution_count": 32,
   "metadata": {
    "collapsed": false
   },
   "outputs": [
    {
     "name": "stdout",
     "output_type": "stream",
     "text": [
      "Fitting 10 folds for each of 160 candidates, totalling 1600 fits\n"
     ]
    },
    {
     "name": "stderr",
     "output_type": "stream",
     "text": [
      "[Parallel(n_jobs=-1)]: Using backend LokyBackend with 8 concurrent workers.\n",
      "[Parallel(n_jobs=-1)]: Done   2 tasks      | elapsed:   25.1s\n",
      "/home/kento/anaconda3/lib/python3.6/site-packages/sklearn/externals/joblib/externals/loky/process_executor.py:706: UserWarning: A worker stopped while some jobs were given to the executor. This can be caused by a too short worker timeout or by a memory leak.\n",
      "  \"timeout or by a memory leak.\", UserWarning\n",
      "[Parallel(n_jobs=-1)]: Done   9 tasks      | elapsed:   56.1s\n",
      "[Parallel(n_jobs=-1)]: Done  16 tasks      | elapsed:  1.6min\n",
      "[Parallel(n_jobs=-1)]: Done  25 tasks      | elapsed:  4.1min\n",
      "[Parallel(n_jobs=-1)]: Done  34 tasks      | elapsed:  7.4min\n",
      "[Parallel(n_jobs=-1)]: Done  45 tasks      | elapsed: 12.6min\n",
      "[Parallel(n_jobs=-1)]: Done  56 tasks      | elapsed: 14.1min\n",
      "[Parallel(n_jobs=-1)]: Done  69 tasks      | elapsed: 16.9min\n",
      "[Parallel(n_jobs=-1)]: Done  82 tasks      | elapsed: 22.4min\n",
      "[Parallel(n_jobs=-1)]: Done  97 tasks      | elapsed: 30.4min\n",
      "[Parallel(n_jobs=-1)]: Done 112 tasks      | elapsed: 33.1min\n",
      "[Parallel(n_jobs=-1)]: Done 129 tasks      | elapsed: 40.5min\n",
      "[Parallel(n_jobs=-1)]: Done 146 tasks      | elapsed: 51.1min\n",
      "[Parallel(n_jobs=-1)]: Done 165 tasks      | elapsed: 55.7min\n",
      "[Parallel(n_jobs=-1)]: Done 184 tasks      | elapsed: 66.3min\n",
      "[Parallel(n_jobs=-1)]: Done 205 tasks      | elapsed: 78.6min\n",
      "[Parallel(n_jobs=-1)]: Done 226 tasks      | elapsed: 87.2min\n",
      "[Parallel(n_jobs=-1)]: Done 249 tasks      | elapsed: 106.1min\n",
      "[Parallel(n_jobs=-1)]: Done 272 tasks      | elapsed: 115.8min\n",
      "[Parallel(n_jobs=-1)]: Done 297 tasks      | elapsed: 136.7min\n",
      "[Parallel(n_jobs=-1)]: Done 322 tasks      | elapsed: 148.2min\n",
      "[Parallel(n_jobs=-1)]: Done 349 tasks      | elapsed: 171.1min\n",
      "[Parallel(n_jobs=-1)]: Done 376 tasks      | elapsed: 184.3min\n",
      "[Parallel(n_jobs=-1)]: Done 405 tasks      | elapsed: 205.2min\n",
      "[Parallel(n_jobs=-1)]: Done 434 tasks      | elapsed: 213.8min\n",
      "[Parallel(n_jobs=-1)]: Done 465 tasks      | elapsed: 221.7min\n",
      "[Parallel(n_jobs=-1)]: Done 496 tasks      | elapsed: 235.2min\n",
      "[Parallel(n_jobs=-1)]: Done 529 tasks      | elapsed: 246.3min\n",
      "[Parallel(n_jobs=-1)]: Done 562 tasks      | elapsed: 259.7min\n",
      "[Parallel(n_jobs=-1)]: Done 597 tasks      | elapsed: 280.3min\n",
      "[Parallel(n_jobs=-1)]: Done 632 tasks      | elapsed: 295.4min\n",
      "[Parallel(n_jobs=-1)]: Done 669 tasks      | elapsed: 313.3min\n",
      "[Parallel(n_jobs=-1)]: Done 706 tasks      | elapsed: 335.2min\n",
      "[Parallel(n_jobs=-1)]: Done 745 tasks      | elapsed: 360.4min\n",
      "[Parallel(n_jobs=-1)]: Done 784 tasks      | elapsed: 379.5min\n",
      "[Parallel(n_jobs=-1)]: Done 825 tasks      | elapsed: 393.9min\n",
      "[Parallel(n_jobs=-1)]: Done 866 tasks      | elapsed: 405.1min\n",
      "[Parallel(n_jobs=-1)]: Done 909 tasks      | elapsed: 421.8min\n",
      "[Parallel(n_jobs=-1)]: Done 952 tasks      | elapsed: 440.4min\n",
      "[Parallel(n_jobs=-1)]: Done 997 tasks      | elapsed: 461.5min\n",
      "[Parallel(n_jobs=-1)]: Done 1042 tasks      | elapsed: 482.6min\n",
      "[Parallel(n_jobs=-1)]: Done 1089 tasks      | elapsed: 504.2min\n",
      "[Parallel(n_jobs=-1)]: Done 1136 tasks      | elapsed: 524.5min\n",
      "[Parallel(n_jobs=-1)]: Done 1185 tasks      | elapsed: 548.9min\n",
      "[Parallel(n_jobs=-1)]: Done 1234 tasks      | elapsed: 564.2min\n",
      "[Parallel(n_jobs=-1)]: Done 1285 tasks      | elapsed: 580.1min\n",
      "[Parallel(n_jobs=-1)]: Done 1336 tasks      | elapsed: 598.7min\n",
      "[Parallel(n_jobs=-1)]: Done 1389 tasks      | elapsed: 622.1min\n",
      "[Parallel(n_jobs=-1)]: Done 1442 tasks      | elapsed: 645.2min\n",
      "[Parallel(n_jobs=-1)]: Done 1497 tasks      | elapsed: 668.1min\n",
      "[Parallel(n_jobs=-1)]: Done 1552 tasks      | elapsed: 691.1min\n",
      "[Parallel(n_jobs=-1)]: Done 1600 out of 1600 | elapsed: 712.1min finished\n",
      "[Parallel(n_jobs=8)]: Using backend LokyBackend with 8 concurrent workers.\n",
      "[Parallel(n_jobs=8)]: Done   2 out of   8 | elapsed:   11.0s remaining:   33.1s\n",
      "[Parallel(n_jobs=8)]: Done   3 out of   8 | elapsed:   11.0s remaining:   18.4s\n",
      "[Parallel(n_jobs=8)]: Done   4 out of   8 | elapsed:   11.1s remaining:   11.1s\n",
      "[Parallel(n_jobs=8)]: Done   5 out of   8 | elapsed:   11.3s remaining:    6.8s\n",
      "[Parallel(n_jobs=8)]: Done   6 out of   8 | elapsed:   11.3s remaining:    3.8s\n",
      "[Parallel(n_jobs=8)]: Done   8 out of   8 | elapsed:   17.3s remaining:    0.0s\n",
      "[Parallel(n_jobs=8)]: Done   8 out of   8 | elapsed:   17.3s finished\n",
      "[Parallel(n_jobs=8)]: Using backend LokyBackend with 8 concurrent workers.\n",
      "[Parallel(n_jobs=8)]: Batch computation too fast (0.0256s.) Setting batch_size=14.\n",
      "[Parallel(n_jobs=8)]: Done   2 out of   8 | elapsed:    0.0s remaining:    0.1s\n",
      "[Parallel(n_jobs=8)]: Done   3 out of   8 | elapsed:    0.0s remaining:    0.1s\n",
      "[Parallel(n_jobs=8)]: Done   4 out of   8 | elapsed:    0.0s remaining:    0.0s\n",
      "[Parallel(n_jobs=8)]: Done   5 out of   8 | elapsed:    0.0s remaining:    0.0s\n",
      "[Parallel(n_jobs=8)]: Done   6 out of   8 | elapsed:    0.0s remaining:    0.0s\n",
      "[Parallel(n_jobs=8)]: Done   8 out of   8 | elapsed:    0.0s remaining:    0.0s\n",
      "[Parallel(n_jobs=8)]: Done   8 out of   8 | elapsed:    0.0s finished\n"
     ]
    }
   ],
   "source": [
    "bbc_xgb = BalancedBaggingClassifier(base_estimator=xgb,n_estimators=10,replacement=False,n_jobs=-1,random_state=0,verbose=10)\n",
    "clf_xgb_bbc = GridSearchCV(bbc_xgb, param_xgb_bbc, cv=10, n_jobs=-1,verbose=10)\n",
    "clf_xgb_bbc.fit(X_train, y_train)\n",
    "y_pred_bbc_xgb = clf_xgb_bbc.predict(X_test_rus)"
   ]
  },
  {
   "cell_type": "code",
   "execution_count": 33,
   "metadata": {
    "collapsed": false
   },
   "outputs": [
    {
     "name": "stdout",
     "output_type": "stream",
     "text": [
      "accuracy xgb bagging 0.6242\n",
      "              precision    recall  f1-score   support\n",
      "\n",
      "           0       0.63      0.62      0.62       298\n",
      "           1       0.62      0.63      0.63       298\n",
      "\n",
      "   micro avg       0.62      0.62      0.62       596\n",
      "   macro avg       0.62      0.62      0.62       596\n",
      "weighted avg       0.62      0.62      0.62       596\n",
      "\n",
      "confusion matrix xgb bagging \n",
      "[[184 114]\n",
      " [110 188]]\n"
     ]
    }
   ],
   "source": [
    "print(\"accuracy xgb bagging {:.4f}\".format(accuracy_score(y_test_rus, y_pred_bbc_xgb)))\n",
    "print(\"{}\".format(classification_report(y_test_rus, y_pred_bbc_xgb)))\n",
    "print(\"confusion matrix xgb bagging \\n{}\".format(confusion_matrix(y_test_rus, y_pred_bbc_xgb)))"
   ]
  },
  {
   "cell_type": "code",
   "execution_count": 34,
   "metadata": {
    "collapsed": false
   },
   "outputs": [
    {
     "name": "stderr",
     "output_type": "stream",
     "text": [
      "[Parallel(n_jobs=-1)]: Using backend LokyBackend with 8 concurrent workers.\n"
     ]
    },
    {
     "name": "stdout",
     "output_type": "stream",
     "text": [
      "Fitting 10 folds for each of 14 candidates, totalling 140 fits\n"
     ]
    },
    {
     "name": "stderr",
     "output_type": "stream",
     "text": [
      "[Parallel(n_jobs=-1)]: Done   2 tasks      | elapsed:    9.7s\n",
      "/home/kento/anaconda3/lib/python3.6/site-packages/sklearn/externals/joblib/externals/loky/process_executor.py:706: UserWarning: A worker stopped while some jobs were given to the executor. This can be caused by a too short worker timeout or by a memory leak.\n",
      "  \"timeout or by a memory leak.\", UserWarning\n",
      "[Parallel(n_jobs=-1)]: Done   9 tasks      | elapsed:   14.8s\n",
      "[Parallel(n_jobs=-1)]: Done  16 tasks      | elapsed:   20.6s\n",
      "[Parallel(n_jobs=-1)]: Done  25 tasks      | elapsed:   35.4s\n",
      "[Parallel(n_jobs=-1)]: Done  34 tasks      | elapsed:   43.5s\n",
      "[Parallel(n_jobs=-1)]: Done  45 tasks      | elapsed:  1.2min\n",
      "[Parallel(n_jobs=-1)]: Done  56 tasks      | elapsed:  1.4min\n",
      "[Parallel(n_jobs=-1)]: Done  69 tasks      | elapsed:  2.5min\n",
      "[Parallel(n_jobs=-1)]: Done  82 tasks      | elapsed:  4.6min\n",
      "[Parallel(n_jobs=-1)]: Done  97 tasks      | elapsed: 30.3min\n",
      "[Parallel(n_jobs=-1)]: Done 112 tasks      | elapsed: 115.9min\n",
      "[Parallel(n_jobs=-1)]: Done 140 out of 140 | elapsed: 259.5min remaining:    0.0s\n",
      "[Parallel(n_jobs=-1)]: Done 140 out of 140 | elapsed: 259.5min finished\n",
      "[Parallel(n_jobs=8)]: Using backend LokyBackend with 8 concurrent workers.\n",
      "[Parallel(n_jobs=8)]: Done   2 out of   8 | elapsed:    9.5s remaining:   28.6s\n",
      "[Parallel(n_jobs=8)]: Done   3 out of   8 | elapsed:    9.5s remaining:   15.9s\n",
      "[Parallel(n_jobs=8)]: Done   4 out of   8 | elapsed:    9.9s remaining:    9.9s\n",
      "[Parallel(n_jobs=8)]: Done   5 out of   8 | elapsed:   10.0s remaining:    6.0s\n",
      "[Parallel(n_jobs=8)]: Done   6 out of   8 | elapsed:   10.2s remaining:    3.4s\n",
      "[Parallel(n_jobs=8)]: Done   8 out of   8 | elapsed:   11.3s remaining:    0.0s\n",
      "[Parallel(n_jobs=8)]: Done   8 out of   8 | elapsed:   11.3s finished\n",
      "[Parallel(n_jobs=8)]: Using backend LokyBackend with 8 concurrent workers.\n",
      "[Parallel(n_jobs=8)]: Batch computation too fast (0.0259s.) Setting batch_size=14.\n",
      "[Parallel(n_jobs=8)]: Done   2 out of   8 | elapsed:    0.1s remaining:    0.2s\n",
      "[Parallel(n_jobs=8)]: Done   3 out of   8 | elapsed:    0.1s remaining:    0.1s\n",
      "[Parallel(n_jobs=8)]: Done   4 out of   8 | elapsed:    0.1s remaining:    0.1s\n",
      "[Parallel(n_jobs=8)]: Done   5 out of   8 | elapsed:    0.2s remaining:    0.1s\n",
      "[Parallel(n_jobs=8)]: Done   6 out of   8 | elapsed:    0.2s remaining:    0.1s\n",
      "[Parallel(n_jobs=8)]: Done   8 out of   8 | elapsed:    0.3s remaining:    0.0s\n",
      "[Parallel(n_jobs=8)]: Done   8 out of   8 | elapsed:    0.3s finished\n"
     ]
    }
   ],
   "source": [
    "bbc_lr = BalancedBaggingClassifier(base_estimator=lr,n_estimators=100,replacement=False,n_jobs=-1,random_state=0,verbose=10)\n",
    "clf_lr_bbc = GridSearchCV(bbc_lr, param_lr_bbc, cv=10, n_jobs=-1,verbose=10)\n",
    "clf_lr_bbc.fit(X_train, y_train)\n",
    "y_pred_bbc_lr = clf_lr_bbc.predict(X_test_rus)"
   ]
  },
  {
   "cell_type": "code",
   "execution_count": 35,
   "metadata": {
    "collapsed": false
   },
   "outputs": [
    {
     "name": "stdout",
     "output_type": "stream",
     "text": [
      "accuracy LR bagging 0.6460\n",
      "              precision    recall  f1-score   support\n",
      "\n",
      "           0       0.63      0.69      0.66       298\n",
      "           1       0.66      0.60      0.63       298\n",
      "\n",
      "   micro avg       0.65      0.65      0.65       596\n",
      "   macro avg       0.65      0.65      0.65       596\n",
      "weighted avg       0.65      0.65      0.65       596\n",
      "\n",
      "confusion matrix LR bagging\n",
      "[[205  93]\n",
      " [118 180]]\n"
     ]
    }
   ],
   "source": [
    "print(\"accuracy LR bagging {:.4f}\".format(accuracy_score(y_test_rus, y_pred_bbc_lr)))\n",
    "print(\"{}\".format(classification_report(y_test_rus, y_pred_bbc_lr)))\n",
    "print(\"confusion matrix LR bagging\\n{}\".format(confusion_matrix(y_test_rus, y_pred_bbc_lr)))"
   ]
  }
 ],
 "metadata": {
  "kernelspec": {
   "display_name": "Python 3",
   "language": "python",
   "name": "python3"
  },
  "language_info": {
   "codemirror_mode": {
    "name": "ipython",
    "version": 3
   },
   "file_extension": ".py",
   "mimetype": "text/x-python",
   "name": "python",
   "nbconvert_exporter": "python",
   "pygments_lexer": "ipython3",
   "version": "3.6.3"
  }
 },
 "nbformat": 4,
 "nbformat_minor": 2
}
